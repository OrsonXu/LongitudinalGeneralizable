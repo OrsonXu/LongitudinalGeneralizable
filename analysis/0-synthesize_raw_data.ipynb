{
 "cells": [
  {
   "cell_type": "code",
   "execution_count": 4,
   "metadata": {},
   "outputs": [],
   "source": [
    "%matplotlib inline\n",
    "import pandas as pd\n",
    "import numpy as np\n",
    "from copy import deepcopy\n",
    "from matplotlib import pyplot as plt\n",
    "\n",
    "import os\n",
    "import datetime\n",
    "import time\n",
    "import json\n",
    "import pickle\n",
    "import os"
   ]
  },
  {
   "cell_type": "code",
   "execution_count": 6,
   "metadata": {},
   "outputs": [],
   "source": [
    "with open(\"config.json\", \"r\") as f:\n",
    "    config = json.load(f)\n",
    "folder_path = config[\"data_root_path\"]\n",
    "focus_path = folder_path + \"Selection_Group/\" + config[\"label_focus\"]\n",
    "epis_long_to_short = config[\"epis_long_to_short\"]\n",
    "epis = config[\"epis\"]\n",
    "wks = config[\"wks\"]"
   ]
  },
  {
   "cell_type": "code",
   "execution_count": null,
   "metadata": {},
   "outputs": [],
   "source": [
    "if (not os.path.exists(focus_path)):\n",
    "    os.mkdir(focus_path)"
   ]
  },
  {
   "cell_type": "code",
   "execution_count": 7,
   "metadata": {},
   "outputs": [
    {
     "name": "stderr",
     "output_type": "stream",
     "text": [
      "C:\\ProgramPool\\Anaconda\\lib\\site-packages\\IPython\\core\\interactiveshell.py:2728: DtypeWarning: Columns (45,55,58,61,64,67,69,70,71,72,73,74,75,76,82,83,91,173,178,183,188,193,198,203,430,570,572,573,1490,1491,1492,1493,1494,1543,2191,2192,2196,2197,2201,2202,2206,2207,2211,2212,2216,2217,2221,2222,2226,2227,2231,2232,2236,2237,2241,2242,2246,2247,2251,2252,2256,2257,2261,2262,2266,2267,2271,2272,2276,2277,2281,2282,2286,2287,2291,2292,2296,2297,2301,2302,2306,2307,2311,2312,2316,2317,2321,2322,2326,2327,2331,2332) have mixed types. Specify dtype option on import or set low_memory=False.\n",
      "  interactivity=interactivity, compiler=compiler, result=result)\n"
     ]
    }
   ],
   "source": [
    "df_phaseI = pd.read_csv(folder_path + \"aggregated_all_phaseI.csv\")"
   ]
  },
  {
   "cell_type": "code",
   "execution_count": 8,
   "metadata": {},
   "outputs": [
    {
     "name": "stderr",
     "output_type": "stream",
     "text": [
      "C:\\ProgramPool\\Anaconda\\lib\\site-packages\\IPython\\core\\interactiveshell.py:2728: DtypeWarning: Columns (59,61,63,65,99,100,101,102,103,104,105,106,107,108,111,112,192,195,197,200,202,205,207,210,212,215,217,220,222,225,580,592,594,595,1565,1797,1798,1799,1800,1801,1802,1803,1804,1805,1806,1807,1808,1809,1810,1811,1812,1813,1814,1815,1816,1817,1818,1819,1820,1821,1822,1823,1824,1825,1826,1827,1828,1829,1830,1831,1832,1833,1834,1835,1836,1837,1838,1839,1840,1841,1842,1843,1844,1845,1846,1847,1848,1849,1850,1851,1852,1853,1854,1855,1856,1857,1858,1859,1860,1861,1862,1863,1864,1865,1866,2007,2008,2009,2010,2011,2012,2013,2014,2015,2016,2017,2018,2019,2020,2021,2022,2023,2024,2025,2026,2027,2028,2029,2030,2031,2032,2033,2034,2035,2036,2037,2038,2039,2040,2041,2042,2043,2044,2045,2046,2047,2048,2049,2050,2051,2052,2053,2054,2055,2056,2057,2058,2059,2060,2061,2062,2063,2064,2065,2066,2067,2068,2069,2070,2071,2072,2073,2074,2075,2076,2077,2078,2079,2080,2081,2082,2083,2084,2085,2086,2087,2088,2089,2090,2091,2092,2093,2094,2095,2096,2097,2098,2099,2100,2101,2102,2103,2104,2105,2106,2107,2108,2109,2110,2111,2112,2113,2114,2115,2116,2117,2118,2119,2120,2121,2122,2123,2124,2125,2126,2127,2128,2129,2130,2131,2132,2133,2134,2135,2136,2137,2138,2139,2140,2141,2142,2143,2144,2145,2146) have mixed types. Specify dtype option on import or set low_memory=False.\n",
      "  interactivity=interactivity, compiler=compiler, result=result)\n"
     ]
    }
   ],
   "source": [
    "df_phaseII = pd.read_csv(folder_path + \"aggregated_all_phaseII.csv\")"
   ]
  },
  {
   "cell_type": "code",
   "execution_count": 85,
   "metadata": {},
   "outputs": [
    {
     "data": {
      "text/plain": [
       "(228, 6)"
      ]
     },
     "execution_count": 85,
     "metadata": {},
     "output_type": "execute_result"
    }
   ],
   "source": [
    "pid_counts.shape"
   ]
  },
  {
   "cell_type": "code",
   "execution_count": 84,
   "metadata": {},
   "outputs": [
    {
     "name": "stdout",
     "output_type": "stream",
     "text": [
      "9103.2 13695.3\n",
      "92.7 98.5\n",
      "48914.0 137602.5\n",
      "4932.9 2917.5\n",
      "2099.8 8488.8\n",
      "121414.7 64491.3\n"
     ]
    }
   ],
   "source": [
    "df_phaseI_grp = df_phaseII.groupby(\"PID\")\n",
    "cols = [\n",
    "\"f_screen_number_samples_screen_allday\",\n",
    "\"f_call_number_rows_calls_allday\",\n",
    "\"f_blue_number_samples_bluetooth_allday\",\n",
    "\"f_loc_number_samples_location_allday\",\n",
    "\"f_slp_num_samples_sleep_allday\",\n",
    "\"f_steps_num_samples_steps_allday\"]\n",
    "pid_counts = []\n",
    "for i, df_buf in df_phaseI_grp:\n",
    "    if (sum(df_buf[\"BDI_II_POST\"] >= 0) > 0):\n",
    "        pid_counts.append(df_buf[cols].sum().tolist())\n",
    "pid_counts = pd.DataFrame(pid_counts)\n",
    "for i,j in zip(pid_counts.mean(axis = 0), pid_counts.std(axis = 0)):\n",
    "    print(round(i,1), round(j,1))"
   ]
  },
  {
   "cell_type": "code",
   "execution_count": 7,
   "metadata": {},
   "outputs": [],
   "source": [
    "phase_I2II_mapping = pd.read_csv(folder_path + \"PID-mapping.csv\")"
   ]
  },
  {
   "cell_type": "code",
   "execution_count": 10,
   "metadata": {},
   "outputs": [],
   "source": [
    "phase_I2II_mapping = phase_I2II_mapping.reset_index()\n",
    "phase_I2II_mapping.rename({\"index\":\"PID_new\"}, axis = 1, inplace = True)\n",
    "phase_I2II_mapping[\"PID_new\"] += 1"
   ]
  },
  {
   "cell_type": "code",
   "execution_count": 17,
   "metadata": {},
   "outputs": [],
   "source": [
    "overlap_phaseI = list(set(phase_I2II_mapping[\"PhaseI\"].tolist()))\n",
    "overlap_phaseII = list(set(phase_I2II_mapping[\"PhaseII\"].tolist()))"
   ]
  },
  {
   "cell_type": "code",
   "execution_count": 182,
   "metadata": {},
   "outputs": [],
   "source": [
    "df_phaseI_select = deepcopy(df_phaseI[df_phaseI[\"PID\"].apply(lambda x : x in overlap_phaseI)])"
   ]
  },
  {
   "cell_type": "code",
   "execution_count": 169,
   "metadata": {},
   "outputs": [
    {
     "data": {
      "text/plain": [
       "(7950, 2455)"
      ]
     },
     "execution_count": 169,
     "metadata": {},
     "output_type": "execute_result"
    }
   ],
   "source": [
    "df_phaseI_select.shape"
   ]
  },
  {
   "cell_type": "code",
   "execution_count": 183,
   "metadata": {},
   "outputs": [],
   "source": [
    "df_phaseII_select = deepcopy(df_phaseII[df_phaseII[\"PID\"].apply(lambda x : x in overlap_phaseII)])"
   ]
  },
  {
   "cell_type": "code",
   "execution_count": 171,
   "metadata": {},
   "outputs": [
    {
     "data": {
      "text/plain": [
       "(8856, 2267)"
      ]
     },
     "execution_count": 171,
     "metadata": {},
     "output_type": "execute_result"
    }
   ],
   "source": [
    "df_phaseII_select.shape"
   ]
  },
  {
   "cell_type": "code",
   "execution_count": 184,
   "metadata": {},
   "outputs": [],
   "source": [
    "df_phaseI_select[\"PID\"] = df_phaseI_select[\"PID\"].map({r[\"PhaseI\"]:r[\"PID_new\"] for i, r in phase_I2II_mapping.iterrows()})\n",
    "df_phaseII_select[\"PID\"] = df_phaseII_select[\"PID\"].map({r[\"PhaseII\"]:r[\"PID_new\"] for i, r in phase_I2II_mapping.iterrows()})\n",
    "df_phaseI_select[\"PID\"] = df_phaseI_select[\"PID\"].astype(str)\n",
    "df_phaseII_select[\"PID\"] = df_phaseII_select[\"PID\"].astype(str)"
   ]
  },
  {
   "cell_type": "code",
   "execution_count": 185,
   "metadata": {},
   "outputs": [],
   "source": [
    "df_phaseI_select[\"phase\"] = \"I\"\n",
    "df_phaseII_select[\"phase\"] = \"II\"\n",
    "df_phaseI_select[\"wk\"] = df_phaseI_select[\"date\"].apply(lambda x : \"wkdy\" if pd.to_datetime(x).weekday() + 1 < 6 else \"wkend\")\n",
    "df_phaseII_select[\"wk\"] = df_phaseII_select[\"date\"].apply(lambda x : \"wkdy\" if pd.to_datetime(x).weekday() + 1 < 6 else \"wkend\")"
   ]
  },
  {
   "cell_type": "code",
   "execution_count": 186,
   "metadata": {},
   "outputs": [],
   "source": [
    "overlap_cols_ = list(set(df_phaseI_select.columns.tolist()).intersection(set(df_phaseII_select.columns.tolist())))\n",
    "overlap_cols = [x for x in df_phaseI_select.columns.tolist() if x in overlap_cols_]\n",
    "overlap_feature_cols = overlap_cols[:3] + overlap_cols[99:]"
   ]
  },
  {
   "cell_type": "code",
   "execution_count": 187,
   "metadata": {},
   "outputs": [],
   "source": [
    "df_phaseI_select = deepcopy(df_phaseI_select[overlap_feature_cols])\n",
    "df_phaseII_select = deepcopy(df_phaseII_select[overlap_feature_cols])"
   ]
  },
  {
   "cell_type": "code",
   "execution_count": 188,
   "metadata": {},
   "outputs": [],
   "source": [
    "cols = df_phaseII_select.columns.tolist()\n",
    "cols = cols[:3] + cols[-2:] + cols[3:-2]\n",
    "df_phaseI_select = df_phaseI_select[cols]\n",
    "df_phaseII_select = df_phaseII_select[cols]"
   ]
  },
  {
   "cell_type": "code",
   "execution_count": 51,
   "metadata": {},
   "outputs": [],
   "source": [
    "def from_two_cols_to_dict(x):\n",
    "    return {r[0]:r[1] for i, r in x.iterrows()}"
   ]
  },
  {
   "cell_type": "code",
   "execution_count": 102,
   "metadata": {},
   "outputs": [],
   "source": [
    "phaseI_BDI = pd.DataFrame([[k,v] for k,v in from_two_cols_to_dict(df_phaseI_select[[\"PID\",\"BDI_II_POST\"]]).items()],columns = [\"PID\",\"BDI_I\"])\n",
    "phaseII_BDI = pd.DataFrame([[k,v] for k,v in from_two_cols_to_dict(df_phaseII_select[[\"PID\",\"BDI_II_POST\"]]).items()],columns = [\"PID\",\"BDI_II\"])"
   ]
  },
  {
   "cell_type": "code",
   "execution_count": 103,
   "metadata": {},
   "outputs": [],
   "source": [
    "df_BDI = phaseI_BDI.merge(phaseII_BDI, on = \"PID\", how = \"left\")"
   ]
  },
  {
   "cell_type": "code",
   "execution_count": 104,
   "metadata": {},
   "outputs": [],
   "source": [
    "df_BDI = df_BDI[(df_BDI[\"BDI_I\"] != 999) &(~df_BDI[\"BDI_II\"].isna())]"
   ]
  },
  {
   "cell_type": "code",
   "execution_count": 191,
   "metadata": {},
   "outputs": [],
   "source": [
    "df_BDI = df_BDI.sort_values(\"PID\")\n",
    "df_BDI[\"label_I\"] = df_BDI[\"BDI_I\"] < 14\n",
    "df_BDI[\"label_II\"] = df_BDI[\"BDI_II\"] < 14"
   ]
  },
  {
   "cell_type": "code",
   "execution_count": 110,
   "metadata": {},
   "outputs": [
    {
     "data": {
      "text/plain": [
       "24"
      ]
     },
     "execution_count": 110,
     "metadata": {},
     "output_type": "execute_result"
    }
   ],
   "source": [
    "sum(df_BDI[\"BDI_I\"] >= 14)"
   ]
  },
  {
   "cell_type": "code",
   "execution_count": 111,
   "metadata": {},
   "outputs": [
    {
     "data": {
      "text/plain": [
       "27"
      ]
     },
     "execution_count": 111,
     "metadata": {},
     "output_type": "execute_result"
    }
   ],
   "source": [
    "sum(df_BDI[\"BDI_II\"] >= 14)"
   ]
  },
  {
   "cell_type": "code",
   "execution_count": 112,
   "metadata": {},
   "outputs": [
    {
     "data": {
      "text/plain": [
       "17"
      ]
     },
     "execution_count": 112,
     "metadata": {},
     "output_type": "execute_result"
    }
   ],
   "source": [
    "sum((df_BDI[\"BDI_I\"] >= 14) & (df_BDI[\"BDI_II\"] >= 14))"
   ]
  },
  {
   "cell_type": "code",
   "execution_count": 193,
   "metadata": {},
   "outputs": [],
   "source": [
    "pool = {\"data_phaseI\":df_phaseI_select,\n",
    "       \"data_phaseII\":df_phaseII_select,\n",
    "       \"labels\":df_BDI}"
   ]
  },
  {
   "cell_type": "code",
   "execution_count": 194,
   "metadata": {},
   "outputs": [],
   "source": [
    "with open(focus_path + \"raw_data_pool.pkl\", \"wb\") as f:\n",
    "    pickle.dump(pool,f)"
   ]
  },
  {
   "cell_type": "code",
   "execution_count": 204,
   "metadata": {},
   "outputs": [],
   "source": [
    "feature_col_all = df_phaseI_select.columns.tolist()[5:]\n",
    "feature_col_eps = {}\n",
    "for f in feature_col_all:\n",
    "    ep_long = f.split(\"_\")[-1]\n",
    "    if (\"allday\" in ep_long or \"_dis_\" in f):\n",
    "        continue\n",
    "    else:\n",
    "        if (eps_long_to_short[ep_long] not in feature_col_eps):\n",
    "            feature_col_eps[eps_long_to_short[ep_long]] = [f]\n",
    "        else:\n",
    "            feature_col_eps[eps_long_to_short[ep_long]].append(f)\n",
    "            \n",
    "feature_dis_col_eps = {}\n",
    "for f in feature_col_all:\n",
    "    ep_long = f.split(\"_\")[-1]\n",
    "    if (\"allday\" in ep_long or \"_dis_\" not in f):\n",
    "        continue\n",
    "    else:\n",
    "        if (eps_long_to_short[ep_long] not in feature_dis_col_eps):\n",
    "            feature_dis_col_eps[eps_long_to_short[ep_long]] = [f]\n",
    "        else:\n",
    "            feature_dis_col_eps[eps_long_to_short[ep_long]].append(f)\n",
    "with open(folder_path + \"feature_col_eps.json\",\"w\") as f:\n",
    "    json.dump(feature_col_eps,f)\n",
    "with open(folder_path + \"feature_dis_col_eps.json\",\"w\") as f:\n",
    "    json.dump(feature_dis_col_eps,f)"
   ]
  },
  {
   "cell_type": "code",
   "execution_count": 215,
   "metadata": {},
   "outputs": [],
   "source": [
    "symbol_to_int_map_day = {}\n",
    "int_to_symbol_map_day = {}\n",
    "int_to_feature_map_day = {}\n",
    "count = int(1)\n",
    "\n",
    "for ep in eps:\n",
    "    for f,s in zip(feature_col_eps[ep], feature_dis_col_eps[ep]):\n",
    "        symbol_to_int_map_day[s] = {}\n",
    "        symbol_to_int_map_day[s][\"l\"] = count\n",
    "        symbol_to_int_map_day[s][\"m\"] = count + 1\n",
    "        symbol_to_int_map_day[s][\"h\"] = count + 2\n",
    "        int_to_symbol_map_day[count] = s + \"_l\"\n",
    "        int_to_symbol_map_day[count + 1] = s + \"_m\"\n",
    "        int_to_symbol_map_day[count + 2] = s + \"_h\"\n",
    "        int_to_feature_map_day[count] = f\n",
    "        int_to_feature_map_day[count + 1] = f\n",
    "        int_to_feature_map_day[count + 2] = f\n",
    "\n",
    "        count += 3\n",
    "with open(folder_path + \"symbol_to_int_map_day.json\", \"w\") as f:\n",
    "    json.dump(symbol_to_int_map_day, f)\n",
    "with open(folder_path + \"int_to_symbol_map_day.json\", \"w\") as f:\n",
    "    json.dump(int_to_symbol_map_day, f)\n",
    "with open(folder_path + \"int_to_feature_map_day.json\", \"w\") as f:\n",
    "    json.dump(int_to_feature_map_day, f)"
   ]
  },
  {
   "cell_type": "code",
   "execution_count": null,
   "metadata": {},
   "outputs": [],
   "source": []
  },
  {
   "cell_type": "code",
   "execution_count": null,
   "metadata": {},
   "outputs": [],
   "source": []
  }
 ],
 "metadata": {
  "kernelspec": {
   "display_name": "Python 3",
   "language": "python",
   "name": "python3"
  },
  "language_info": {
   "codemirror_mode": {
    "name": "ipython",
    "version": 3
   },
   "file_extension": ".py",
   "mimetype": "text/x-python",
   "name": "python",
   "nbconvert_exporter": "python",
   "pygments_lexer": "ipython3",
   "version": "3.6.4"
  }
 },
 "nbformat": 4,
 "nbformat_minor": 2
}

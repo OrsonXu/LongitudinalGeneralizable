{
 "cells": [
  {
   "cell_type": "code",
   "execution_count": 1,
   "metadata": {},
   "outputs": [],
   "source": [
    "%matplotlib inline\n",
    "import pandas as pd\n",
    "import numpy as np\n",
    "from copy import deepcopy\n",
    "from matplotlib import pyplot as plt\n",
    "\n",
    "import os\n",
    "import datetime\n",
    "import time\n",
    "import json\n",
    "import pickle\n",
    "import os"
   ]
  },
  {
   "cell_type": "code",
   "execution_count": 2,
   "metadata": {},
   "outputs": [],
   "source": [
    "with open(\"config_general.json\", \"r\") as f:\n",
    "    config_general = json.load(f)\n",
    "folder_path = config_general[\"data_root_path\"]\n",
    "epis_long_to_short = config_general[\"epis_long_to_short\"]\n",
    "epis = config_general[\"epis\"]\n",
    "wks = config_general[\"wks\"]"
   ]
  },
  {
   "cell_type": "markdown",
   "metadata": {},
   "source": [
    "## Read the data"
   ]
  },
  {
   "cell_type": "code",
   "execution_count": 3,
   "metadata": {},
   "outputs": [
    {
     "name": "stderr",
     "output_type": "stream",
     "text": [
      "C:\\ProgramPool\\Anaconda\\lib\\site-packages\\IPython\\core\\interactiveshell.py:2728: DtypeWarning: Columns (45,55,58,61,64,67,69,70,71,72,73,74,75,76,82,83,91,173,178,183,188,193,198,203,430,570,572,573,1490,1491,1492,1493,1494,1543,2191,2192,2196,2197,2201,2202,2206,2207,2211,2212,2216,2217,2221,2222,2226,2227,2231,2232,2236,2237,2241,2242,2246,2247,2251,2252,2256,2257,2261,2262,2266,2267,2271,2272,2276,2277,2281,2282,2286,2287,2291,2292,2296,2297,2301,2302,2306,2307,2311,2312,2316,2317,2321,2322,2326,2327,2331,2332) have mixed types. Specify dtype option on import or set low_memory=False.\n",
      "  interactivity=interactivity, compiler=compiler, result=result)\n"
     ]
    }
   ],
   "source": [
    "df_phaseI = pd.read_csv(folder_path + \"aggregated_all_phaseI.csv\")"
   ]
  },
  {
   "cell_type": "code",
   "execution_count": 4,
   "metadata": {},
   "outputs": [
    {
     "name": "stderr",
     "output_type": "stream",
     "text": [
      "C:\\ProgramPool\\Anaconda\\lib\\site-packages\\IPython\\core\\interactiveshell.py:2728: DtypeWarning: Columns (59,61,63,65,99,100,101,102,103,104,105,106,107,108,111,112,192,195,197,200,202,205,207,210,212,215,217,220,222,225,580,592,594,595,1565,1797,1798,1799,1800,1801,1802,1803,1804,1805,1806,1807,1808,1809,1810,1811,1812,1813,1814,1815,1816,1817,1818,1819,1820,1821,1822,1823,1824,1825,1826,1827,1828,1829,1830,1831,1832,1833,1834,1835,1836,1837,1838,1839,1840,1841,1842,1843,1844,1845,1846,1847,1848,1849,1850,1851,1852,1853,1854,1855,1856,1857,1858,1859,1860,1861,1862,1863,1864,1865,1866,2007,2008,2009,2010,2011,2012,2013,2014,2015,2016,2017,2018,2019,2020,2021,2022,2023,2024,2025,2026,2027,2028,2029,2030,2031,2032,2033,2034,2035,2036,2037,2038,2039,2040,2041,2042,2043,2044,2045,2046,2047,2048,2049,2050,2051,2052,2053,2054,2055,2056,2057,2058,2059,2060,2061,2062,2063,2064,2065,2066,2067,2068,2069,2070,2071,2072,2073,2074,2075,2076,2077,2078,2079,2080,2081,2082,2083,2084,2085,2086,2087,2088,2089,2090,2091,2092,2093,2094,2095,2096,2097,2098,2099,2100,2101,2102,2103,2104,2105,2106,2107,2108,2109,2110,2111,2112,2113,2114,2115,2116,2117,2118,2119,2120,2121,2122,2123,2124,2125,2126,2127,2128,2129,2130,2131,2132,2133,2134,2135,2136,2137,2138,2139,2140,2141,2142,2143,2144,2145,2146) have mixed types. Specify dtype option on import or set low_memory=False.\n",
      "  interactivity=interactivity, compiler=compiler, result=result)\n"
     ]
    }
   ],
   "source": [
    "df_phaseII = pd.read_csv(folder_path + \"aggregated_all_phaseII.csv\")"
   ]
  },
  {
   "cell_type": "code",
   "execution_count": 5,
   "metadata": {},
   "outputs": [
    {
     "name": "stderr",
     "output_type": "stream",
     "text": [
      "C:\\ProgramPool\\Anaconda\\lib\\site-packages\\IPython\\core\\interactiveshell.py:2728: DtypeWarning: Columns (358,359,360,361,362,398,399,400,401,402,553) have mixed types. Specify dtype option on import or set low_memory=False.\n",
      "  interactivity=interactivity, compiler=compiler, result=result)\n"
     ]
    }
   ],
   "source": [
    "df_phaseI_uw = pd.read_csv(folder_path + \"aggregated_all_phaseI_uw.csv\")"
   ]
  },
  {
   "cell_type": "markdown",
   "metadata": {},
   "source": [
    "## Common features between CMU Phase I and II"
   ]
  },
  {
   "cell_type": "code",
   "execution_count": 6,
   "metadata": {},
   "outputs": [],
   "source": [
    "with open(folder_path + \"feature_col_epis_cmu.json\", \"r\") as f:\n",
    "    feature_col_epis = json.load(f)\n",
    "feature_cols = [y for x in feature_col_epis.keys() for y in feature_col_epis[x]]\n",
    "feature_cols_sensor = {}\n",
    "for row in feature_cols:\n",
    "    s = row.split(\"_\")\n",
    "    if (s[1] not in feature_cols_sensor):\n",
    "        feature_cols_sensor[s[1]] = [row]\n",
    "    else:\n",
    "        feature_cols_sensor[s[1]].append(row)"
   ]
  },
  {
   "cell_type": "code",
   "execution_count": 7,
   "metadata": {},
   "outputs": [],
   "source": [
    "overlap_cols_ = list(set(df_phaseI.columns.tolist()).intersection(set(df_phaseII.columns.tolist())))\n",
    "overlap_cols = [x for x in df_phaseI.columns.tolist() if x in overlap_cols_]\n",
    "overlap_feature_cols = overlap_cols[:3] + overlap_cols[99:]"
   ]
  },
  {
   "cell_type": "code",
   "execution_count": 8,
   "metadata": {},
   "outputs": [],
   "source": [
    "df_phaseI = deepcopy(df_phaseI[overlap_cols])\n",
    "df_phaseII = deepcopy(df_phaseII[overlap_cols])"
   ]
  },
  {
   "cell_type": "markdown",
   "metadata": {},
   "source": [
    "## Map the CMU and UW features"
   ]
  },
  {
   "cell_type": "code",
   "execution_count": 9,
   "metadata": {},
   "outputs": [],
   "source": [
    "map_cmu_uw = {\n",
    "    \"call\": \"calls\",\n",
    "    \"loc\": \"locations\",\n",
    "    \"locMap\":\"locations\",\n",
    "    \"blue\":\"bluetooth\",\n",
    "    \"screen\":\"screen\",   \n",
    "}"
   ]
  },
  {
   "cell_type": "code",
   "execution_count": 10,
   "metadata": {},
   "outputs": [],
   "source": [
    "feature_mappings_cmu_uw = {}\n",
    "for f_origin in feature_cols:\n",
    "    s = f_origin.split(\"_\")\n",
    "    sensor = s[1]\n",
    "    f_name = \"_\".join(s[2:])\n",
    "    if (sensor in map_cmu_uw):\n",
    "        f_uw = map_cmu_uw[sensor] + \"_\" + f_name\n",
    "        if (f_uw in df_phaseI_uw.columns.tolist()):\n",
    "            feature_mappings_cmu_uw[f_origin] = f_uw\n",
    "feature_mappings_cmu_uw[\"f_steps_sum_steps_allday\"] = \"steps\"\n",
    "feature_mappings_cmu_uw[\"f_slp_sum_length_bout_asleep_allday\"] = \"totalMinutesAsleep\"\n",
    "uw_cmu_rename = {v:k for k,v in feature_mappings_cmu_uw.items()}\n",
    "df_phaseI_uw.rename(uw_cmu_rename, axis = 1, inplace = True)"
   ]
  },
  {
   "cell_type": "code",
   "execution_count": 11,
   "metadata": {},
   "outputs": [
    {
     "data": {
      "text/plain": [
       "294"
      ]
     },
     "execution_count": 11,
     "metadata": {},
     "output_type": "execute_result"
    }
   ],
   "source": [
    "len(uw_cmu_rename)"
   ]
  },
  {
   "cell_type": "code",
   "execution_count": 12,
   "metadata": {},
   "outputs": [],
   "source": [
    "df_phaseI_uw = deepcopy(df_phaseI_uw[[\"PID\", \"date\", \"day\"] + list(feature_mappings_cmu_uw.keys()) + \\\n",
    "                                      df_phaseI_uw.columns.tolist()[459:594] + df_phaseI_uw.columns.tolist()[595:846]])"
   ]
  },
  {
   "cell_type": "code",
   "execution_count": 13,
   "metadata": {},
   "outputs": [
    {
     "data": {
      "text/plain": [
       "(33366, 683)"
      ]
     },
     "execution_count": 13,
     "metadata": {},
     "output_type": "execute_result"
    }
   ],
   "source": [
    "df_phaseI_uw.shape"
   ]
  },
  {
   "cell_type": "markdown",
   "metadata": {},
   "source": [
    "## Add phase and days-of-week columns"
   ]
  },
  {
   "cell_type": "code",
   "execution_count": 14,
   "metadata": {},
   "outputs": [],
   "source": [
    "df_phaseI[\"phase\"] = \"I\"\n",
    "df_phaseII[\"phase\"] = \"II\"\n",
    "df_phaseI[\"wk\"] = df_phaseI[\"date\"].apply(lambda x : \"wkdy\" if pd.to_datetime(x).weekday() + 1 < 6 else \"wkend\")\n",
    "df_phaseII[\"wk\"] = df_phaseII[\"date\"].apply(lambda x : \"wkdy\" if pd.to_datetime(x).weekday() + 1 < 6 else \"wkend\")"
   ]
  },
  {
   "cell_type": "code",
   "execution_count": 15,
   "metadata": {},
   "outputs": [],
   "source": [
    "cols = list(df_phaseI.columns)\n",
    "re_order_cols = cols[:3] + cols[-2:] + cols[3:-2]"
   ]
  },
  {
   "cell_type": "code",
   "execution_count": 16,
   "metadata": {},
   "outputs": [],
   "source": [
    "df_phaseI = deepcopy(df_phaseI[re_order_cols])\n",
    "df_phaseII = deepcopy(df_phaseII[re_order_cols])"
   ]
  },
  {
   "cell_type": "code",
   "execution_count": 17,
   "metadata": {},
   "outputs": [],
   "source": [
    "df_phaseI_grp = df_phaseI.groupby(\"PID\")\n",
    "df_phaseII_grp = df_phaseII.groupby(\"PID\")"
   ]
  },
  {
   "cell_type": "code",
   "execution_count": 18,
   "metadata": {},
   "outputs": [],
   "source": [
    "df_phaseI_uw[\"phase\"] = \"I\"\n",
    "df_phaseI_uw[\"wk\"] = df_phaseI_uw[\"date\"].apply(lambda x : \"wkdy\" if pd.to_datetime(x).weekday() + 1 < 6 else \"wkend\")\n",
    "cols = list(df_phaseI_uw.columns)\n",
    "re_order_cols = cols[:3] + cols[-2:] + cols[3:-2]\n",
    "df_phaseI_uw = deepcopy(df_phaseI_uw[re_order_cols])"
   ]
  },
  {
   "cell_type": "code",
   "execution_count": 19,
   "metadata": {},
   "outputs": [],
   "source": [
    "df_phaseI_uw_grp = df_phaseI_uw.groupby(\"PID\")"
   ]
  },
  {
   "cell_type": "markdown",
   "metadata": {
    "toc-hr-collapsed": true
   },
   "source": [
    "## Extract PID with valid BDI results"
   ]
  },
  {
   "cell_type": "code",
   "execution_count": 20,
   "metadata": {},
   "outputs": [
    {
     "name": "stdout",
     "output_type": "stream",
     "text": [
      "isna\n",
      "isna\n",
      "isna\n",
      "isna\n",
      "isna\n",
      "isna\n",
      "isna\n",
      "isna\n",
      "isna\n",
      "isna\n",
      "isna\n",
      "isna\n",
      "isna\n",
      "isna\n",
      "isna\n",
      "isna\n",
      "isna\n",
      "isna\n",
      "isna\n",
      "isna\n",
      "isna\n",
      "isna\n",
      "isna\n",
      "isna\n",
      "isna\n"
     ]
    }
   ],
   "source": [
    "pid_list_phaseI = []\n",
    "pid_list_phaseII = []\n",
    "pid_list_phaseI_uw = []\n",
    "\n",
    "missing_rate_phaseI = {}\n",
    "missing_rate_phaseII = {}\n",
    "missing_rate_phaseI_uw = {}\n",
    "\n",
    "score_phaseI = []\n",
    "score_phaseII = []\n",
    "score_phaseI_uw = []\n",
    "\n",
    "for grp, df in df_phaseI_grp:    \n",
    "    if (sum(df[\"BDI_II_POST\"].isna()) == 0):\n",
    "        if (max(df[\"BDI_II_POST\"]) < 100):\n",
    "            if ((df[\"BDI_II_POST\"]).mean() != max(df[\"BDI_II_POST\"])):\n",
    "                print(\"shit\")\n",
    "            pid_list_phaseI.append(grp)\n",
    "            missing_rate_phaseI[grp] = {}\n",
    "            for sensor, cols in feature_cols_sensor.items():\n",
    "                missing_rate_phaseI[grp][sensor] = (df[cols].isna().sum(axis = 0) / df[cols].shape[0]).mean()\n",
    "            score_phaseI.append(df[\"BDI_II_POST\"].mean())\n",
    "for grp, df in df_phaseII_grp:\n",
    "    if (sum(df[\"BDI_II_POST\"].isna()) == 0):\n",
    "        if (max(df[\"BDI_II_POST\"]) < 100):\n",
    "            if ((df[\"BDI_II_POST\"]).mean() != max(df[\"BDI_II_POST\"])):\n",
    "                print(\"shit\")\n",
    "            pid_list_phaseII.append(grp)\n",
    "            missing_rate_phaseII[grp] = {}\n",
    "            for sensor, cols in feature_cols_sensor.items():\n",
    "                missing_rate_phaseII[grp][sensor] = (df[cols].isna().sum(axis = 0) / df[cols].shape[0]).mean()\n",
    "            score_phaseII.append(df[\"BDI_II_POST\"].mean())\n",
    "        else:\n",
    "            print(\"100\")\n",
    "    else:\n",
    "        print(\"isna\")\n",
    "for grp, df in df_phaseI_uw_grp:    \n",
    "    if (sum(df[\"BDI_II_POST\"].isna()) == 0):\n",
    "        if (max(df[\"BDI_II_POST\"]) < 100 and max(df[\"BDI_II_POST\"]) > 0):\n",
    "            if ((df[\"BDI_II_POST\"]).mean() != max(df[\"BDI_II_POST\"])):\n",
    "                print(\"shit\")\n",
    "            pid_list_phaseI_uw.append(grp)\n",
    "#             missing_rate_phaseI_uw[grp] = {}\n",
    "#             for sensor, cols in feature_cols_sensor.items():\n",
    "#                 missing_rate_phaseI_uw[grp][sensor] = (df[cols].isna().sum(axis = 0) / df[cols].shape[0]).mean()\n",
    "            score_phaseI_uw.append(df[\"BDI_II_POST\"].mean())"
   ]
  },
  {
   "cell_type": "markdown",
   "metadata": {},
   "source": [
    "### Visualize missing data"
   ]
  },
  {
   "cell_type": "code",
   "execution_count": 21,
   "metadata": {},
   "outputs": [
    {
     "data": {
      "image/png": "[encoded data removed]",
      "text/plain": [
       "<Figure size 864x360 with 8 Axes>"
      ]
     },
     "metadata": {
      "needs_background": "light"
     },
     "output_type": "display_data"
    }
   ],
   "source": [
    "count = 0\n",
    "fig, axes = plt.subplots(ncols = 4, nrows = 2, figsize = (12,5))\n",
    "for sensor in feature_cols_sensor:\n",
    "    ax = axes[count // 4][count % 4]\n",
    "    ax.hist(list([missing_rate_phaseI[x][sensor] for x in missing_rate_phaseI]), alpha = 0.5, bins = 20, color = \"red\", label = \"PhaseI\")\n",
    "    ax.hist(list([missing_rate_phaseII[x][sensor] for x in missing_rate_phaseII]), alpha = 0.5, bins = 20, color = \"blue\", label = \"PhaseII\")\n",
    "    ax.legend()\n",
    "    ax.set_ylabel(\"Count\")\n",
    "    ax.set_xlabel(\"Missing proportion - \" + sensor)\n",
    "    count += 1\n",
    "plt.tight_layout()\n",
    "plt.show()\n",
    "# plt.savefig(\"missing_info.pdf\")"
   ]
  },
  {
   "cell_type": "markdown",
   "metadata": {},
   "source": [
    "### Count feature number (only for CMU now)"
   ]
  },
  {
   "cell_type": "code",
   "execution_count": null,
   "metadata": {},
   "outputs": [],
   "source": [
    "df_phaseI_grp = df_phaseII.groupby(\"PID\")\n",
    "cols = [\n",
    "\"f_screen_number_samples_screen_allday\",\n",
    "\"f_call_number_rows_calls_allday\",\n",
    "\"f_blue_number_samples_bluetooth_allday\",\n",
    "\"f_loc_number_samples_location_allday\",\n",
    "\"f_slp_num_samples_sleep_allday\",\n",
    "\"f_steps_num_samples_steps_allday\"]\n",
    "pid_counts = []\n",
    "for i, df_buf in df_phaseI_grp:\n",
    "    if (sum(df_buf[\"BDI_II_POST\"] >= 0) > 0):\n",
    "        pid_counts.append(df_buf[cols].sum().tolist())\n",
    "pid_counts = pd.DataFrame(pid_counts)\n",
    "for i,j in zip(pid_counts.mean(axis = 0), pid_counts.std(axis = 0)):\n",
    "    print(round(i,1), round(j,1))"
   ]
  },
  {
   "cell_type": "markdown",
   "metadata": {},
   "source": [
    "## Get BDI-valid data"
   ]
  },
  {
   "cell_type": "code",
   "execution_count": 22,
   "metadata": {},
   "outputs": [],
   "source": [
    "df_phaseI_bdivalid = deepcopy(df_phaseI[df_phaseI[\"PID\"].apply(lambda x : x in pid_list_phaseI)])\n",
    "df_phaseII_bdivalid = deepcopy(df_phaseII[df_phaseII[\"PID\"].apply(lambda x : x in pid_list_phaseII)])"
   ]
  },
  {
   "cell_type": "code",
   "execution_count": 23,
   "metadata": {},
   "outputs": [],
   "source": [
    "df_phaseI_uw_bdivalid = deepcopy(df_phaseI_uw[df_phaseI_uw[\"PID\"].apply(lambda x : x in pid_list_phaseI_uw)])"
   ]
  },
  {
   "cell_type": "code",
   "execution_count": 24,
   "metadata": {},
   "outputs": [],
   "source": [
    "df_phaseI_bdivalid[\"PID\"] = df_phaseI_bdivalid[\"PID\"].astype(int)\n",
    "df_phaseII_bdivalid[\"PID\"] = df_phaseII_bdivalid[\"PID\"].astype(int)\n",
    "df_phaseI_uw_bdivalid[\"PID\"] = df_phaseI_uw_bdivalid[\"PID\"].astype(int)"
   ]
  },
  {
   "cell_type": "markdown",
   "metadata": {},
   "source": [
    "## Get overlap between CMU Phase I and II"
   ]
  },
  {
   "cell_type": "code",
   "execution_count": 25,
   "metadata": {},
   "outputs": [],
   "source": [
    "phase_I2II_mapping = pd.read_csv(folder_path + \"PID-mapping.csv\")"
   ]
  },
  {
   "cell_type": "code",
   "execution_count": 26,
   "metadata": {},
   "outputs": [],
   "source": [
    "phase_I2II_mapping = phase_I2II_mapping.reset_index()\n",
    "phase_I2II_mapping.rename({\"index\":\"PID_new\"}, axis = 1, inplace = True)\n",
    "phase_I2II_mapping[\"PID_new\"] += 1"
   ]
  },
  {
   "cell_type": "code",
   "execution_count": 27,
   "metadata": {},
   "outputs": [],
   "source": [
    "overlap_phaseI = list(set(phase_I2II_mapping[\"PhaseI\"].tolist()))\n",
    "overlap_phaseII = list(set(phase_I2II_mapping[\"PhaseII\"].tolist()))"
   ]
  },
  {
   "cell_type": "code",
   "execution_count": 28,
   "metadata": {},
   "outputs": [],
   "source": [
    "df_phaseI_select = deepcopy(df_phaseI_bdivalid[df_phaseI_bdivalid[\"PID\"].apply(lambda x : x in overlap_phaseI)])"
   ]
  },
  {
   "cell_type": "code",
   "execution_count": 29,
   "metadata": {},
   "outputs": [
    {
     "data": {
      "text/plain": [
       "(7844, 2211)"
      ]
     },
     "execution_count": 29,
     "metadata": {},
     "output_type": "execute_result"
    }
   ],
   "source": [
    "df_phaseI_select.shape"
   ]
  },
  {
   "cell_type": "code",
   "execution_count": 30,
   "metadata": {},
   "outputs": [],
   "source": [
    "df_phaseII_select = deepcopy(df_phaseII_bdivalid[df_phaseII_bdivalid[\"PID\"].apply(lambda x : x in overlap_phaseII)])"
   ]
  },
  {
   "cell_type": "code",
   "execution_count": 31,
   "metadata": {},
   "outputs": [
    {
     "data": {
      "text/plain": [
       "(8424, 2211)"
      ]
     },
     "execution_count": 31,
     "metadata": {},
     "output_type": "execute_result"
    }
   ],
   "source": [
    "df_phaseII_select.shape"
   ]
  },
  {
   "cell_type": "code",
   "execution_count": 32,
   "metadata": {},
   "outputs": [],
   "source": [
    "df_phaseI_select[\"PID\"] = df_phaseI_select[\"PID\"].map({r[\"PhaseI\"]:r[\"PID_new\"] for i, r in phase_I2II_mapping.iterrows()})\n",
    "df_phaseII_select[\"PID\"] = df_phaseII_select[\"PID\"].map({r[\"PhaseII\"]:r[\"PID_new\"] for i, r in phase_I2II_mapping.iterrows()})\n",
    "df_phaseI_select[\"PID\"] = df_phaseI_select[\"PID\"].astype(int)\n",
    "df_phaseII_select[\"PID\"] = df_phaseII_select[\"PID\"].astype(int)"
   ]
  },
  {
   "cell_type": "markdown",
   "metadata": {},
   "source": [
    "### Remove the overlap students from CMU phase II"
   ]
  },
  {
   "cell_type": "code",
   "execution_count": 33,
   "metadata": {},
   "outputs": [],
   "source": [
    "df_phaseII_bdivalid = deepcopy(df_phaseII_bdivalid[df_phaseII_bdivalid[\"PID\"].apply(lambda x : x not in overlap_phaseII)])"
   ]
  },
  {
   "cell_type": "code",
   "execution_count": 34,
   "metadata": {},
   "outputs": [
    {
     "data": {
      "text/plain": [
       "(16200, 2211)"
      ]
     },
     "execution_count": 34,
     "metadata": {},
     "output_type": "execute_result"
    }
   ],
   "source": [
    "df_phaseII_bdivalid.shape"
   ]
  },
  {
   "cell_type": "markdown",
   "metadata": {},
   "source": [
    "## Get BDI data"
   ]
  },
  {
   "cell_type": "code",
   "execution_count": 35,
   "metadata": {},
   "outputs": [],
   "source": [
    "def from_two_cols_to_dict(x):\n",
    "    return {r[0]:r[1] for i, r in x.iterrows()}"
   ]
  },
  {
   "cell_type": "code",
   "execution_count": 36,
   "metadata": {},
   "outputs": [],
   "source": [
    "phaseI_BDI_bdivalid = pd.DataFrame([[k,v] for k,v in from_two_cols_to_dict(df_phaseI_bdivalid[[\"PID\",\"BDI_II_POST\"]]).items()],columns = [\"PID\",\"BDI\"])\n",
    "phaseI_BDI_bdivalid[\"label\"] = phaseI_BDI_bdivalid[\"BDI\"] < 14\n",
    "phaseI_BDI_bdivalid[\"PID\"] = phaseI_BDI_bdivalid[\"PID\"].astype(int)"
   ]
  },
  {
   "cell_type": "code",
   "execution_count": 37,
   "metadata": {},
   "outputs": [],
   "source": [
    "phaseII_BDI_bdivalid = pd.DataFrame([[k,v] for k,v in from_two_cols_to_dict(df_phaseII_bdivalid[[\"PID\",\"BDI_II_POST\"]]).items()],columns = [\"PID\",\"BDI\"])\n",
    "phaseII_BDI_bdivalid[\"label\"] = phaseII_BDI_bdivalid[\"BDI\"] < 14\n",
    "phaseII_BDI_bdivalid[\"PID\"] = phaseII_BDI_bdivalid[\"PID\"].astype(int)"
   ]
  },
  {
   "cell_type": "code",
   "execution_count": 38,
   "metadata": {},
   "outputs": [],
   "source": [
    "phaseI_uw_BDI_bdivalid = pd.DataFrame([[k,v] for k,v in from_two_cols_to_dict(df_phaseI_uw_bdivalid[[\"PID\",\"BDI_II_POST\"]]).items()],columns = [\"PID\",\"BDI\"])\n",
    "phaseI_uw_BDI_bdivalid[\"label\"] = phaseI_uw_BDI_bdivalid[\"BDI\"] < 14\n",
    "phaseI_uw_BDI_bdivalid[\"PID\"] = phaseI_uw_BDI_bdivalid[\"PID\"].astype(int)"
   ]
  },
  {
   "cell_type": "code",
   "execution_count": 39,
   "metadata": {},
   "outputs": [],
   "source": [
    "phaseI_BDI_select = pd.DataFrame([[k,v] for k,v in from_two_cols_to_dict(df_phaseI_select[[\"PID\",\"BDI_II_POST\"]]).items()],columns = [\"PID\",\"BDI\"])\n",
    "phaseI_BDI_select[\"label\"] = phaseI_BDI_select[\"BDI\"] < 14\n",
    "phaseI_BDI_select[\"PID\"] = phaseI_BDI_select[\"PID\"].astype(int)"
   ]
  },
  {
   "cell_type": "code",
   "execution_count": 40,
   "metadata": {},
   "outputs": [],
   "source": [
    "phaseII_BDI_select = pd.DataFrame([[k,v] for k,v in from_two_cols_to_dict(df_phaseII_select[[\"PID\",\"BDI_II_POST\"]]).items()],columns = [\"PID\",\"BDI\"])\n",
    "phaseII_BDI_select[\"label\"] = phaseII_BDI_select[\"BDI\"] < 14\n",
    "phaseII_BDI_select[\"PID\"] = phaseII_BDI_select[\"PID\"].astype(int)"
   ]
  },
  {
   "cell_type": "code",
   "execution_count": 41,
   "metadata": {},
   "outputs": [],
   "source": [
    "common_pid = list(set(phaseII_BDI_select[\"PID\"].tolist()).intersection(set(phaseI_BDI_select[\"PID\"].tolist())))"
   ]
  },
  {
   "cell_type": "code",
   "execution_count": 42,
   "metadata": {},
   "outputs": [],
   "source": [
    "phaseI_BDI_select = phaseI_BDI_select[phaseI_BDI_select[\"PID\"].apply(lambda x : x in common_pid)]\n",
    "phaseII_BDI_select = phaseII_BDI_select[phaseII_BDI_select[\"PID\"].apply(lambda x : x in common_pid)]"
   ]
  },
  {
   "cell_type": "code",
   "execution_count": 47,
   "metadata": {},
   "outputs": [
    {
     "data": {
      "text/plain": [
       "24"
      ]
     },
     "execution_count": 47,
     "metadata": {},
     "output_type": "execute_result"
    }
   ],
   "source": [
    "sum(phaseI_BDI_select[\"BDI\"] >= 14)"
   ]
  },
  {
   "cell_type": "code",
   "execution_count": 49,
   "metadata": {},
   "outputs": [
    {
     "data": {
      "text/plain": [
       "27"
      ]
     },
     "execution_count": 49,
     "metadata": {},
     "output_type": "execute_result"
    }
   ],
   "source": [
    "sum(phaseII_BDI_select[\"BDI\"] >= 14)"
   ]
  },
  {
   "cell_type": "code",
   "execution_count": 198,
   "metadata": {},
   "outputs": [
    {
     "data": {
      "text/plain": [
       "17"
      ]
     },
     "execution_count": 198,
     "metadata": {},
     "output_type": "execute_result"
    }
   ],
   "source": [
    "sum((df_BDI[\"BDI_I\"] >= 14) & (df_BDI[\"BDI_II\"] >= 14))"
   ]
  },
  {
   "cell_type": "markdown",
   "metadata": {},
   "source": [
    "## Save all"
   ]
  },
  {
   "cell_type": "code",
   "execution_count": 50,
   "metadata": {},
   "outputs": [
    {
     "data": {
      "text/plain": [
       "(68, 3)"
      ]
     },
     "execution_count": 50,
     "metadata": {},
     "output_type": "execute_result"
    }
   ],
   "source": [
    "phaseII_BDI_select.shape"
   ]
  },
  {
   "cell_type": "code",
   "execution_count": 51,
   "metadata": {},
   "outputs": [],
   "source": [
    "pool = {\n",
    "       \"data_phaseI_bdivalid\": {\"data\": df_phaseI_bdivalid, \"label\": phaseI_BDI_bdivalid},\n",
    "       \"data_phaseII_bdivalid\": {\"data\": df_phaseII_bdivalid, \"label\": phaseII_BDI_bdivalid},\n",
    "       \"data_phaseI_overlap\": {\"data\": df_phaseI_select, \"label\": phaseI_BDI_select},\n",
    "       \"data_phaseII_overlap\": {\"data\": df_phaseII_select, \"label\": phaseII_BDI_select},\n",
    "       \"data_phaseI_uw_bdivalid\": {\"data\": df_phaseI_uw_bdivalid, \"label\": phaseI_uw_BDI_bdivalid}\n",
    "}"
   ]
  },
  {
   "cell_type": "code",
   "execution_count": 52,
   "metadata": {},
   "outputs": [],
   "source": [
    "with open(folder_path + \"/raw_data_pool.pkl\", \"wb\") as f:\n",
    "    pickle.dump(pool,f)"
   ]
  },
  {
   "cell_type": "markdown",
   "metadata": {},
   "source": [
    "## Auxiliary code (run once)"
   ]
  },
  {
   "cell_type": "code",
   "execution_count": 421,
   "metadata": {},
   "outputs": [],
   "source": [
    "eps_long_to_short = {\n",
    "    \"morning\":\"mo\",\n",
    "    \"afternoon\":\"af\",\n",
    "    \"evening\":\"ev\",\n",
    "    \"night\":\"ni\"\n",
    "}"
   ]
  },
  {
   "cell_type": "code",
   "execution_count": 422,
   "metadata": {},
   "outputs": [
    {
     "ename": "KeyError",
     "evalue": "'midday1'",
     "output_type": "error",
     "traceback": [
      "\u001b[1;31m---------------------------------------------------------------------------\u001b[0m",
      "\u001b[1;31mKeyError\u001b[0m                                  Traceback (most recent call last)",
      "\u001b[1;32m<ipython-input-422-8d1bc3725d36>\u001b[0m in \u001b[0;36m<module>\u001b[1;34m()\u001b[0m\n\u001b[0;32m      6\u001b[0m         \u001b[1;32mcontinue\u001b[0m\u001b[1;33m\u001b[0m\u001b[0m\n\u001b[0;32m      7\u001b[0m     \u001b[1;32melse\u001b[0m\u001b[1;33m:\u001b[0m\u001b[1;33m\u001b[0m\u001b[0m\n\u001b[1;32m----> 8\u001b[1;33m         \u001b[1;32mif\u001b[0m \u001b[1;33m(\u001b[0m\u001b[0meps_long_to_short\u001b[0m\u001b[1;33m[\u001b[0m\u001b[0mep_long\u001b[0m\u001b[1;33m]\u001b[0m \u001b[1;32mnot\u001b[0m \u001b[1;32min\u001b[0m \u001b[0mfeature_col_epis\u001b[0m\u001b[1;33m)\u001b[0m\u001b[1;33m:\u001b[0m\u001b[1;33m\u001b[0m\u001b[0m\n\u001b[0m\u001b[0;32m      9\u001b[0m             \u001b[0mfeature_col_epis\u001b[0m\u001b[1;33m[\u001b[0m\u001b[0meps_long_to_short\u001b[0m\u001b[1;33m[\u001b[0m\u001b[0mep_long\u001b[0m\u001b[1;33m]\u001b[0m\u001b[1;33m]\u001b[0m \u001b[1;33m=\u001b[0m \u001b[1;33m[\u001b[0m\u001b[0mf\u001b[0m\u001b[1;33m]\u001b[0m\u001b[1;33m\u001b[0m\u001b[0m\n\u001b[0;32m     10\u001b[0m         \u001b[1;32melse\u001b[0m\u001b[1;33m:\u001b[0m\u001b[1;33m\u001b[0m\u001b[0m\n",
      "\u001b[1;31mKeyError\u001b[0m: 'midday1'"
     ]
    }
   ],
   "source": [
    "feature_col_all = df_phaseI_select.columns.tolist()[5:]\n",
    "feature_col_epis = {}\n",
    "for f in feature_col_all:\n",
    "    ep_long = f.split(\"_\")[-1]\n",
    "    if (\"allday\" in ep_long or \"_dis_\" in f):\n",
    "        continue\n",
    "    else:\n",
    "        if (eps_long_to_short[ep_long] not in feature_col_epis):\n",
    "            feature_col_epis[eps_long_to_short[ep_long]] = [f]\n",
    "        else:\n",
    "            feature_col_epis[eps_long_to_short[ep_long]].append(f)\n",
    "            \n",
    "feature_dis_col_epis = {}\n",
    "for f in feature_col_all:\n",
    "    ep_long = f.split(\"_\")[-1]\n",
    "    if (\"allday\" in ep_long or \"_dis_\" not in f):\n",
    "        continue\n",
    "    else:\n",
    "        if (eps_long_to_short[ep_long] not in feature_dis_col_epis):\n",
    "            feature_dis_col_epis[eps_long_to_short[ep_long]] = [f]\n",
    "        else:\n",
    "            feature_dis_col_epis[eps_long_to_short[ep_long]].append(f)\n",
    "# with open(folder_path + \"feature_col_epis.json\",\"w\") as f:\n",
    "#     json.dump(feature_col_epis,f)\n",
    "# with open(folder_path + \"feature_dis_col_epis.json\",\"w\") as f:\n",
    "#     json.dump(feature_dis_col_epis,f)"
   ]
  },
  {
   "cell_type": "code",
   "execution_count": 426,
   "metadata": {},
   "outputs": [],
   "source": [
    "feature_col_epis_cmu_uw = {}\n",
    "for f in feature_mappings_cmu_uw.keys():\n",
    "    ep_long = f.split(\"_\")[-1]\n",
    "    if (\"allday\" in ep_long or \"_dis_\" in f):\n",
    "        if (\"slp\" in f):\n",
    "            feature_col_epis_cmu_uw[\"ni\"].append(f)\n",
    "        else:\n",
    "            feature_col_epis_cmu_uw[\"ev\"].append(f)\n",
    "    else:\n",
    "        if (eps_long_to_short[ep_long] not in feature_col_epis_cmu_uw):\n",
    "            feature_col_epis_cmu_uw[eps_long_to_short[ep_long]] = [f]\n",
    "        else:\n",
    "            feature_col_epis_cmu_uw[eps_long_to_short[ep_long]].append(f)\n",
    "with open(folder_path + \"feature_col_epis_cmu_uw.json\",\"w\") as f:\n",
    "    json.dump(feature_col_epis_cmu_uw,f)"
   ]
  },
  {
   "cell_type": "code",
   "execution_count": 215,
   "metadata": {},
   "outputs": [],
   "source": [
    "symbol_to_int_map_day = {}\n",
    "int_to_symbol_map_day = {}\n",
    "int_to_feature_map_day = {}\n",
    "count = int(1)\n",
    "\n",
    "for ep in eps:\n",
    "    for f,s in zip(feature_col_eps[ep], feature_dis_col_eps[ep]):\n",
    "        symbol_to_int_map_day[s] = {}\n",
    "        symbol_to_int_map_day[s][\"l\"] = count\n",
    "        symbol_to_int_map_day[s][\"m\"] = count + 1\n",
    "        symbol_to_int_map_day[s][\"h\"] = count + 2\n",
    "        int_to_symbol_map_day[count] = s + \"_l\"\n",
    "        int_to_symbol_map_day[count + 1] = s + \"_m\"\n",
    "        int_to_symbol_map_day[count + 2] = s + \"_h\"\n",
    "        int_to_feature_map_day[count] = f\n",
    "        int_to_feature_map_day[count + 1] = f\n",
    "        int_to_feature_map_day[count + 2] = f\n",
    "\n",
    "        count += 3\n",
    "with open(folder_path + \"symbol_to_int_map_day.json\", \"w\") as f:\n",
    "    json.dump(symbol_to_int_map_day, f)\n",
    "with open(folder_path + \"int_to_symbol_map_day.json\", \"w\") as f:\n",
    "    json.dump(int_to_symbol_map_day, f)\n",
    "with open(folder_path + \"int_to_feature_map_day.json\", \"w\") as f:\n",
    "    json.dump(int_to_feature_map_day, f)"
   ]
  },
  {
   "cell_type": "code",
   "execution_count": null,
   "metadata": {},
   "outputs": [],
   "source": []
  },
  {
   "cell_type": "code",
   "execution_count": 10,
   "metadata": {},
   "outputs": [],
   "source": [
    "from scipy import stats\n",
    "import random"
   ]
  },
  {
   "cell_type": "code",
   "execution_count": 5,
   "metadata": {},
   "outputs": [],
   "source": [
    "n = 137\n",
    "p1 = 0.60\n",
    "p2 = 0.58"
   ]
  },
  {
   "cell_type": "code",
   "execution_count": 33,
   "metadata": {},
   "outputs": [],
   "source": [
    "l1 = list(np.zeros(int(p1*n))) + list(np.ones(n - int(p1*n)))\n",
    "l2 = list(np.zeros(int(p2*n))) + list(np.ones(n - int(p2*n)))"
   ]
  },
  {
   "cell_type": "code",
   "execution_count": 31,
   "metadata": {},
   "outputs": [],
   "source": [
    "random.shuffle(l1)\n",
    "random.shuffle(l2)"
   ]
  },
  {
   "cell_type": "code",
   "execution_count": 34,
   "metadata": {},
   "outputs": [
    {
     "data": {
      "text/plain": [
       "Ttest_relResult(statistic=-1.7449286860508042, pvalue=0.08325611909353986)"
      ]
     },
     "execution_count": 34,
     "metadata": {},
     "output_type": "execute_result"
    }
   ],
   "source": [
    "stats.ttest_rel(l1,l2)"
   ]
  },
  {
   "cell_type": "code",
   "execution_count": null,
   "metadata": {},
   "outputs": [],
   "source": []
  }
 ],
 "metadata": {
  "kernelspec": {
   "display_name": "Python 3",
   "language": "python",
   "name": "python3"
  },
  "language_info": {
   "codemirror_mode": {
    "name": "ipython",
    "version": 3
   },
   "file_extension": ".py",
   "mimetype": "text/x-python",
   "name": "python",
   "nbconvert_exporter": "python",
   "pygments_lexer": "ipython3",
   "version": "3.6.4"
  }
 },
 "nbformat": 4,
 "nbformat_minor": 2
}

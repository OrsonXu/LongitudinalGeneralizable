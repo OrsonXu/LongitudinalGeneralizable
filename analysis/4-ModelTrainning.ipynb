{
 "cells": [
  {
   "cell_type": "code",
   "execution_count": 1,
   "metadata": {},
   "outputs": [],
   "source": [
    "%matplotlib inline\n",
    "import pandas as pd\n",
    "import numpy as np\n",
    "from copy import deepcopy\n",
    "from matplotlib import pyplot as plt\n",
    "\n",
    "import os\n",
    "import datetime\n",
    "import time\n",
    "import json\n",
    "import pickle\n",
    "import os\n",
    "import ast\n",
    "import textwrap\n",
    "\n",
    "NAFILL = -999"
   ]
  },
  {
   "cell_type": "code",
   "execution_count": 2,
   "metadata": {},
   "outputs": [],
   "source": [
    "with open(\"config_general.json\", \"r\") as f:\n",
    "    config_general = json.load(f)\n",
    "folder_path = config_general[\"data_root_path\"]\n",
    "epis_long_to_short = config_general[\"epis_long_to_short\"]\n",
    "epis = config_general[\"epis\"]\n",
    "wks = config_general[\"wks\"]"
   ]
  },
  {
   "cell_type": "code",
   "execution_count": 3,
   "metadata": {},
   "outputs": [],
   "source": [
    "with open(folder_path + \"raw_data_pool.pkl\", \"rb\") as f:\n",
    "    raw_data_pool = pickle.load(f)"
   ]
  },
  {
   "cell_type": "code",
   "execution_count": 31,
   "metadata": {},
   "outputs": [],
   "source": [
    "config_specific_filename = \"config_specific_cmu_two_overlap.json\""
   ]
  },
  {
   "cell_type": "code",
   "execution_count": 32,
   "metadata": {},
   "outputs": [
    {
     "name": "stdout",
     "output_type": "stream",
     "text": [
      "{'label_focus': 'BDI', 'phaseI_name': 'data_phaseI_overlap', 'phaseII_name': 'data_phaseII_overlap', 'feature_col_epis_filename': 'feature_col_epis_cmu.json', 'feature_dis_col_epis_filename': 'feature_dis_col_epis_cmu.json', 'mutual_info_num_feature': 100, 'coorelation_filtering_threshold': 0.5}\n"
     ]
    }
   ],
   "source": [
    "with open(config_specific_filename, \"r\") as f:\n",
    "    config_specific = json.load(f)\n",
    "print(config_specific)"
   ]
  },
  {
   "cell_type": "code",
   "execution_count": 33,
   "metadata": {},
   "outputs": [],
   "source": [
    "focus_path = folder_path + \"Selection_Group/\" + config_specific[\"label_focus\"] + \"/\""
   ]
  },
  {
   "cell_type": "code",
   "execution_count": 34,
   "metadata": {},
   "outputs": [],
   "source": [
    "df_phaseI_data = raw_data_pool[config_specific[\"phaseI_name\"]][\"data\"]\n",
    "df_phaseI_label = raw_data_pool[config_specific[\"phaseI_name\"]][\"label\"]\n",
    "df_phaseI_label = df_phaseI_label.set_index(\"PID\")\n",
    "df_phaseII_data = raw_data_pool[config_specific[\"phaseII_name\"]][\"data\"]\n",
    "df_phaseII_label = raw_data_pool[config_specific[\"phaseII_name\"]][\"label\"]\n",
    "df_phaseII_label = df_phaseII_label.set_index(\"PID\")"
   ]
  },
  {
   "cell_type": "code",
   "execution_count": 35,
   "metadata": {},
   "outputs": [],
   "source": [
    "with open(folder_path + config_specific[\"feature_dis_col_epis_filename\"],\"r\") as f:\n",
    "    feature_dis_col_epis = json.load(f)\n",
    "with open(folder_path + config_specific[\"feature_col_epis_filename\"],\"r\") as f:\n",
    "    feature_col_epis = json.load(f)\n",
    "with open(folder_path + \"symbol_to_int_map_day.json\", \"r\") as f:\n",
    "    symbol_to_int_map_day = json.load(f)\n",
    "with open(folder_path + \"int_to_symbol_map_day.json\", \"r\") as f:\n",
    "    int_to_symbol_map_day = json.load(f)\n",
    "with open(folder_path + \"int_to_feature_map_day.json\", \"r\") as f:\n",
    "    int_to_feature_map_day = json.load(f)"
   ]
  },
  {
   "cell_type": "code",
   "execution_count": 36,
   "metadata": {},
   "outputs": [],
   "source": [
    "with open(focus_path + \"top_features.json\", \"r\") as f:\n",
    "    top_features = json.load(f)\n",
    "with open(focus_path + \"top_features_with_aggregation.json\", \"r\") as f:\n",
    "    top_features_with_aggregation = json.load(f)\n",
    "    \n",
    "# with open(focus_path + \"top_features_raw.json\", \"r\") as f:\n",
    "#     top_features = json.load(f)\n",
    "# with open(focus_path + \"top_features_raw.json\", \"r\") as f:\n",
    "#     top_features_with_aggregation = json.load(f)"
   ]
  },
  {
   "cell_type": "code",
   "execution_count": 37,
   "metadata": {},
   "outputs": [],
   "source": [
    "PID_list_grp1_phaseI = df_phaseI_label[df_phaseI_label[\"label\"] & ~df_phaseI_label[\"BDI\"].isna()].index.tolist()\n",
    "PID_list_grp2_phaseI = df_phaseI_label[~df_phaseI_label[\"label\"] & ~df_phaseI_label[\"BDI\"].isna()].index.tolist()\n",
    "PID_list_grp1_phaseII = df_phaseII_label[df_phaseII_label[\"label\"] & ~df_phaseII_label[\"BDI\"].isna()].index.tolist()\n",
    "PID_list_grp2_phaseII = df_phaseII_label[~df_phaseII_label[\"label\"]& ~df_phaseII_label[\"BDI\"].isna()].index.tolist()"
   ]
  },
  {
   "cell_type": "code",
   "execution_count": 38,
   "metadata": {},
   "outputs": [
    {
     "name": "stdout",
     "output_type": "stream",
     "text": [
      "68 68\n"
     ]
    }
   ],
   "source": [
    "print(len(PID_list_grp1_phaseI + PID_list_grp2_phaseI)\n",
    "    ,len(PID_list_grp1_phaseII + PID_list_grp2_phaseII))"
   ]
  },
  {
   "cell_type": "code",
   "execution_count": 39,
   "metadata": {},
   "outputs": [
    {
     "name": "stdout",
     "output_type": "stream",
     "text": [
      "157\n"
     ]
    }
   ],
   "source": [
    "count = 0\n",
    "for wk in wks:\n",
    "    for epi in epis:\n",
    "        count += len(top_features_with_aggregation[wk][epi])\n",
    "print(count)"
   ]
  },
  {
   "cell_type": "code",
   "execution_count": 14,
   "metadata": {},
   "outputs": [],
   "source": [
    "def obtain_unimodal_feature_full(df_data):\n",
    "    df_unimodal_asso = {}\n",
    "    for wk in wks:\n",
    "        df_unimodal_asso[wk] = {}\n",
    "        for epi in epis:\n",
    "            print(wk,epi)\n",
    "\n",
    "            df_unimodal_asso[wk][epi] = pd.DataFrame()\n",
    "#             df_buf = deepcopy(df_data)\n",
    "            tfeatures = top_features[wk][epi]\n",
    "            tfeatures = [x.replace(\"_\" + wk, \"\") for x in tfeatures]\n",
    "#             df_unimodal = deepcopy(df_data[df_data[\"wk\"] == wk][[\"PID\"] + tfeatures])\n",
    "            df_unimodal = deepcopy(df_data[df_data[\"wk\"] == wk][[\"PID\"] + feature_col_epis[epi]])\n",
    "            df_unimodal[\"PID\"] = df_unimodal[\"PID\"].astype(int)\n",
    "            df_unimodal_mean = df_unimodal.groupby(\"PID\").mean()\n",
    "#             df_unimodal_mean.columns = [\"mean_\" + y + \"_\" + wk for y in tfeatures]\n",
    "            df_unimodal_mean.columns = [\"mean_\" + y + \"_\" + wk for y in feature_col_epis[epi]]\n",
    "\n",
    "            df_unimodal_std = df_unimodal.groupby(\"PID\").std()\n",
    "#             df_unimodal_std.columns = [\"std_\" + y + \"_\" + wk for y in tfeatures]\n",
    "            df_unimodal_std.columns = [\"std_\" + y + \"_\" + wk for y in feature_col_epis[epi]]\n",
    "\n",
    "            df_unimodal_mean_norm = (df_unimodal_mean - df_unimodal_mean.mean()) / df_unimodal_mean.std()\n",
    "            df_unimodal_std_norm = (df_unimodal_std - df_unimodal_std.mean()) / df_unimodal_std.std()\n",
    "            df_unimodal_mean_std = df_unimodal_mean_norm.merge(df_unimodal_std_norm, how = \"outer\", left_index=True, right_index=True)\n",
    "            \n",
    "            df_unimodal_asso[wk][epi] = deepcopy(df_unimodal_mean_std[top_features_with_aggregation[wk][epi]])\n",
    "#             df_unimodal_asso[wk][epi] = deepcopy(df_unimodal_mean_std)\n",
    "\n",
    "\n",
    "    df_unimodal_asso_combined = pd.DataFrame()\n",
    "    for wk in wks:\n",
    "        for epi in epis:\n",
    "            if (df_unimodal_asso_combined.shape[0] == 0):\n",
    "                df_unimodal_asso_combined = deepcopy(df_unimodal_asso[wk][epi])\n",
    "            else:\n",
    "                df_unimodal_asso_combined = df_unimodal_asso_combined.merge(df_unimodal_asso[wk][epi], how = \"outer\", left_index=True, right_index=True)\n",
    "    return df_unimodal_asso_combined\n",
    "\n",
    "def obtain_unimodal_feature(df_data, include_mean_std = True):\n",
    "    df_unimodal_asso = {}\n",
    "    for wk in wks:\n",
    "        df_unimodal_asso[wk] = {}\n",
    "        for epi in epis:\n",
    "            print(wk,epi)\n",
    "\n",
    "            df_unimodal_asso[wk][epi] = pd.DataFrame()\n",
    "#             df_buf = deepcopy(df_data)\n",
    "            tfeatures = top_features[wk][epi]\n",
    "            tfeatures = [x.replace(\"_\" + wk, \"\") for x in tfeatures]\n",
    "            df_unimodal = deepcopy(df_data[df_data[\"wk\"] == wk][[\"PID\"] + tfeatures])\n",
    "#             df_unimodal = deepcopy(df_data[df_data[\"wk\"] == wk][[\"PID\"] + feature_col_epis[epi]])\n",
    "            df_unimodal[\"PID\"] = df_unimodal[\"PID\"].astype(int)\n",
    "            df_unimodal_mean = df_unimodal.groupby(\"PID\").mean()\n",
    "            df_unimodal_mean.columns = [\"mean_\" + y + \"_\" + wk for y in tfeatures]\n",
    "#             df_unimodal_mean.columns = [\"mean_\" + y + \"_\" + wk for y in feature_col_epis[epi]]\n",
    "\n",
    "            df_unimodal_std = df_unimodal.groupby(\"PID\").std()\n",
    "            df_unimodal_std.columns = [\"std_\" + y + \"_\" + wk for y in tfeatures]\n",
    "#             df_unimodal_std.columns = [\"std_\" + y + \"_\" + wk for y in feature_col_epis[epi]]\n",
    "    \n",
    "            df_unimodal_mean_norm = (df_unimodal_mean - df_unimodal_mean.mean()) / df_unimodal_mean.std()\n",
    "            df_unimodal_std_norm = (df_unimodal_std - df_unimodal_std.mean()) / df_unimodal_std.std()\n",
    "            df_unimodal_mean_std = df_unimodal_mean_norm.merge(df_unimodal_std_norm, how = \"outer\", left_index=True, right_index=True)\n",
    "            \n",
    "            if (include_mean_std):\n",
    "                df_unimodal_asso[wk][epi] = deepcopy(df_unimodal_mean_std)\n",
    "            else:\n",
    "                df_unimodal_asso[wk][epi] = deepcopy(df_unimodal_mean_std[top_features_with_aggregation[wk][epi]])\n",
    "\n",
    "\n",
    "    df_unimodal_asso_combined = pd.DataFrame()\n",
    "    for wk in wks:\n",
    "        for epi in epis:\n",
    "            if (df_unimodal_asso_combined.shape[0] == 0):\n",
    "                df_unimodal_asso_combined = deepcopy(df_unimodal_asso[wk][epi])\n",
    "            else:\n",
    "                df_unimodal_asso_combined = df_unimodal_asso_combined.merge(df_unimodal_asso[wk][epi], how = \"outer\", left_index=True, right_index=True)\n",
    "    return df_unimodal_asso_combined"
   ]
  },
  {
   "cell_type": "code",
   "execution_count": 15,
   "metadata": {},
   "outputs": [],
   "source": [
    "def obtain_contextual_feature_from_rule(df_data):\n",
    "    df_multimodal_asso = {}\n",
    "    for wk in wks:\n",
    "        df_multimodal_asso[wk] = {}\n",
    "        for epi in epis:\n",
    "            print(wk,epi)\n",
    "            ruleset1 = pd.read_csv(focus_path + \"SPMF_select/\" + \"asso_rule_straight_\" + wk + \"_\" + epi + \".csv\")\n",
    "            ruleset2 = pd.read_csv(focus_path + \"SPMF_select/\" + \"asso_rule_nostraight_\" + wk + \"_\" + epi + \".csv\")\n",
    "            ruleset = pd.concat([ruleset1, ruleset2])\n",
    "            ruleset.reset_index(drop = True, inplace = True)\n",
    "            ruleset[\"X\"] = ruleset[\"X\"].apply(lambda x : ast.literal_eval(x))\n",
    "            ruleset[\"Y\"] = ruleset[\"Y\"].apply(lambda x : ast.literal_eval(x))\n",
    "\n",
    "            df_multimodal_asso[wk][epi] = pd.DataFrame()\n",
    "            df_buf = deepcopy(df_data)\n",
    "\n",
    "            for rule_idx, rule in ruleset.iterrows():\n",
    "                index_flag = True\n",
    "                for x in rule[\"X\"]:\n",
    "                    dis_label_col = int_to_symbol_map_day[x][:-2] \n",
    "                    dis_label = int_to_symbol_map_day[x][-1]\n",
    "                    index_flag = index_flag & (df_buf[dis_label_col] == dis_label)\n",
    "                feature_columns = [int_to_feature_map_day[y] for y in rule[\"Y\"]]\n",
    "                feature_columns_name = [y + \"_\" + wk + \"_\" + epi + \"_rule\" + str(rule_idx) for y in feature_columns]\n",
    "\n",
    "                df_multimodal = df_buf[index_flag][[\"PID\"] + feature_columns]\n",
    "                df_multimodal_mean = df_multimodal.groupby(\"PID\").mean()\n",
    "                df_multimodal_mean.columns = [\"mean_\" + y for y in feature_columns_name]\n",
    "                \n",
    "                df_multimodal_std = df_multimodal.groupby(\"PID\").std()\n",
    "                df_multimodal_std.columns = [\"std_\" + y for y in feature_columns_name]\n",
    "                \n",
    "                df_multimodal_mean_norm = (df_multimodal_mean - df_multimodal_mean.mean()) / df_multimodal_mean.std()\n",
    "                df_multimodal_std_norm = (df_multimodal_std - df_multimodal_std.mean()) / df_multimodal_std.std()\n",
    "            \n",
    "                df_multimodal_mean_std = df_multimodal_mean_norm.merge(df_multimodal_std_norm, how = \"outer\", left_index=True, right_index=True)\n",
    "    #             df_multimodal_mean_std = deepcopy(df_multimodal_mean)\n",
    "                df_multimodal_mean_std = (df_multimodal_mean_std-df_multimodal_mean_std.mean())/df_multimodal_mean_std.std()\n",
    "                if (df_multimodal_asso[wk][epi].shape[0] == 0):\n",
    "                    df_multimodal_asso[wk][epi] = deepcopy(df_multimodal_mean_std)\n",
    "                else:\n",
    "                    df_multimodal_asso[wk][epi] = df_multimodal_asso[wk][epi].merge(df_multimodal_mean_std, how = \"outer\", left_index=True, right_index=True)\n",
    "    #         df_multimodal_features[wk][epi] = deepcopy(df_multimodal_asso[wk][epi].columns)\n",
    "\n",
    "    df_multimodal_asso_combined = pd.DataFrame()\n",
    "    for wk in wks:\n",
    "        for epi in epis:\n",
    "            if (df_multimodal_asso_combined.shape[0] == 0):\n",
    "                df_multimodal_asso_combined = deepcopy(df_multimodal_asso[wk][epi])\n",
    "            else:\n",
    "                df_multimodal_asso_combined = df_multimodal_asso_combined.merge(df_multimodal_asso[wk][epi], how = \"outer\", left_index=True, right_index=True)\n",
    "    return df_multimodal_asso_combined"
   ]
  },
  {
   "cell_type": "code",
   "execution_count": 40,
   "metadata": {},
   "outputs": [
    {
     "name": "stdout",
     "output_type": "stream",
     "text": [
      "wkdy mo\n",
      "wkdy af\n",
      "wkdy ev\n",
      "wkdy ni\n",
      "wkend mo\n",
      "wkend af\n",
      "wkend ev\n",
      "wkend ni\n",
      "wkdy mo\n",
      "wkdy af\n",
      "wkdy ev\n",
      "wkdy ni\n",
      "wkend mo\n",
      "wkend af\n",
      "wkend ev\n",
      "wkend ni\n"
     ]
    }
   ],
   "source": [
    "df_unimodal_asso_combined_phaseI = obtain_unimodal_feature(df_phaseI_data,include_mean_std=False)\n",
    "df_unimodal_asso_combined_phaseII = obtain_unimodal_feature(df_phaseII_data,include_mean_std=False)\n",
    "# df_unimodal_asso_combined_phaseI = obtain_unimodal_feature_full(df_phaseI_data)\n",
    "# df_unimodal_asso_combined_phaseII = obtain_unimodal_feature_full(df_phaseII_data)\n",
    "df_unimodal_asso_combined_phaseI = df_unimodal_asso_combined_phaseI.loc[df_phaseI_label[~df_phaseI_label[\"BDI\"].isna()].index]\n",
    "df_unimodal_asso_combined_phaseII = df_unimodal_asso_combined_phaseII.loc[df_phaseII_label[~df_phaseII_label[\"BDI\"].isna()].index]\n",
    "df_unimodal_asso_combined_phaseI.to_csv(focus_path + \"X_unimodal_phaseI.csv\")\n",
    "df_unimodal_asso_combined_phaseII.to_csv(focus_path + \"X_unimodal_phaseII.csv\")"
   ]
  },
  {
   "cell_type": "code",
   "execution_count": 41,
   "metadata": {},
   "outputs": [
    {
     "name": "stdout",
     "output_type": "stream",
     "text": [
      "wkdy mo\n",
      "wkdy af\n",
      "wkdy ev\n",
      "wkdy ni\n",
      "wkend mo\n",
      "wkend af\n",
      "wkend ev\n",
      "wkend ni\n",
      "wkdy mo\n",
      "wkdy af\n",
      "wkdy ev\n",
      "wkdy ni\n",
      "wkend mo\n",
      "wkend af\n",
      "wkend ev\n",
      "wkend ni\n"
     ]
    }
   ],
   "source": [
    "df_multimodal_asso_combined_phaseI = obtain_contextual_feature_from_rule(df_phaseI_data)\n",
    "df_multimodal_asso_combined_phaseII = obtain_contextual_feature_from_rule(df_phaseII_data)\n",
    "df_multimodal_asso_combined_phaseI = df_multimodal_asso_combined_phaseI.loc[df_phaseI_label[~df_phaseI_label[\"BDI\"].isna()].index]\n",
    "df_multimodal_asso_combined_phaseII = df_multimodal_asso_combined_phaseII.loc[df_phaseII_label[~df_phaseII_label[\"BDI\"].isna()].index]\n",
    "df_multimodal_asso_combined_phaseI.to_csv(focus_path + \"X_contextual_phaseI.csv\")\n",
    "df_multimodal_asso_combined_phaseII.to_csv(focus_path + \"X_contextual_phaseII.csv\")"
   ]
  },
  {
   "cell_type": "markdown",
   "metadata": {},
   "source": [
    "# Train & Test"
   ]
  },
  {
   "cell_type": "code",
   "execution_count": 19,
   "metadata": {},
   "outputs": [],
   "source": [
    "from sklearn.model_selection import LeaveOneOut\n",
    "from sklearn.model_selection import cross_validate\n",
    "from sklearn.metrics import recall_score\n",
    "from sklearn.metrics import accuracy_score\n",
    "from sklearn.metrics import confusion_matrix\n",
    "from sklearn.metrics import balanced_accuracy_score\n",
    "from sklearn import tree\n",
    "from sklearn import svm\n",
    "from sklearn import ensemble\n",
    "from sklearn import linear_model\n",
    "import sklearn\n",
    "import xgboost"
   ]
  },
  {
   "cell_type": "code",
   "execution_count": 20,
   "metadata": {},
   "outputs": [],
   "source": [
    "def get_clf(ctype, n_estimators = 10, max_depth = -1, max_leaf_nodes = -1, C = -1):\n",
    "    if (ctype == \"adaboost\"):\n",
    "        if (max_depth == -1):\n",
    "            clf = ensemble.AdaBoostClassifier(n_estimators = n_estimators,\n",
    "                                          base_estimator = tree.DecisionTreeClassifier(\n",
    "#                                               max_depth= 5),\n",
    "                                              max_leaf_nodes = max_leaf_nodes),\n",
    "                                          learning_rate = 0.001)\n",
    "        else:\n",
    "            clf = ensemble.AdaBoostClassifier(n_estimators = n_estimators,\n",
    "                                          base_estimator = tree.DecisionTreeClassifier(\n",
    "                                              max_depth= max_depth),\n",
    "#                                               max_leaf_nodes = max_leaf_nodes),\n",
    "                                          learning_rate = 0.001)\n",
    "    elif (ctype == \"svm\"):\n",
    "        clf = svm.SVC(kernel='rbf', C=C)\n",
    "    elif (ctype == \"dt\"):\n",
    "        if (max_depth == -1):\n",
    "            clf = tree.DecisionTreeClassifier(max_leaf_nodes = max_leaf_nodes)\n",
    "        else:\n",
    "            clf = tree.DecisionTreeClassifier(max_depth = max_depth)\n",
    "    return clf\n",
    "\n",
    "def train_test(ctype, X,X_II,Y,Y_II,n_estimators = 10, max_depth = -1, max_leaf_nodes = -1, C = -1, ablation = False):\n",
    "    clf = get_clf(ctype, n_estimators, max_depth, max_leaf_nodes, C)\n",
    "\n",
    "    results = {}\n",
    "    iter_round = 0\n",
    "\n",
    "    XX = deepcopy(X)\n",
    "    init = 1\n",
    "\n",
    "    importance_index = range(len(XX.columns))\n",
    "    while (True):\n",
    "        iter_round += 1\n",
    "        print(XX.shape)\n",
    "        train_acc = []\n",
    "        test_acc = []\n",
    "        y_pred_list = []\n",
    "        y_test_list = []\n",
    "        loo = LeaveOneOut()\n",
    "\n",
    "        for train_index, test_index in loo.split(XX):\n",
    "            X_train, X_test = XX.iloc[train_index,:], XX.iloc[test_index,:]\n",
    "            Y_train, Y_test = Y.iloc[train_index], Y.iloc[test_index]\n",
    "            a = clf.fit(X_train,Y_train)\n",
    "            y_pred = a.predict(X_test)\n",
    "            y_pred_list.append(y_pred[0])\n",
    "            y_test_list.append(Y_test.iloc[0])\n",
    "            train_acc.append(accuracy_score(a.predict(X_train),Y_train))\n",
    "            test_acc.append(accuracy_score(y_pred,Y_test))\n",
    "            \n",
    "        # retrain to obtain a subset feature\n",
    "        confusion_mx = confusion_matrix(y_test_list,y_pred_list)\n",
    "        results[iter_round] = {}\n",
    "        results[iter_round][\"train_acc\"] = np.mean(train_acc)\n",
    "        results[iter_round][\"test_acc\"] = np.mean(test_acc)\n",
    "        results[iter_round][\"confusion_matrix\"] = deepcopy(confusion_mx)\n",
    "        results[iter_round][\"test_acc_bal\"] = balanced_accuracy_score(y_true = y_test_list,\n",
    "                                                                      y_pred = y_pred_list)\n",
    "\n",
    "        a = clf.fit(XX,Y)\n",
    "        # ablation\n",
    "        if (ctype == \"adaboost\" and not ablation):\n",
    "            importance = a.feature_importances_\n",
    "            importance_index_new = np.array([idx for idx, x in enumerate(importance) if x > 0])\n",
    "            if (init == 1):\n",
    "                init = 0\n",
    "                for ite in range(10):\n",
    "                    b = clf.fit(XX,Y)\n",
    "                    print(len(importance_index_new), end=\", \")\n",
    "                    importance = b.feature_importances_\n",
    "                    importance_index_new_add = np.array([idx for idx, x in enumerate(importance) if x > 0])\n",
    "                    importance_index_new = np.array(list(set(importance_index_new).union(set(importance_index_new_add))))\n",
    "            print(len(importance_index_new))\n",
    "\n",
    "        else:\n",
    "            importance_index_new = importance_index\n",
    "        if (len(importance_index) == 1 or len(importance_index_new) == len(importance_index)):\n",
    "#             if (len(importance_index) == 1):\n",
    "#                 y_pred_phaseII = a.predict(X_II.fillna(NAFILL)[np.array(XX.columns.tolist())[importance_index]])\n",
    "#             else:\n",
    "            y_pred_phaseII = a.predict(X_II.fillna(NAFILL)[np.array(XX.columns.tolist())[importance_index_new]])\n",
    "            results[iter_round][\"test_acc_phaseII\"] = accuracy_score(Y_II,y_pred_phaseII)\n",
    "            results[iter_round][\"test_acc_bal_phaseII\"] = balanced_accuracy_score(y_true = Y_II,\n",
    "                                                                                  y_pred = y_pred_phaseII)\n",
    "            results[iter_round][\"confusion_matrix_phaseII\"] = confusion_matrix(Y_II,y_pred_phaseII)\n",
    "            print(\"train acc phase1: \", results[iter_round][\"train_acc\"],\n",
    "                  \"test acc phase1: \", results[iter_round][\"test_acc\"], \" \", results[iter_round][\"test_acc_bal\"],\n",
    "                  \"phase2: \", results[iter_round][\"test_acc_phaseII\"], \" \", results[iter_round][\"test_acc_bal_phaseII\"])\n",
    "            break\n",
    "        else:\n",
    "            results[iter_round][\"importance_feature\"] = deepcopy(np.array(XX.columns.tolist())[importance_index_new])\n",
    "            print(importance_index_new)\n",
    "            importance_index = deepcopy(importance_index_new)\n",
    "            XX = X[np.array(XX.columns.tolist())[importance_index]]\n",
    "            print(\"train acc \", results[iter_round][\"train_acc\"],\n",
    "                  \" test acc \", results[iter_round][\"test_acc\"],\n",
    "                  \" test acc bal \", results[iter_round][\"test_acc_bal\"])\n",
    "    return results"
   ]
  },
  {
   "cell_type": "markdown",
   "metadata": {
    "toc-hr-collapsed": false
   },
   "source": [
    "## Unimodal Filtered"
   ]
  },
  {
   "cell_type": "code",
   "execution_count": 42,
   "metadata": {},
   "outputs": [],
   "source": [
    "X_phaseI_unimodal = pd.read_csv(focus_path + \"X_unimodal_phaseI.csv\")\n",
    "X_phaseI_unimodal[\"PID\"] = X_phaseI_unimodal[\"PID\"].astype(int)\n",
    "X_phaseI_unimodal = X_phaseI_unimodal.set_index(\"PID\")\n",
    "Y_phaseI = df_phaseI_label[~df_phaseI_label[\"BDI\"].isna()][\"label\"]\n",
    "X_phaseII_unimodal = pd.read_csv(focus_path + \"X_unimodal_phaseII.csv\")\n",
    "X_phaseII_unimodal[\"PID\"] = X_phaseII_unimodal[\"PID\"].astype(int)\n",
    "X_phaseII_unimodal = X_phaseII_unimodal.set_index(\"PID\")\n",
    "Y_phaseII = df_phaseII_label[~df_phaseII_label[\"BDI\"].isna()][\"label\"]"
   ]
  },
  {
   "cell_type": "code",
   "execution_count": 43,
   "metadata": {},
   "outputs": [
    {
     "data": {
      "text/plain": [
       "(68, 157)"
      ]
     },
     "execution_count": 43,
     "metadata": {},
     "output_type": "execute_result"
    }
   ],
   "source": [
    "X_phaseI_unimodal.shape"
   ]
  },
  {
   "cell_type": "code",
   "execution_count": 217,
   "metadata": {},
   "outputs": [],
   "source": [
    "df = (X_phaseI_unimodal.iloc[:,:8].fillna(NAFILL))#.apply(lambda x : x.astype(int))\n",
    "df = df.rename({x:\"f\" + str(y + 1) for y, x in enumerate(list(X_phaseII_unimodal.columns))}, axis = 1)\n",
    "df = df.merge(pd.DataFrame(Y_phaseI), left_index = True, right_index = True)\n",
    "df = df.applymap(lambda x : np.abs(round(x,5)))\n",
    "# df = df.rename({\"label_I\":\"class\"}, axis = 1)\n",
    "df = df.sort_values(\"label_I\")\n",
    "df[\"class\"] = df[\"label_I\"].apply(lambda x : \"pos\" if x else \"neg\")\n",
    "df.drop(\"label_I\",axis=1,inplace=True)\n",
    "df.to_csv(focus_path + \"cmu_phaseI.csv\",index = False)"
   ]
  },
  {
   "cell_type": "code",
   "execution_count": 50,
   "metadata": {},
   "outputs": [
    {
     "data": {
      "image/png": "[encoded data removed]",
      "text/plain": [
       "<Figure size 1080x432 with 8 Axes>"
      ]
     },
     "metadata": {
      "needs_background": "light"
     },
     "output_type": "display_data"
    }
   ],
   "source": [
    "for i, col in enumerate(list(a)):\n",
    "    j = i % 8\n",
    "    if (j == 0):\n",
    "        if (i > 0):\n",
    "            plt.tight_layout()\n",
    "            plt.show()\n",
    "        fig, axes = plt.subplots(ncols = 4, nrows = 2, figsize = (15,6))\n",
    "    ax = axes[j//4][j%4]\n",
    "#     X_phaseI_unimodal.loc[Y_phaseI.index[Y_phaseI]][col].hist(ax = ax, alpha = 0.3, color = \"blue\", label = \"cmu-nodep\", bins = 20)\n",
    "#     X_phaseI_unimodal.loc[Y_phaseI.index[~Y_phaseI]][col].hist(ax = ax, alpha = 0.3, color = \"green\", label = \"cmu-dep\", bins = 20)\n",
    "    X_phaseII_unimodal.loc[Y_phaseII.index[Y_phaseII]][col].hist(ax = ax, alpha = 0.3, color = \"red\", label = \"uw-nodep\", bins = 20)\n",
    "    X_phaseII_unimodal.loc[Y_phaseII.index[~Y_phaseII]][col].hist(ax = ax, alpha = 0.3, color = \"yellow\", label = \"uw-dep\", bins = 20)\n",
    "#     ax.legend()\n",
    "    ax.set_title(\"\\n\".join(textwrap.wrap(col,20)))"
   ]
  },
  {
   "cell_type": "code",
   "execution_count": 33,
   "metadata": {},
   "outputs": [],
   "source": [
    "training_unimoal_results_depth_I = deepcopy(training_unimoal_results_depth)"
   ]
  },
  {
   "cell_type": "code",
   "execution_count": 27,
   "metadata": {},
   "outputs": [],
   "source": [
    "training_unimoal_results_depth_II = deepcopy(training_unimoal_results_depth)"
   ]
  },
  {
   "cell_type": "code",
   "execution_count": 34,
   "metadata": {},
   "outputs": [
    {
     "data": {
      "text/plain": [
       "{'confusion_matrix': array([[33, 23],\n",
       "        [19, 62]], dtype=int64),\n",
       " 'importance_feature': array(['std_f_screen_unlocks_per_minute_afternoon_wkdy',\n",
       "        'std_f_blue_num_scans_of_least_frequent_device_of_others_morning_wkend',\n",
       "        'std_f_loc_min_len_stay_at_clusters_in_minutes_local_afternoon_wkend',\n",
       "        'std_f_blue_number_unique_devices_of_self_afternoon_wkend',\n",
       "        'mean_f_loc_circadian_movement_evening_wkend'], dtype='<U72'),\n",
       " 'test_acc': 0.6934306569343066,\n",
       " 'train_acc': 0.8569665092314297}"
      ]
     },
     "execution_count": 34,
     "metadata": {},
     "output_type": "execute_result"
    }
   ],
   "source": [
    "training_unimoal_results_depth_I[10][3][1]"
   ]
  },
  {
   "cell_type": "code",
   "execution_count": 35,
   "metadata": {},
   "outputs": [],
   "source": [
    "a = set(training_unimoal_results_depth_I[10][3][1][\"importance_feature\"])"
   ]
  },
  {
   "cell_type": "code",
   "execution_count": 29,
   "metadata": {},
   "outputs": [],
   "source": [
    "b = set(training_unimoal_results_depth_II[10][4][7][\"importance_feature\"])"
   ]
  },
  {
   "cell_type": "code",
   "execution_count": 36,
   "metadata": {},
   "outputs": [],
   "source": [
    "features_from_two_phases = list(a.union(b))"
   ]
  },
  {
   "cell_type": "code",
   "execution_count": 54,
   "metadata": {},
   "outputs": [],
   "source": [
    "X_phaseI_unimodal = X_phaseI_unimodal[list(a)]"
   ]
  },
  {
   "cell_type": "code",
   "execution_count": 51,
   "metadata": {},
   "outputs": [],
   "source": [
    "X_phaseII_unimodal = X_phaseII_unimodal[list(a)]"
   ]
  },
  {
   "cell_type": "code",
   "execution_count": null,
   "metadata": {},
   "outputs": [],
   "source": []
  },
  {
   "cell_type": "code",
   "execution_count": 63,
   "metadata": {},
   "outputs": [
    {
     "data": {
      "text/plain": [
       "{1: {1: {1: {'confusion_matrix': array([[34, 22],\n",
       "           [22, 59]], dtype=int64),\n",
       "    'importance_feature': array(['std_f_screen_unlocks_per_minute_afternoon_wkdy'], dtype='<U71'),\n",
       "    'test_acc': 0.6788321167883211,\n",
       "    'test_acc_bal': 0.6677689594356261,\n",
       "    'train_acc': 0.7154358093602403},\n",
       "   2: {'confusion_matrix': array([[34, 22],\n",
       "           [22, 59]], dtype=int64),\n",
       "    'confusion_matrix_phaseII': array([[27, 21],\n",
       "           [51, 51]], dtype=int64),\n",
       "    'test_acc': 0.6788321167883211,\n",
       "    'test_acc_bal': 0.6677689594356261,\n",
       "    'test_acc_bal_phaseII': 0.53125,\n",
       "    'test_acc_phaseII': 0.52,\n",
       "    'train_acc': 0.7154358093602403}}}}"
      ]
     },
     "execution_count": 63,
     "metadata": {},
     "output_type": "execute_result"
    }
   ],
   "source": [
    "training_unimoal_results_depth"
   ]
  },
  {
   "cell_type": "code",
   "execution_count": 37,
   "metadata": {},
   "outputs": [
    {
     "name": "stdout",
     "output_type": "stream",
     "text": [
      "depth\n",
      "5 2\n",
      "(68, 152)\n",
      "[  4 136  10 107  74  14  50 114  53]\n",
      "train acc  0.8309920983318702  test acc  0.5147058823529411  test acc bal  0.4734848484848485\n",
      "(68, 9)\n",
      "[0 4 6 7 8]\n",
      "train acc  0.8129938542581212  test acc  0.5294117647058824  test acc bal  0.47537878787878785\n",
      "(68, 5)\n",
      "[0 1 2 3]\n",
      "train acc  0.8107989464442494  test acc  0.75  test acc bal  0.731060606060606\n",
      "(68, 4)\n",
      "train acc phase1:  0.8088235294117647 test acc phase1:  0.75   0.731060606060606 phase2:  0.6029411764705882   0.544263775971093\n",
      "5 3\n",
      "(68, 152)\n",
      "[  4 136  10 107  74  14  50 114  53  60]\n",
      "train acc  0.9293239683933274  test acc  0.5147058823529411  test acc bal  0.4640151515151515\n",
      "(68, 10)\n",
      "[1 3 4 5 6 7 8 9]\n",
      "train acc  0.9198858647936787  test acc  0.6617647058823529  test acc bal  0.625\n",
      "(68, 8)\n",
      "[1 2 4 5 6 7]\n",
      "train acc  0.9212028094820017  test acc  0.6911764705882353  test acc bal  0.6666666666666667\n",
      "(68, 6)\n",
      "train acc phase1:  0.9135206321334505 test acc phase1:  0.7941176470588235   0.7651515151515151 phase2:  0.5441176470588235   0.508130081300813\n",
      "5 4\n",
      "(68, 152)\n",
      "[  4   5 136  74  78 145 151  30 107  60  50  53  57 122 123 124]\n",
      "train acc  0.9958296751536435  test acc  0.5588235294117647  test acc bal  0.5170454545454546\n",
      "(68, 16)\n",
      "[ 3  5  7  8  9 10 11 13]\n",
      "train acc  0.9995610184372256  test acc  0.7941176470588235  test acc bal  0.7651515151515151\n",
      "(68, 8)\n",
      "train acc phase1:  1.0 test acc phase1:  0.8529411764705882   0.8295454545454546 phase2:  0.5735294117647058   0.513550135501355\n",
      "leaf\n",
      "5 3\n",
      "(68, 152)\n",
      "[50 74]\n",
      "train acc  0.7971905179982441  test acc  0.47058823529411764  test acc bal  0.4015151515151515\n",
      "(68, 2)\n",
      "train acc phase1:  0.7941176470588236 test acc phase1:  0.7352941176470589   0.7102272727272727 phase2:  0.6029411764705882   0.544263775971093\n",
      "5 4\n",
      "(68, 152)\n",
      "[50 74 60]\n",
      "train acc  0.8582089552238805  test acc  0.5294117647058824  test acc bal  0.4659090909090909\n",
      "(68, 3)\n",
      "train acc phase1:  0.8529411764705882 test acc phase1:  0.7794117647058824   0.7348484848484849 phase2:  0.6029411764705882   0.537940379403794\n",
      "5 5\n",
      "(68, 152)\n",
      "[74 50 60 30]\n",
      "train acc  0.9150570676031606  test acc  0.5147058823529411  test acc bal  0.4640151515151515\n",
      "(68, 4)\n",
      "train acc phase1:  0.8970588235294119 test acc phase1:  0.8235294117647058   0.768939393939394 phase2:  0.5588235294117647   0.48238482384823844\n",
      "5 6\n",
      "(68, 152)\n",
      "[ 74 107  50  60  30]\n",
      "train acc  0.9528094820017557  test acc  0.5294117647058824  test acc bal  0.47537878787878785\n",
      "(68, 5)\n",
      "train acc phase1:  0.9411764705882351 test acc phase1:  0.8529411764705882   0.8200757575757576 phase2:  0.5735294117647058   0.513550135501355\n",
      "5 7\n",
      "(68, 152)\n",
      "[ 74 107  50 122  60  30]\n",
      "train acc  0.9741000877963126  test acc  0.5441176470588235  test acc bal  0.4962121212121212\n",
      "(68, 6)\n",
      "train acc phase1:  0.9712467076382794 test acc phase1:  0.8382352941176471   0.8087121212121212 phase2:  0.5735294117647058   0.513550135501355\n",
      "5 8\n",
      "(68, 152)\n",
      "[  4 136  10  74 107  14  50 114  53 122  60  30]\n",
      "train acc  0.9896839332748023  test acc  0.5294117647058824  test acc bal  0.4943181818181818\n",
      "(68, 12)\n",
      "[ 0  2  3  4  6  8  9 10 11]\n",
      "train acc  0.9828797190517998  test acc  0.6764705882352942  test acc bal  0.6268939393939393\n",
      "(68, 9)\n",
      "[0 2 3 4 5 6 7 8]\n",
      "train acc  0.9855136084284458  test acc  0.7941176470588235  test acc bal  0.7462121212121212\n",
      "(68, 8)\n",
      "train acc phase1:  0.9888059701492535 test acc phase1:  0.8235294117647058   0.7973484848484849 phase2:  0.5735294117647058   0.513550135501355\n"
     ]
    }
   ],
   "source": [
    "training_unimoal_results_depth = {}\n",
    "training_unimoal_results_leaf = {}\n",
    "for n_estimators in [5]:\n",
    "    training_unimoal_results_depth[n_estimators] = {}\n",
    "    training_unimoal_results_leaf[n_estimators] = {}\n",
    "    print(\"depth\")\n",
    "    for max_depth in [2,3,4]:\n",
    "#     for max_depth in [2]:\n",
    "        print(n_estimators,max_depth)\n",
    "        r = train_test(\"adaboost\",\n",
    "                       X_phaseI_unimodal.fillna(NAFILL),\n",
    "                       X_phaseII_unimodal.fillna(NAFILL),\n",
    "                       Y_phaseI,\n",
    "                       Y_phaseII,\n",
    "                       n_estimators=n_estimators,\n",
    "                       max_depth=max_depth)\n",
    "        training_unimoal_results_depth[n_estimators][max_depth] = deepcopy(r)\n",
    "    print(\"leaf\")\n",
    "    for max_leaf in [3,4,5,6,7,8]:\n",
    "#     for max_leaf in [1]:\n",
    "        print(n_estimators,max_leaf)\n",
    "        r = train_test(\"adaboost\",\n",
    "                       X_phaseI_unimodal.fillna(NAFILL),\n",
    "                       X_phaseII_unimodal.fillna(NAFILL),\n",
    "                       Y_phaseI,\n",
    "                       Y_phaseII,\n",
    "                       n_estimators=n_estimators,\n",
    "                       max_leaf_nodes=max_leaf)\n",
    "        training_unimoal_results_leaf[n_estimators][max_leaf] = deepcopy(r)\n",
    "# with open(focus_path + \"unimodal_train_result_trainI_testII.pkl\", \"wb\") as f:\n",
    "#     pickle.dump({\"depth\":training_unimoal_results_depth,\"leaf\":training_unimoal_results_leaf},f)"
   ]
  },
  {
   "cell_type": "code",
   "execution_count": 43,
   "metadata": {},
   "outputs": [
    {
     "name": "stdout",
     "output_type": "stream",
     "text": [
      "depth\n",
      "5 2\n",
      "(68, 152)\n",
      "2, 2, 2, 2, 2, 2, 2, 2, 2, 2, 2\n",
      "[ 18 138]\n",
      "train acc  0.8549165935030729  test acc  0.47058823529411764  test acc bal  0.44715447154471544\n",
      "(68, 2)\n",
      "2\n",
      "train acc phase1:  0.8235294117647058 test acc phase1:  0.8088235294117647   0.7592592592592593 phase2:  0.5588235294117647   0.4507575757575758\n",
      "5 3\n",
      "(68, 152)\n",
      "3, 3, 3, 3, 3, 3, 3, 3, 3, 3, 3\n",
      "[ 96  18 138]\n",
      "train acc  0.9330553116769097  test acc  0.5735294117647058  test acc bal  0.54516711833785\n",
      "(68, 3)\n",
      "3\n",
      "train acc phase1:  0.8953028972783142 test acc phase1:  0.7647058823529411   0.7479674796747967 phase2:  0.6029411764705882   0.5132575757575758\n",
      "5 4\n",
      "(68, 152)\n",
      "4, 4, 4, 4, 4, 4, 4, 4, 4, 4, 4\n",
      "[ 96  42 138  18]\n",
      "train acc  0.9705882352941176  test acc  0.5441176470588235  test acc bal  0.520776874435411\n",
      "(68, 4)\n",
      "4\n",
      "train acc phase1:  0.9271290605794559 test acc phase1:  0.7794117647058824   0.7538392050587173 phase2:  0.5441176470588235   0.4962121212121212\n",
      "leaf\n",
      "5 3\n",
      "(68, 152)\n",
      "2, 2, 2, 2, 2, 2, 2, 2, 2, 2, 2\n",
      "[ 18 138]\n",
      "train acc  0.8448200175592625  test acc  0.4264705882352941  test acc bal  0.3915989159891599\n",
      "(68, 2)\n",
      "2\n",
      "train acc phase1:  0.8235294117647058 test acc phase1:  0.8088235294117647   0.7592592592592593 phase2:  0.5588235294117647   0.4507575757575758\n",
      "5 4\n",
      "(68, 152)\n",
      "3, 3, 3, 3, 3, 3, 3, 3, 3, 3, 3\n",
      "[ 96  18 138]\n",
      "train acc  0.9064969271290607  test acc  0.5588235294117647  test acc bal  0.5266485998193315\n",
      "(68, 3)\n",
      "3\n",
      "train acc phase1:  0.8917910447761194 test acc phase1:  0.7352941176470589   0.7109304426377596 phase2:  0.6029411764705882   0.5132575757575758\n",
      "5 5\n",
      "(68, 152)\n",
      "4, 4, 4, 4, 4, 4, 4, 4, 4, 4, 4\n",
      "[ 96  42 138  18]\n",
      "train acc  0.9435908691834944  test acc  0.5441176470588235  test acc bal  0.514453477868112\n",
      "(68, 4)\n",
      "4\n",
      "train acc phase1:  0.920105355575066 test acc phase1:  0.7647058823529411   0.7353206865401987 phase2:  0.5441176470588235   0.4962121212121212\n",
      "5 6\n",
      "(68, 152)\n",
      "5, 5, 5, 5, 5, 5, 5, 5, 5, 5, 5\n",
      "[ 96   1  42 138  18]\n",
      "train acc  0.9672958735733099  test acc  0.4852941176470588  test acc bal  0.465672990063234\n",
      "(68, 5)\n",
      "5\n",
      "train acc phase1:  0.927129060579456 test acc phase1:  0.7058823529411765   0.6865401987353207 phase2:  0.5441176470588235   0.4962121212121212\n",
      "5 7\n",
      "(68, 152)\n",
      "7, 7, 9, 9, 9, 9, 9, 9, 9, 9, 9\n",
      "[ 96   1   5   8  42 138  80  18 124]\n",
      "train acc  0.988147497805092  test acc  0.4852941176470588  test acc bal  0.465672990063234\n",
      "(68, 9)\n",
      "8\n",
      "[0 1 3 4 5 6 7 8]\n",
      "train acc  0.9657594381035999  test acc  0.8088235294117647  test acc bal  0.7908762420957542\n",
      "(68, 8)\n",
      "8\n",
      "train acc phase1:  0.9655399473222126 test acc phase1:  0.7647058823529411   0.7416440831074977 phase2:  0.5294117647058824   0.5227272727272727\n",
      "5 8\n",
      "(68, 152)\n",
      "14, 17, 19, 20, 20, 21, 22, 23, 23, 25, 25\n",
      "[  0   1   5 133   8 138  77  79 144  80  18 146  19  21  25  95  96 100\n",
      "  39  42 107 115 122  59 124]\n",
      "train acc  0.9947322212467076  test acc  0.5  test acc bal  0.47786811201445345\n",
      "(68, 25)\n",
      "14\n",
      "[ 1  4  5  6  7  8  9 10 12 16 19 20 21 22]\n",
      "train acc  0.99297629499561  test acc  0.7941176470588235  test acc bal  0.7786811201445347\n",
      "(68, 14)\n",
      "12\n",
      "[ 0  1  2  3  4  5  7  9 10 11 12 13]\n",
      "train acc  0.9896839332748025  test acc  0.7794117647058824  test acc bal  0.7601626016260162\n",
      "(68, 12)\n",
      "12\n",
      "train acc phase1:  0.9888059701492535 test acc phase1:  0.75   0.7357723577235773 phase2:  0.5294117647058824   0.5132575757575758\n"
     ]
    }
   ],
   "source": [
    "training_unimoal_results_depth = {}\n",
    "training_unimoal_results_leaf = {}\n",
    "for n_estimators in [5]:\n",
    "    training_unimoal_results_depth[n_estimators] = {}\n",
    "    training_unimoal_results_leaf[n_estimators] = {}\n",
    "    print(\"depth\")\n",
    "    for max_depth in [2,3,4]:\n",
    "        print(n_estimators,max_depth)\n",
    "        r = train_test(\"adaboost\",\n",
    "                       X_phaseII_unimodal.fillna(NAFILL),\n",
    "                       X_phaseI_unimodal.fillna(NAFILL),\n",
    "                       Y_phaseII,\n",
    "                       Y_phaseI,\n",
    "                       n_estimators=n_estimators,\n",
    "                       max_depth=max_depth)\n",
    "        training_unimoal_results_depth[n_estimators][max_depth] = deepcopy(r)\n",
    "    print(\"leaf\")\n",
    "    for max_leaf in [3,4,5,6,7,8]:\n",
    "        print(n_estimators,max_leaf)\n",
    "        r = train_test(\"adaboost\",\n",
    "                       X_phaseII_unimodal.fillna(NAFILL),\n",
    "                       X_phaseI_unimodal.fillna(NAFILL),\n",
    "                       Y_phaseII,\n",
    "                       Y_phaseI,\n",
    "                       n_estimators=n_estimators,\n",
    "                       max_leaf_nodes=max_leaf)\n",
    "        training_unimoal_results_leaf[n_estimators][max_leaf] = deepcopy(r)\n",
    "with open(focus_path + \"unimodal_train_result_trainII_testI.pkl\", \"wb\") as f:\n",
    "    pickle.dump({\"depth\":training_unimoal_results_depth,\"leaf\":training_unimoal_results_leaf},f)"
   ]
  },
  {
   "cell_type": "markdown",
   "metadata": {},
   "source": [
    "#### Full Features"
   ]
  },
  {
   "cell_type": "code",
   "execution_count": 187,
   "metadata": {},
   "outputs": [
    {
     "data": {
      "text/plain": [
       "{5: {6: {1: {'confusion_matrix': array([[11, 13],\n",
       "           [14, 30]], dtype=int64),\n",
       "    'importance_feature': array(['std_f_loc_std_len_stay_at_clusters_in_minutes_morning_wkdy',\n",
       "           'std_f_locMap_num_bouts_30min_or_more_at_place_outside_afternoon_wkdy',\n",
       "           'std_f_screen_unlocks_per_minute_afternoon_wkdy',\n",
       "           'std_f_blue_std_num_scans_of_all_devices_of_self_evening_wkdy',\n",
       "           'mean_f_steps_num_active_bout_evening_wkdy',\n",
       "           'mean_f_locMap_num_bouts_30min_or_more_at_place_008_morning_wkend',\n",
       "           'std_f_loc_mean_len_stay_at_clusters_in_minutes_evening_wkend',\n",
       "           'mean_f_loc_number_of_clusters_local_night_wkend'], dtype='<U70'),\n",
       "    'test_acc': 0.6029411764705882,\n",
       "    'test_acc_bal': 0.5700757575757576,\n",
       "    'train_acc': 0.9613696224758561},\n",
       "   2: {'confusion_matrix': array([[19,  5],\n",
       "           [ 6, 38]], dtype=int64),\n",
       "    'importance_feature': array(['std_f_loc_std_len_stay_at_clusters_in_minutes_morning_wkdy',\n",
       "           'std_f_locMap_num_bouts_30min_or_more_at_place_outside_afternoon_wkdy',\n",
       "           'std_f_screen_unlocks_per_minute_afternoon_wkdy',\n",
       "           'std_f_blue_std_num_scans_of_all_devices_of_self_evening_wkdy',\n",
       "           'mean_f_steps_num_active_bout_evening_wkdy',\n",
       "           'mean_f_locMap_num_bouts_30min_or_more_at_place_008_morning_wkend',\n",
       "           'mean_f_loc_number_of_clusters_local_night_wkend'], dtype='<U68'),\n",
       "    'test_acc': 0.8382352941176471,\n",
       "    'test_acc_bal': 0.8276515151515151,\n",
       "    'train_acc': 0.9565408252853382},\n",
       "   3: {'confusion_matrix': array([[19,  5],\n",
       "           [ 6, 38]], dtype=int64),\n",
       "    'confusion_matrix_phaseII': array([[16, 11],\n",
       "           [16, 25]], dtype=int64),\n",
       "    'test_acc': 0.8382352941176471,\n",
       "    'test_acc_bal': 0.8276515151515151,\n",
       "    'test_acc_bal_phaseII': 0.6011743450767841,\n",
       "    'test_acc_phaseII': 0.6029411764705882,\n",
       "    'train_acc': 0.9565408252853382}}}}"
      ]
     },
     "execution_count": 187,
     "metadata": {},
     "output_type": "execute_result"
    }
   ],
   "source": [
    "training_unimoal_full_results_leaf"
   ]
  },
  {
   "cell_type": "code",
   "execution_count": 264,
   "metadata": {},
   "outputs": [
    {
     "name": "stdout",
     "output_type": "stream",
     "text": [
      "leaf\n",
      "5 6\n",
      "(137, 317)\n",
      "train acc phase1:  0.8718334048948047 test acc phase1:  0.5036496350364964   0.4948192239858906 phase2:  0.4866666666666667   0.4736519607843137\n"
     ]
    }
   ],
   "source": [
    "training_unimoal_full_results_depth = {}\n",
    "training_unimoal_full_results_leaf = {}\n",
    "for n_estimators in [5]:\n",
    "    training_unimoal_full_results_depth[n_estimators] = {}\n",
    "    training_unimoal_full_results_leaf[n_estimators] = {}\n",
    "#     print(\"depth\")\n",
    "#     for max_depth in [4]:\n",
    "#         print(n_estimators,max_depth)\n",
    "#         r = train_test(\"adaboost\",\n",
    "#                      X_phaseI_unimodal.fillna(NAFILL),\n",
    "#                      X_phaseII_unimodal.fillna(NAFILL),\n",
    "#                      Y_phaseI,\n",
    "#                      Y_phaseII,\n",
    "#                      n_estimators=n_estimators,\n",
    "#                      max_depth=max_depth\n",
    "#                     )\n",
    "#         training_unimoal_full_results_depth[n_estimators][max_depth] = deepcopy(r)\n",
    "    print(\"leaf\")\n",
    "    for max_leaf in [6]:\n",
    "        print(n_estimators,max_leaf)\n",
    "        r = train_test(\"adaboost\",\n",
    "                     X_phaseI_unimodal.fillna(NAFILL),\n",
    "                     X_phaseII_unimodal.fillna(NAFILL),\n",
    "                     Y_phaseI,\n",
    "                     Y_phaseII,\n",
    "                     n_estimators=n_estimators,\n",
    "                     max_leaf_nodes=max_leaf,\n",
    "                     ablation = True\n",
    "                    )\n",
    "        training_unimoal_full_results_leaf[n_estimators][max_leaf] = deepcopy(r)\n"
   ]
  },
  {
   "cell_type": "code",
   "execution_count": 265,
   "metadata": {},
   "outputs": [
    {
     "data": {
      "text/plain": [
       "{5: {6: {1: {'confusion_matrix': array([[25, 31],\n",
       "           [37, 44]], dtype=int64),\n",
       "    'confusion_matrix_phaseII': array([[21, 27],\n",
       "           [50, 52]], dtype=int64),\n",
       "    'test_acc': 0.5036496350364964,\n",
       "    'test_acc_bal': 0.4948192239858906,\n",
       "    'test_acc_bal_phaseII': 0.4736519607843137,\n",
       "    'test_acc_phaseII': 0.4866666666666667,\n",
       "    'train_acc': 0.8718334048948047}}}}"
      ]
     },
     "execution_count": 265,
     "metadata": {},
     "output_type": "execute_result"
    }
   ],
   "source": [
    "training_unimoal_full_results_leaf"
   ]
  },
  {
   "cell_type": "code",
   "execution_count": null,
   "metadata": {},
   "outputs": [],
   "source": []
  },
  {
   "cell_type": "code",
   "execution_count": 238,
   "metadata": {},
   "outputs": [
    {
     "data": {
      "text/plain": [
       "{5: {6: {1: {'confusion_matrix': array([[25, 31],\n",
       "           [36, 45]], dtype=int64),\n",
       "    'confusion_matrix_phaseII': array([[21, 27],\n",
       "           [50, 52]], dtype=int64),\n",
       "    'test_acc': 0.5109489051094891,\n",
       "    'test_acc_bal': 0.5009920634920635,\n",
       "    'test_acc_bal_phaseII': 0.4736519607843137,\n",
       "    'test_acc_phaseII': 0.4866666666666667,\n",
       "    'train_acc': 0.8716723915843709}}}}"
      ]
     },
     "execution_count": 238,
     "metadata": {},
     "output_type": "execute_result"
    }
   ],
   "source": [
    "training_unimoal_full_results_leaf"
   ]
  },
  {
   "cell_type": "code",
   "execution_count": null,
   "metadata": {},
   "outputs": [],
   "source": []
  },
  {
   "cell_type": "code",
   "execution_count": null,
   "metadata": {},
   "outputs": [],
   "source": []
  },
  {
   "cell_type": "code",
   "execution_count": null,
   "metadata": {},
   "outputs": [],
   "source": []
  },
  {
   "cell_type": "code",
   "execution_count": null,
   "metadata": {},
   "outputs": [],
   "source": []
  },
  {
   "cell_type": "code",
   "execution_count": 343,
   "metadata": {},
   "outputs": [
    {
     "data": {
      "text/plain": [
       "{5: {6: {1: {'confusion_matrix': array([[10, 14],\n",
       "           [14, 30]], dtype=int64),\n",
       "    'importance_feature': array(['std_f_locMap_num_bouts_30min_or_more_at_place_outside_afternoon_wkdy',\n",
       "           'std_f_screen_unlocks_per_minute_afternoon_wkdy',\n",
       "           'std_f_blue_std_num_scans_of_all_devices_of_self_evening_wkdy',\n",
       "           'mean_f_steps_num_active_bout_evening_wkdy',\n",
       "           'mean_f_locMap_num_bouts_30min_or_more_at_place_008_morning_wkend',\n",
       "           'std_f_loc_mean_len_stay_at_clusters_in_minutes_evening_wkend'],\n",
       "          dtype='<U70'),\n",
       "    'test_acc': 0.5882352941176471,\n",
       "    'test_acc_bal': 0.5492424242424242,\n",
       "    'train_acc': 0.9615891132572434},\n",
       "   2: {'confusion_matrix': array([[19,  5],\n",
       "           [ 6, 38]], dtype=int64),\n",
       "    'confusion_matrix_phaseII': array([[15, 12],\n",
       "           [16, 25]], dtype=int64),\n",
       "    'test_acc': 0.8382352941176471,\n",
       "    'test_acc_bal': 0.8276515151515151,\n",
       "    'test_acc_bal_phaseII': 0.5826558265582655,\n",
       "    'test_acc_phaseII': 0.5882352941176471,\n",
       "    'train_acc': 0.9567603160667254}}}}"
      ]
     },
     "execution_count": 343,
     "metadata": {},
     "output_type": "execute_result"
    }
   ],
   "source": [
    "training_unimoal_full_results_leaf"
   ]
  },
  {
   "cell_type": "markdown",
   "metadata": {},
   "source": [
    "#### Single Feature"
   ]
  },
  {
   "cell_type": "code",
   "execution_count": 97,
   "metadata": {},
   "outputs": [
    {
     "data": {
      "text/plain": [
       "(137, 3376)"
      ]
     },
     "execution_count": 97,
     "metadata": {},
     "output_type": "execute_result"
    }
   ],
   "source": [
    "X_phaseI_unimodal.shape"
   ]
  },
  {
   "cell_type": "code",
   "execution_count": 98,
   "metadata": {},
   "outputs": [
    {
     "name": "stdout",
     "output_type": "stream",
     "text": [
      "(150, 1)\n",
      "train acc phase1:  0.68 test acc phase1:  0.68   0.5 phase2:  0.5912408759124088   0.5\n",
      "(150, 1)\n",
      "train acc phase1:  0.7067114093959732 test acc phase1:  0.6933333333333334   0.5263480392156863 phase2:  0.5547445255474452   0.47464726631393295\n",
      "(150, 1)\n",
      "train acc phase1:  0.68 test acc phase1:  0.68   0.5 phase2:  0.5912408759124088   0.5\n",
      "(150, 1)\n",
      "train acc phase1:  0.68 test acc phase1:  0.68   0.5 phase2:  0.5912408759124088   0.5\n",
      "(150, 1)\n",
      "train acc phase1:  0.68 test acc phase1:  0.68   0.5 phase2:  0.5912408759124088   0.5\n",
      "(150, 1)\n",
      "train acc phase1:  0.7133333333333334 test acc phase1:  0.7   0.5367647058823529 phase2:  0.5547445255474452   0.4691358024691358\n",
      "(150, 1)\n",
      "train acc phase1:  0.6863534675615212 test acc phase1:  0.6733333333333333   0.4950980392156863 phase2:  0.5766423357664233   0.4876543209876543\n",
      "(150, 1)\n",
      "train acc phase1:  0.7067114093959731 test acc phase1:  0.6933333333333334   0.5263480392156863 phase2:  0.5766423357664233   0.4931657848324515\n",
      "(150, 1)\n",
      "train acc phase1:  0.68 test acc phase1:  0.68   0.5 phase2:  0.5912408759124088   0.5\n",
      "(150, 1)\n",
      "train acc phase1:  0.68 test acc phase1:  0.68   0.5 phase2:  0.5912408759124088   0.5\n",
      "(150, 1)\n",
      "train acc phase1:  0.68 test acc phase1:  0.68   0.5 phase2:  0.5912408759124088   0.5\n",
      "(150, 1)\n",
      "train acc phase1:  0.68 test acc phase1:  0.68   0.5 phase2:  0.5912408759124088   0.5\n",
      "(150, 1)\n",
      "train acc phase1:  0.6800447427293066 test acc phase1:  0.6133333333333333   0.45098039215686275 phase2:  0.5912408759124088   0.5\n",
      "(150, 1)\n",
      "train acc phase1:  0.6851901565995526 test acc phase1:  0.6733333333333333   0.4950980392156863 phase2:  0.5912408759124088   0.5\n",
      "(150, 1)\n",
      "train acc phase1:  0.68 test acc phase1:  0.68   0.5 phase2:  0.5912408759124088   0.5\n",
      "(150, 1)\n",
      "train acc phase1:  0.7200894854586131 test acc phase1:  0.7   0.5533088235294118 phase2:  0.6058394160583942   0.5536816578483245\n",
      "(150, 1)\n",
      "train acc phase1:  0.68 test acc phase1:  0.68   0.5 phase2:  0.5912408759124088   0.5\n",
      "(150, 1)\n",
      "train acc phase1:  0.6932438478747204 test acc phase1:  0.6733333333333333   0.4950980392156863 phase2:  0.5912408759124088   0.5027557319223985\n",
      "(150, 1)\n",
      "train acc phase1:  0.68 test acc phase1:  0.5866666666666667   0.43137254901960786 phase2:  0.5912408759124088   0.5\n",
      "(150, 1)\n",
      "train acc phase1:  0.68 test acc phase1:  0.68   0.5 phase2:  0.5912408759124088   0.5\n",
      "(150, 1)\n",
      "train acc phase1:  0.6919015659955257 test acc phase1:  0.64   0.47058823529411764 phase2:  0.583941605839416   0.5048500881834215\n",
      "(150, 1)\n",
      "train acc phase1:  0.7 test acc phase1:  0.6866666666666666   0.5435049019607843 phase2:  0.5766423357664233   0.4959215167548501\n",
      "(150, 1)\n",
      "train acc phase1:  0.680357941834452 test acc phase1:  0.6533333333333333   0.4803921568627451 phase2:  0.5912408759124088   0.5\n",
      "(150, 1)\n",
      "train acc phase1:  0.68 test acc phase1:  0.68   0.5 phase2:  0.5912408759124088   0.5\n",
      "(150, 1)\n",
      "train acc phase1:  0.68 test acc phase1:  0.68   0.5 phase2:  0.5912408759124088   0.5\n",
      "(150, 1)\n",
      "train acc phase1:  0.6801342281879195 test acc phase1:  0.6733333333333333   0.4950980392156863 phase2:  0.5912408759124088   0.5\n",
      "(150, 1)\n",
      "train acc phase1:  0.68 test acc phase1:  0.68   0.5 phase2:  0.5912408759124088   0.5\n",
      "(150, 1)\n",
      "train acc phase1:  0.68 test acc phase1:  0.68   0.5 phase2:  0.5912408759124088   0.5\n",
      "(150, 1)\n",
      "train acc phase1:  0.7000447427293066 test acc phase1:  0.6866666666666666   0.5159313725490197 phase2:  0.5912408759124088   0.5\n",
      "(150, 1)\n",
      "train acc phase1:  0.6995973154362416 test acc phase1:  0.66   0.5238970588235294 phase2:  0.5985401459854015   0.5199514991181657\n",
      "(150, 1)\n",
      "train acc phase1:  0.6805369127516779 test acc phase1:  0.6533333333333333   0.4803921568627451 phase2:  0.5912408759124088   0.5\n",
      "(150, 1)\n",
      "train acc phase1:  0.6807158836689038 test acc phase1:  0.5866666666666667   0.43137254901960786 phase2:  0.5912408759124088   0.5275573192239859\n",
      "(150, 1)\n",
      "train acc phase1:  0.68 test acc phase1:  0.68   0.5 phase2:  0.5912408759124088   0.5\n",
      "(150, 1)\n",
      "train acc phase1:  0.6800894854586131 test acc phase1:  0.6733333333333333   0.4950980392156863 phase2:  0.5912408759124088   0.5\n",
      "(150, 1)\n",
      "train acc phase1:  0.68 test acc phase1:  0.68   0.5 phase2:  0.5912408759124088   0.5\n",
      "(150, 1)\n",
      "train acc phase1:  0.68 test acc phase1:  0.68   0.5 phase2:  0.5912408759124088   0.5\n",
      "(150, 1)\n",
      "train acc phase1:  0.6932438478747204 test acc phase1:  0.6733333333333333   0.4950980392156863 phase2:  0.5985401459854015   0.5089285714285714\n",
      "(150, 1)\n",
      "train acc phase1:  0.68 test acc phase1:  0.68   0.5 phase2:  0.5912408759124088   0.5\n",
      "(150, 1)\n",
      "train acc phase1:  0.680178970917226 test acc phase1:  0.5933333333333334   0.4362745098039216 phase2:  0.5912408759124088   0.5\n",
      "(150, 1)\n",
      "train acc phase1:  0.6997315436241611 test acc phase1:  0.6733333333333333   0.4950980392156863 phase2:  0.5693430656934306   0.48148148148148145\n",
      "(150, 1)\n",
      "train acc phase1:  0.6860850111856822 test acc phase1:  0.64   0.47058823529411764 phase2:  0.583941605839416   0.49382716049382713\n",
      "(150, 1)\n",
      "train acc phase1:  0.700089485458613 test acc phase1:  0.6866666666666666   0.5379901960784313 phase2:  0.5620437956204379   0.486331569664903\n",
      "(150, 1)\n",
      "train acc phase1:  0.68 test acc phase1:  0.6533333333333333   0.4803921568627451 phase2:  0.5912408759124088   0.5\n",
      "(150, 1)\n",
      "train acc phase1:  0.68 test acc phase1:  0.68   0.5 phase2:  0.5912408759124088   0.5\n",
      "(150, 1)\n",
      "train acc phase1:  0.7 test acc phase1:  0.6866666666666666   0.5545343137254901 phase2:  0.5985401459854015   0.5309744268077602\n",
      "(150, 1)\n",
      "train acc phase1:  0.68 test acc phase1:  0.68   0.5 phase2:  0.5912408759124088   0.5\n",
      "(150, 1)\n",
      "train acc phase1:  0.6800447427293066 test acc phase1:  0.6533333333333333   0.4803921568627451 phase2:  0.5912408759124088   0.5\n",
      "(150, 1)\n"
     ]
    },
    {
     "ename": "IndexError",
     "evalue": "arrays used as indices must be of integer (or boolean) type",
     "output_type": "error",
     "traceback": [
      "\u001b[1;31m---------------------------------------------------------------------------\u001b[0m",
      "\u001b[1;31mIndexError\u001b[0m                                Traceback (most recent call last)",
      "\u001b[1;32m<ipython-input-98-a293ea776947>\u001b[0m in \u001b[0;36m<module>\u001b[1;34m()\u001b[0m\n\u001b[0;32m     12\u001b[0m                            \u001b[0mY_phaseI\u001b[0m\u001b[1;33m,\u001b[0m\u001b[1;33m\u001b[0m\u001b[0m\n\u001b[0;32m     13\u001b[0m                            \u001b[0mn_estimators\u001b[0m\u001b[1;33m,\u001b[0m\u001b[1;33m\u001b[0m\u001b[0m\n\u001b[1;32m---> 14\u001b[1;33m                            max_depth=max_depth)\n\u001b[0m\u001b[0;32m     15\u001b[0m             \u001b[0mtraining_unimoal_results_single_feature\u001b[0m\u001b[1;33m[\u001b[0m\u001b[0mn_estimators\u001b[0m\u001b[1;33m]\u001b[0m\u001b[1;33m[\u001b[0m\u001b[0mcol\u001b[0m\u001b[1;33m]\u001b[0m \u001b[1;33m=\u001b[0m \u001b[0mdeepcopy\u001b[0m\u001b[1;33m(\u001b[0m\u001b[0mr\u001b[0m\u001b[1;33m)\u001b[0m\u001b[1;33m\u001b[0m\u001b[0m\n\u001b[0;32m     16\u001b[0m \u001b[1;32mwith\u001b[0m \u001b[0mopen\u001b[0m\u001b[1;33m(\u001b[0m\u001b[0mfocus_path\u001b[0m \u001b[1;33m+\u001b[0m \u001b[1;34m\"single_feature_train_result.pkl\"\u001b[0m\u001b[1;33m,\u001b[0m \u001b[1;34m\"wb\"\u001b[0m\u001b[1;33m)\u001b[0m \u001b[1;32mas\u001b[0m \u001b[0mf\u001b[0m\u001b[1;33m:\u001b[0m\u001b[1;33m\u001b[0m\u001b[0m\n",
      "\u001b[1;32m<ipython-input-60-bfe43337263d>\u001b[0m in \u001b[0;36mtrain_test\u001b[1;34m(ctype, X, X_II, Y, Y_II, n_estimators, max_depth, max_leaf_nodes, C, ablation)\u001b[0m\n\u001b[0;32m     66\u001b[0m \u001b[1;31m#                 y_pred_phaseII = a.predict(X_II.fillna(NAFILL)[np.array(XX.columns.tolist())[importance_index]])\u001b[0m\u001b[1;33m\u001b[0m\u001b[1;33m\u001b[0m\u001b[0m\n\u001b[0;32m     67\u001b[0m \u001b[1;31m#             else:\u001b[0m\u001b[1;33m\u001b[0m\u001b[1;33m\u001b[0m\u001b[0m\n\u001b[1;32m---> 68\u001b[1;33m             \u001b[0my_pred_phaseII\u001b[0m \u001b[1;33m=\u001b[0m \u001b[0ma\u001b[0m\u001b[1;33m.\u001b[0m\u001b[0mpredict\u001b[0m\u001b[1;33m(\u001b[0m\u001b[0mX_II\u001b[0m\u001b[1;33m.\u001b[0m\u001b[0mfillna\u001b[0m\u001b[1;33m(\u001b[0m\u001b[0mNAFILL\u001b[0m\u001b[1;33m)\u001b[0m\u001b[1;33m[\u001b[0m\u001b[0mnp\u001b[0m\u001b[1;33m.\u001b[0m\u001b[0marray\u001b[0m\u001b[1;33m(\u001b[0m\u001b[0mXX\u001b[0m\u001b[1;33m.\u001b[0m\u001b[0mcolumns\u001b[0m\u001b[1;33m.\u001b[0m\u001b[0mtolist\u001b[0m\u001b[1;33m(\u001b[0m\u001b[1;33m)\u001b[0m\u001b[1;33m)\u001b[0m\u001b[1;33m[\u001b[0m\u001b[0mimportance_index_new\u001b[0m\u001b[1;33m]\u001b[0m\u001b[1;33m]\u001b[0m\u001b[1;33m)\u001b[0m\u001b[1;33m\u001b[0m\u001b[0m\n\u001b[0m\u001b[0;32m     69\u001b[0m             \u001b[0mresults\u001b[0m\u001b[1;33m[\u001b[0m\u001b[0miter_round\u001b[0m\u001b[1;33m]\u001b[0m\u001b[1;33m[\u001b[0m\u001b[1;34m\"test_acc_phaseII\"\u001b[0m\u001b[1;33m]\u001b[0m \u001b[1;33m=\u001b[0m \u001b[0maccuracy_score\u001b[0m\u001b[1;33m(\u001b[0m\u001b[0mY_II\u001b[0m\u001b[1;33m,\u001b[0m\u001b[0my_pred_phaseII\u001b[0m\u001b[1;33m)\u001b[0m\u001b[1;33m\u001b[0m\u001b[0m\n\u001b[0;32m     70\u001b[0m             results[iter_round][\"test_acc_bal_phaseII\"] = balanced_accuracy_score(y_true = Y_II,\n",
      "\u001b[1;31mIndexError\u001b[0m: arrays used as indices must be of integer (or boolean) type"
     ]
    }
   ],
   "source": [
    "training_unimoal_results_single_feature = {}\n",
    "training_unimoal_results_leaf = {}\n",
    "for n_estimators in [1]:\n",
    "    training_unimoal_results_single_feature[n_estimators] = {}\n",
    "    training_unimoal_results_leaf[n_estimators] = {}\n",
    "    for col in X_phaseI_unimodal.columns.tolist():\n",
    "        for max_depth in [1]:\n",
    "            r = train_test(\"adaboost\",\n",
    "                           X_phaseII_unimodal[[col]].fillna(NAFILL),\n",
    "                           X_phaseI_unimodal[[col]].fillna(NAFILL),\n",
    "                           Y_phaseII,\n",
    "                           Y_phaseI,\n",
    "                           n_estimators,\n",
    "                           max_depth=max_depth)\n",
    "            training_unimoal_results_single_feature[n_estimators][col] = deepcopy(r)\n",
    "with open(focus_path + \"single_feature_train_result.pkl\", \"wb\") as f:\n",
    "    pickle.dump(training_unimoal_results_single_feature, f)"
   ]
  },
  {
   "cell_type": "code",
   "execution_count": 100,
   "metadata": {},
   "outputs": [
    {
     "data": {
      "text/plain": [
       "[{'confusion_matrix': array([[ 9, 39],\n",
       "         [ 8, 94]], dtype=int64), 'confusion_matrix_phaseII': array([[ 9, 47],\n",
       "         [ 8, 73]], dtype=int64), 'test_acc': 0.6866666666666666, 'test_acc_bal': 0.5545343137254901, 'test_acc_bal_phaseII': 0.5309744268077602, 'test_acc_phaseII': 0.5985401459854015, 'train_acc': 0.7},\n",
       " {'confusion_matrix': array([[ 7, 41],\n",
       "         [ 4, 98]], dtype=int64), 'confusion_matrix_phaseII': array([[15, 41],\n",
       "         [13, 68]], dtype=int64), 'test_acc': 0.7, 'test_acc_bal': 0.5533088235294118, 'test_acc_bal_phaseII': 0.5536816578483245, 'test_acc_phaseII': 0.6058394160583942, 'train_acc': 0.7200894854586131},\n",
       " {'confusion_matrix': array([[ 7, 41],\n",
       "         [ 6, 96]], dtype=int64), 'confusion_matrix_phaseII': array([[ 3, 53],\n",
       "         [ 5, 76]], dtype=int64), 'test_acc': 0.6866666666666666, 'test_acc_bal': 0.5435049019607843, 'test_acc_bal_phaseII': 0.4959215167548501, 'test_acc_phaseII': 0.5766423357664233, 'train_acc': 0.7},\n",
       " {'confusion_matrix': array([[ 6, 42],\n",
       "         [ 5, 97]], dtype=int64), 'confusion_matrix_phaseII': array([[ 4, 52],\n",
       "         [ 8, 73]], dtype=int64), 'test_acc': 0.6866666666666666, 'test_acc_bal': 0.5379901960784313, 'test_acc_bal_phaseII': 0.486331569664903, 'test_acc_phaseII': 0.5620437956204379, 'train_acc': 0.700089485458613},\n",
       " {'confusion_matrix': array([[  4,  44],\n",
       "         [  1, 101]], dtype=int64),\n",
       "  'confusion_matrix_phaseII': array([[ 0, 56],\n",
       "         [ 5, 76]], dtype=int64),\n",
       "  'test_acc': 0.7,\n",
       "  'test_acc_bal': 0.5367647058823529,\n",
       "  'test_acc_bal_phaseII': 0.4691358024691358,\n",
       "  'test_acc_phaseII': 0.5547445255474452,\n",
       "  'train_acc': 0.7133333333333334},\n",
       " {'confusion_matrix': array([[  3,  45],\n",
       "         [  1, 101]], dtype=int64),\n",
       "  'confusion_matrix_phaseII': array([[ 2, 54],\n",
       "         [ 7, 74]], dtype=int64),\n",
       "  'test_acc': 0.6933333333333334,\n",
       "  'test_acc_bal': 0.5263480392156863,\n",
       "  'test_acc_bal_phaseII': 0.47464726631393295,\n",
       "  'test_acc_phaseII': 0.5547445255474452,\n",
       "  'train_acc': 0.7067114093959732},\n",
       " {'confusion_matrix': array([[  3,  45],\n",
       "         [  1, 101]], dtype=int64),\n",
       "  'confusion_matrix_phaseII': array([[ 2, 54],\n",
       "         [ 4, 77]], dtype=int64),\n",
       "  'test_acc': 0.6933333333333334,\n",
       "  'test_acc_bal': 0.5263480392156863,\n",
       "  'test_acc_bal_phaseII': 0.4931657848324515,\n",
       "  'test_acc_phaseII': 0.5766423357664233,\n",
       "  'train_acc': 0.7067114093959731},\n",
       " {'confusion_matrix': array([[ 7, 41],\n",
       "         [10, 92]], dtype=int64), 'confusion_matrix_phaseII': array([[ 5, 51],\n",
       "         [ 4, 77]], dtype=int64), 'test_acc': 0.66, 'test_acc_bal': 0.5238970588235294, 'test_acc_bal_phaseII': 0.5199514991181657, 'test_acc_phaseII': 0.5985401459854015, 'train_acc': 0.6995973154362416},\n",
       " {'confusion_matrix': array([[  2,  46],\n",
       "         [  1, 101]], dtype=int64),\n",
       "  'confusion_matrix_phaseII': array([[ 0, 56],\n",
       "         [ 0, 81]], dtype=int64),\n",
       "  'test_acc': 0.6866666666666666,\n",
       "  'test_acc_bal': 0.5159313725490197,\n",
       "  'test_acc_bal_phaseII': 0.5,\n",
       "  'test_acc_phaseII': 0.5912408759124088,\n",
       "  'train_acc': 0.7000447427293066},\n",
       " {'confusion_matrix': array([[  0,  48],\n",
       "         [  0, 102]], dtype=int64),\n",
       "  'confusion_matrix_phaseII': array([[ 0, 56],\n",
       "         [ 0, 81]], dtype=int64),\n",
       "  'test_acc': 0.68,\n",
       "  'test_acc_bal': 0.5,\n",
       "  'test_acc_bal_phaseII': 0.5,\n",
       "  'test_acc_phaseII': 0.5912408759124088,\n",
       "  'train_acc': 0.68},\n",
       " {'confusion_matrix': array([[  0,  48],\n",
       "         [  0, 102]], dtype=int64),\n",
       "  'confusion_matrix_phaseII': array([[ 0, 56],\n",
       "         [ 0, 81]], dtype=int64),\n",
       "  'test_acc': 0.68,\n",
       "  'test_acc_bal': 0.5,\n",
       "  'test_acc_bal_phaseII': 0.5,\n",
       "  'test_acc_phaseII': 0.5912408759124088,\n",
       "  'train_acc': 0.68},\n",
       " {'confusion_matrix': array([[  0,  48],\n",
       "         [  0, 102]], dtype=int64),\n",
       "  'confusion_matrix_phaseII': array([[ 0, 56],\n",
       "         [ 0, 81]], dtype=int64),\n",
       "  'test_acc': 0.68,\n",
       "  'test_acc_bal': 0.5,\n",
       "  'test_acc_bal_phaseII': 0.5,\n",
       "  'test_acc_phaseII': 0.5912408759124088,\n",
       "  'train_acc': 0.68},\n",
       " {'confusion_matrix': array([[  0,  48],\n",
       "         [  0, 102]], dtype=int64),\n",
       "  'confusion_matrix_phaseII': array([[ 0, 56],\n",
       "         [ 0, 81]], dtype=int64),\n",
       "  'test_acc': 0.68,\n",
       "  'test_acc_bal': 0.5,\n",
       "  'test_acc_bal_phaseII': 0.5,\n",
       "  'test_acc_phaseII': 0.5912408759124088,\n",
       "  'train_acc': 0.68},\n",
       " {'confusion_matrix': array([[  0,  48],\n",
       "         [  0, 102]], dtype=int64),\n",
       "  'confusion_matrix_phaseII': array([[ 0, 56],\n",
       "         [ 0, 81]], dtype=int64),\n",
       "  'test_acc': 0.68,\n",
       "  'test_acc_bal': 0.5,\n",
       "  'test_acc_bal_phaseII': 0.5,\n",
       "  'test_acc_phaseII': 0.5912408759124088,\n",
       "  'train_acc': 0.68},\n",
       " {'confusion_matrix': array([[  0,  48],\n",
       "         [  0, 102]], dtype=int64),\n",
       "  'confusion_matrix_phaseII': array([[ 0, 56],\n",
       "         [ 0, 81]], dtype=int64),\n",
       "  'test_acc': 0.68,\n",
       "  'test_acc_bal': 0.5,\n",
       "  'test_acc_bal_phaseII': 0.5,\n",
       "  'test_acc_phaseII': 0.5912408759124088,\n",
       "  'train_acc': 0.68},\n",
       " {'confusion_matrix': array([[  0,  48],\n",
       "         [  0, 102]], dtype=int64),\n",
       "  'confusion_matrix_phaseII': array([[ 0, 56],\n",
       "         [ 0, 81]], dtype=int64),\n",
       "  'test_acc': 0.68,\n",
       "  'test_acc_bal': 0.5,\n",
       "  'test_acc_bal_phaseII': 0.5,\n",
       "  'test_acc_phaseII': 0.5912408759124088,\n",
       "  'train_acc': 0.68},\n",
       " {'confusion_matrix': array([[  0,  48],\n",
       "         [  0, 102]], dtype=int64),\n",
       "  'confusion_matrix_phaseII': array([[ 0, 56],\n",
       "         [ 0, 81]], dtype=int64),\n",
       "  'test_acc': 0.68,\n",
       "  'test_acc_bal': 0.5,\n",
       "  'test_acc_bal_phaseII': 0.5,\n",
       "  'test_acc_phaseII': 0.5912408759124088,\n",
       "  'train_acc': 0.68},\n",
       " {'confusion_matrix': array([[  0,  48],\n",
       "         [  0, 102]], dtype=int64),\n",
       "  'confusion_matrix_phaseII': array([[ 0, 56],\n",
       "         [ 0, 81]], dtype=int64),\n",
       "  'test_acc': 0.68,\n",
       "  'test_acc_bal': 0.5,\n",
       "  'test_acc_bal_phaseII': 0.5,\n",
       "  'test_acc_phaseII': 0.5912408759124088,\n",
       "  'train_acc': 0.68},\n",
       " {'confusion_matrix': array([[  0,  48],\n",
       "         [  0, 102]], dtype=int64),\n",
       "  'confusion_matrix_phaseII': array([[ 0, 56],\n",
       "         [ 0, 81]], dtype=int64),\n",
       "  'test_acc': 0.68,\n",
       "  'test_acc_bal': 0.5,\n",
       "  'test_acc_bal_phaseII': 0.5,\n",
       "  'test_acc_phaseII': 0.5912408759124088,\n",
       "  'train_acc': 0.68},\n",
       " {'confusion_matrix': array([[  0,  48],\n",
       "         [  0, 102]], dtype=int64),\n",
       "  'confusion_matrix_phaseII': array([[ 0, 56],\n",
       "         [ 0, 81]], dtype=int64),\n",
       "  'test_acc': 0.68,\n",
       "  'test_acc_bal': 0.5,\n",
       "  'test_acc_bal_phaseII': 0.5,\n",
       "  'test_acc_phaseII': 0.5912408759124088,\n",
       "  'train_acc': 0.68},\n",
       " {'confusion_matrix': array([[  0,  48],\n",
       "         [  0, 102]], dtype=int64),\n",
       "  'confusion_matrix_phaseII': array([[ 0, 56],\n",
       "         [ 0, 81]], dtype=int64),\n",
       "  'test_acc': 0.68,\n",
       "  'test_acc_bal': 0.5,\n",
       "  'test_acc_bal_phaseII': 0.5,\n",
       "  'test_acc_phaseII': 0.5912408759124088,\n",
       "  'train_acc': 0.68},\n",
       " {'confusion_matrix': array([[  0,  48],\n",
       "         [  0, 102]], dtype=int64),\n",
       "  'confusion_matrix_phaseII': array([[ 0, 56],\n",
       "         [ 0, 81]], dtype=int64),\n",
       "  'test_acc': 0.68,\n",
       "  'test_acc_bal': 0.5,\n",
       "  'test_acc_bal_phaseII': 0.5,\n",
       "  'test_acc_phaseII': 0.5912408759124088,\n",
       "  'train_acc': 0.68},\n",
       " {'confusion_matrix': array([[  0,  48],\n",
       "         [  0, 102]], dtype=int64),\n",
       "  'confusion_matrix_phaseII': array([[ 0, 56],\n",
       "         [ 0, 81]], dtype=int64),\n",
       "  'test_acc': 0.68,\n",
       "  'test_acc_bal': 0.5,\n",
       "  'test_acc_bal_phaseII': 0.5,\n",
       "  'test_acc_phaseII': 0.5912408759124088,\n",
       "  'train_acc': 0.68},\n",
       " {'confusion_matrix': array([[  0,  48],\n",
       "         [  0, 102]], dtype=int64),\n",
       "  'confusion_matrix_phaseII': array([[ 0, 56],\n",
       "         [ 0, 81]], dtype=int64),\n",
       "  'test_acc': 0.68,\n",
       "  'test_acc_bal': 0.5,\n",
       "  'test_acc_bal_phaseII': 0.5,\n",
       "  'test_acc_phaseII': 0.5912408759124088,\n",
       "  'train_acc': 0.68},\n",
       " {'confusion_matrix': array([[  0,  48],\n",
       "         [  0, 102]], dtype=int64),\n",
       "  'confusion_matrix_phaseII': array([[ 0, 56],\n",
       "         [ 0, 81]], dtype=int64),\n",
       "  'test_acc': 0.68,\n",
       "  'test_acc_bal': 0.5,\n",
       "  'test_acc_bal_phaseII': 0.5,\n",
       "  'test_acc_phaseII': 0.5912408759124088,\n",
       "  'train_acc': 0.68},\n",
       " {'confusion_matrix': array([[  0,  48],\n",
       "         [  0, 102]], dtype=int64),\n",
       "  'confusion_matrix_phaseII': array([[ 0, 56],\n",
       "         [ 0, 81]], dtype=int64),\n",
       "  'test_acc': 0.68,\n",
       "  'test_acc_bal': 0.5,\n",
       "  'test_acc_bal_phaseII': 0.5,\n",
       "  'test_acc_phaseII': 0.5912408759124088,\n",
       "  'train_acc': 0.68},\n",
       " {'confusion_matrix': array([[  0,  48],\n",
       "         [  0, 102]], dtype=int64),\n",
       "  'confusion_matrix_phaseII': array([[ 0, 56],\n",
       "         [ 0, 81]], dtype=int64),\n",
       "  'test_acc': 0.68,\n",
       "  'test_acc_bal': 0.5,\n",
       "  'test_acc_bal_phaseII': 0.5,\n",
       "  'test_acc_phaseII': 0.5912408759124088,\n",
       "  'train_acc': 0.68},\n",
       " {'confusion_matrix': array([[  0,  48],\n",
       "         [  0, 102]], dtype=int64),\n",
       "  'confusion_matrix_phaseII': array([[ 0, 56],\n",
       "         [ 0, 81]], dtype=int64),\n",
       "  'test_acc': 0.68,\n",
       "  'test_acc_bal': 0.5,\n",
       "  'test_acc_bal_phaseII': 0.5,\n",
       "  'test_acc_phaseII': 0.5912408759124088,\n",
       "  'train_acc': 0.68},\n",
       " {'confusion_matrix': array([[  0,  48],\n",
       "         [  0, 102]], dtype=int64),\n",
       "  'confusion_matrix_phaseII': array([[ 0, 56],\n",
       "         [ 0, 81]], dtype=int64),\n",
       "  'test_acc': 0.68,\n",
       "  'test_acc_bal': 0.5,\n",
       "  'test_acc_bal_phaseII': 0.5,\n",
       "  'test_acc_phaseII': 0.5912408759124088,\n",
       "  'train_acc': 0.68},\n",
       " {'confusion_matrix': array([[  0,  48],\n",
       "         [  0, 102]], dtype=int64),\n",
       "  'confusion_matrix_phaseII': array([[ 0, 56],\n",
       "         [ 0, 81]], dtype=int64),\n",
       "  'test_acc': 0.68,\n",
       "  'test_acc_bal': 0.5,\n",
       "  'test_acc_bal_phaseII': 0.5,\n",
       "  'test_acc_phaseII': 0.5912408759124088,\n",
       "  'train_acc': 0.68},\n",
       " {'confusion_matrix': array([[  0,  48],\n",
       "         [  1, 101]], dtype=int64),\n",
       "  'confusion_matrix_phaseII': array([[ 0, 56],\n",
       "         [ 2, 79]], dtype=int64),\n",
       "  'test_acc': 0.6733333333333333,\n",
       "  'test_acc_bal': 0.4950980392156863,\n",
       "  'test_acc_bal_phaseII': 0.4876543209876543,\n",
       "  'test_acc_phaseII': 0.5766423357664233,\n",
       "  'train_acc': 0.6863534675615212},\n",
       " {'confusion_matrix': array([[  0,  48],\n",
       "         [  1, 101]], dtype=int64),\n",
       "  'confusion_matrix_phaseII': array([[ 0, 56],\n",
       "         [ 0, 81]], dtype=int64),\n",
       "  'test_acc': 0.6733333333333333,\n",
       "  'test_acc_bal': 0.4950980392156863,\n",
       "  'test_acc_bal_phaseII': 0.5,\n",
       "  'test_acc_phaseII': 0.5912408759124088,\n",
       "  'train_acc': 0.6851901565995526},\n",
       " {'confusion_matrix': array([[  0,  48],\n",
       "         [  1, 101]], dtype=int64),\n",
       "  'confusion_matrix_phaseII': array([[ 1, 55],\n",
       "         [ 1, 80]], dtype=int64),\n",
       "  'test_acc': 0.6733333333333333,\n",
       "  'test_acc_bal': 0.4950980392156863,\n",
       "  'test_acc_bal_phaseII': 0.5027557319223985,\n",
       "  'test_acc_phaseII': 0.5912408759124088,\n",
       "  'train_acc': 0.6932438478747204},\n",
       " {'confusion_matrix': array([[  0,  48],\n",
       "         [  1, 101]], dtype=int64),\n",
       "  'confusion_matrix_phaseII': array([[ 0, 56],\n",
       "         [ 0, 81]], dtype=int64),\n",
       "  'test_acc': 0.6733333333333333,\n",
       "  'test_acc_bal': 0.4950980392156863,\n",
       "  'test_acc_bal_phaseII': 0.5,\n",
       "  'test_acc_phaseII': 0.5912408759124088,\n",
       "  'train_acc': 0.6801342281879195},\n",
       " {'confusion_matrix': array([[  0,  48],\n",
       "         [  1, 101]], dtype=int64),\n",
       "  'confusion_matrix_phaseII': array([[ 0, 56],\n",
       "         [ 0, 81]], dtype=int64),\n",
       "  'test_acc': 0.6733333333333333,\n",
       "  'test_acc_bal': 0.4950980392156863,\n",
       "  'test_acc_bal_phaseII': 0.5,\n",
       "  'test_acc_phaseII': 0.5912408759124088,\n",
       "  'train_acc': 0.6800894854586131},\n",
       " {'confusion_matrix': array([[  0,  48],\n",
       "         [  1, 101]], dtype=int64),\n",
       "  'confusion_matrix_phaseII': array([[ 1, 55],\n",
       "         [ 0, 81]], dtype=int64),\n",
       "  'test_acc': 0.6733333333333333,\n",
       "  'test_acc_bal': 0.4950980392156863,\n",
       "  'test_acc_bal_phaseII': 0.5089285714285714,\n",
       "  'test_acc_phaseII': 0.5985401459854015,\n",
       "  'train_acc': 0.6932438478747204},\n",
       " {'confusion_matrix': array([[  0,  48],\n",
       "         [  1, 101]], dtype=int64),\n",
       "  'confusion_matrix_phaseII': array([[ 0, 56],\n",
       "         [ 3, 78]], dtype=int64),\n",
       "  'test_acc': 0.6733333333333333,\n",
       "  'test_acc_bal': 0.4950980392156863,\n",
       "  'test_acc_bal_phaseII': 0.48148148148148145,\n",
       "  'test_acc_phaseII': 0.5693430656934306,\n",
       "  'train_acc': 0.6997315436241611},\n",
       " {'confusion_matrix': array([[ 0, 48],\n",
       "         [ 4, 98]], dtype=int64), 'confusion_matrix_phaseII': array([[ 0, 56],\n",
       "         [ 0, 81]], dtype=int64), 'test_acc': 0.6533333333333333, 'test_acc_bal': 0.4803921568627451, 'test_acc_bal_phaseII': 0.5, 'test_acc_phaseII': 0.5912408759124088, 'train_acc': 0.680357941834452},\n",
       " {'confusion_matrix': array([[ 0, 48],\n",
       "         [ 4, 98]], dtype=int64), 'confusion_matrix_phaseII': array([[ 0, 56],\n",
       "         [ 0, 81]], dtype=int64), 'test_acc': 0.6533333333333333, 'test_acc_bal': 0.4803921568627451, 'test_acc_bal_phaseII': 0.5, 'test_acc_phaseII': 0.5912408759124088, 'train_acc': 0.6805369127516779},\n",
       " {'confusion_matrix': array([[ 0, 48],\n",
       "         [ 4, 98]], dtype=int64), 'confusion_matrix_phaseII': array([[ 0, 56],\n",
       "         [ 0, 81]], dtype=int64), 'test_acc': 0.6533333333333333, 'test_acc_bal': 0.4803921568627451, 'test_acc_bal_phaseII': 0.5, 'test_acc_phaseII': 0.5912408759124088, 'train_acc': 0.68},\n",
       " {'confusion_matrix': array([[ 0, 48],\n",
       "         [ 4, 98]], dtype=int64), 'confusion_matrix_phaseII': array([[ 0, 56],\n",
       "         [ 0, 81]], dtype=int64), 'test_acc': 0.6533333333333333, 'test_acc_bal': 0.4803921568627451, 'test_acc_bal_phaseII': 0.5, 'test_acc_phaseII': 0.5912408759124088, 'train_acc': 0.6800447427293066},\n",
       " {'confusion_matrix': array([[ 0, 48],\n",
       "         [ 6, 96]], dtype=int64), 'confusion_matrix_phaseII': array([[ 4, 52],\n",
       "         [ 5, 76]], dtype=int64), 'test_acc': 0.64, 'test_acc_bal': 0.47058823529411764, 'test_acc_bal_phaseII': 0.5048500881834215, 'test_acc_phaseII': 0.583941605839416, 'train_acc': 0.6919015659955257},\n",
       " {'confusion_matrix': array([[ 0, 48],\n",
       "         [ 6, 96]], dtype=int64), 'confusion_matrix_phaseII': array([[ 0, 56],\n",
       "         [ 1, 80]], dtype=int64), 'test_acc': 0.64, 'test_acc_bal': 0.47058823529411764, 'test_acc_bal_phaseII': 0.49382716049382713, 'test_acc_phaseII': 0.583941605839416, 'train_acc': 0.6860850111856822},\n",
       " {'confusion_matrix': array([[ 0, 48],\n",
       "         [10, 92]], dtype=int64), 'confusion_matrix_phaseII': array([[ 0, 56],\n",
       "         [ 0, 81]], dtype=int64), 'test_acc': 0.6133333333333333, 'test_acc_bal': 0.45098039215686275, 'test_acc_bal_phaseII': 0.5, 'test_acc_phaseII': 0.5912408759124088, 'train_acc': 0.6800447427293066},\n",
       " {'confusion_matrix': array([[ 0, 48],\n",
       "         [13, 89]], dtype=int64), 'confusion_matrix_phaseII': array([[ 0, 56],\n",
       "         [ 0, 81]], dtype=int64), 'test_acc': 0.5933333333333334, 'test_acc_bal': 0.4362745098039216, 'test_acc_bal_phaseII': 0.5, 'test_acc_phaseII': 0.5912408759124088, 'train_acc': 0.680178970917226},\n",
       " {'confusion_matrix': array([[ 0, 48],\n",
       "         [14, 88]], dtype=int64), 'confusion_matrix_phaseII': array([[ 0, 56],\n",
       "         [ 0, 81]], dtype=int64), 'test_acc': 0.5866666666666667, 'test_acc_bal': 0.43137254901960786, 'test_acc_bal_phaseII': 0.5, 'test_acc_phaseII': 0.5912408759124088, 'train_acc': 0.68},\n",
       " {'confusion_matrix': array([[ 0, 48],\n",
       "         [14, 88]], dtype=int64), 'confusion_matrix_phaseII': array([[10, 46],\n",
       "         [10, 71]], dtype=int64), 'test_acc': 0.5866666666666667, 'test_acc_bal': 0.43137254901960786, 'test_acc_bal_phaseII': 0.5275573192239859, 'test_acc_phaseII': 0.5912408759124088, 'train_acc': 0.6807158836689038}]"
      ]
     },
     "execution_count": 100,
     "metadata": {},
     "output_type": "execute_result"
    }
   ],
   "source": [
    "single_feature_list = [x[1] for x in training_unimoal_results_single_feature[1].values()]\n",
    "sorted(single_feature_list, key = lambda x : x[\"test_acc_bal\"], reverse = True)"
   ]
  },
  {
   "cell_type": "markdown",
   "metadata": {},
   "source": [
    "#### Check results"
   ]
  },
  {
   "cell_type": "code",
   "execution_count": 8,
   "metadata": {},
   "outputs": [],
   "source": [
    "with open(focus_path + \"unimodal_train_result_trainI_testII_allmethod.pkl\", \"rb\") as f:\n",
    "    unimodal_train_result_trainI_testII_allmethod = pickle.load(f)"
   ]
  },
  {
   "cell_type": "code",
   "execution_count": 12,
   "metadata": {},
   "outputs": [
    {
     "data": {
      "text/plain": [
       "{1: {'confusion_matrix': array([[12, 12],\n",
       "         [15, 29]], dtype=int64),\n",
       "  'importance_feature': array(['std_f_screen_unlocks_per_minute_afternoon_wkdy',\n",
       "         'std_f_blue_std_num_scans_of_all_devices_of_self_evening_wkdy',\n",
       "         'mean_f_steps_num_active_bout_evening_wkdy',\n",
       "         'mean_f_loc_outliers_time_percent_local_night_wkdy',\n",
       "         'std_f_slp_sleep_eff_general_weak_morning_wkend',\n",
       "         'mean_f_locMap_num_bouts_30min_or_more_at_place_008_morning_wkend',\n",
       "         'std_f_loc_mean_len_stay_at_clusters_in_minutes_evening_wkend',\n",
       "         'mean_f_loc_number_of_clusters_local_night_wkend'], dtype='<U70'),\n",
       "  'test_acc': 0.6029411764705882,\n",
       "  'test_acc_bal': 0.5795454545454546,\n",
       "  'train_acc': 0.9615891132572434},\n",
       " 2: {'confusion_matrix': array([[19,  5],\n",
       "         [ 7, 37]], dtype=int64),\n",
       "  'importance_feature': array(['std_f_screen_unlocks_per_minute_afternoon_wkdy',\n",
       "         'std_f_blue_std_num_scans_of_all_devices_of_self_evening_wkdy',\n",
       "         'mean_f_steps_num_active_bout_evening_wkdy',\n",
       "         'mean_f_loc_outliers_time_percent_local_night_wkdy',\n",
       "         'std_f_slp_sleep_eff_general_weak_morning_wkend',\n",
       "         'mean_f_locMap_num_bouts_30min_or_more_at_place_008_morning_wkend',\n",
       "         'std_f_loc_mean_len_stay_at_clusters_in_minutes_evening_wkend'],\n",
       "        dtype='<U64'),\n",
       "  'test_acc': 0.8235294117647058,\n",
       "  'test_acc_bal': 0.8162878787878788,\n",
       "  'train_acc': 0.956321334503951},\n",
       " 3: {'confusion_matrix': array([[20,  4],\n",
       "         [ 7, 37]], dtype=int64), 'confusion_matrix_phaseII': array([[16, 11],\n",
       "         [16, 25]], dtype=int64), 'test_acc': 0.8382352941176471, 'test_acc_bal': 0.8371212121212122, 'test_acc_bal_phaseII': 0.6011743450767841, 'test_acc_phaseII': 0.6029411764705882, 'train_acc': 0.956321334503951}}"
      ]
     },
     "execution_count": 12,
     "metadata": {},
     "output_type": "execute_result"
    }
   ],
   "source": [
    "unimodal_train_result_trainI_testII_allmethod[\"leaf\"][5][6]"
   ]
  },
  {
   "cell_type": "code",
   "execution_count": 267,
   "metadata": {},
   "outputs": [],
   "source": [
    "def metrics(a,b,c,d):\n",
    "    sensitiity = a/(a + b)\n",
    "    specificity = d/(d+c)\n",
    "    bal_acc = (sensitiity + specificity) / 2\n",
    "    precision = d/(d+b)\n",
    "    recall = d/(d+c)\n",
    "    f1score = 2/(1/precision + 1/recall)\n",
    "    acc = (a + d) / (a + b + c + d)\n",
    "    \n",
    "    pyes = (a + b) * (a + c) / ((a + b + c + d) * (a + b + c + d))\n",
    "    pno = (c + d) * (b + d) / ((a + b + c + d) * (a + b + c + d))\n",
    "    pe = pyes + pno\n",
    "    kappa = (acc - pe) / (1 - pe)\n",
    "    \n",
    "    \n",
    "    print(\" & \".join([str(x) for x in [round(sensitiity,3), round(specificity,3), round(bal_acc,3), round(acc, 3), round(f1score, 3), round(kappa, 3)]]))"
   ]
  },
  {
   "cell_type": "code",
   "execution_count": 269,
   "metadata": {},
   "outputs": [
    {
     "name": "stdout",
     "output_type": "stream",
     "text": [
      "0.0 & 1.0 & 0.5 & 0.603 & 0.752 & 0.0\n",
      "0.519 & 0.537 & 0.528 & 0.529 & 0.579 & 0.053\n",
      "0.481 & 0.585 & 0.533 & 0.544 & 0.608 & 0.066\n",
      "0.417 & 0.659 & 0.538 & 0.574 & 0.667 & 0.075\n",
      "0.704 & 0.39 & 0.547 & 0.515 & 0.492 & 0.085\n",
      "0.593 & 0.585 & 0.589 & 0.588 & 0.632 & 0.171\n",
      "0.593 & 0.537 & 0.565 & 0.559 & 0.595 & 0.123\n",
      "0.593 & 0.61 & 0.601 & 0.603 & 0.649 & 0.196\n"
     ]
    }
   ],
   "source": [
    "# overlapping students\n",
    "metrics(0,27,0,41)\n",
    "metrics(14,13,19,22)\n",
    "metrics(13,14,17,24)\n",
    "metrics(10,14,15,29)\n",
    "metrics(19,8,25,16)\n",
    "metrics(16,11,17,24)\n",
    "metrics(16,11,19,22)\n",
    "metrics(16,11,16,25)"
   ]
  },
  {
   "cell_type": "code",
   "execution_count": 271,
   "metadata": {},
   "outputs": [
    {
     "name": "stdout",
     "output_type": "stream",
     "text": [
      "0.0 & 1.0 & 0.5 & 0.591 & 0.743 & 0.0\n",
      "0.161 & 0.901 & 0.531 & 0.599 & 0.726 & 0.069\n",
      "0.339 & 0.753 & 0.546 & 0.584 & 0.682 & 0.097\n",
      "0.438 & 0.51 & 0.474 & 0.487 & 0.575 & -0.047\n",
      "0.232 & 0.827 & 0.53 & 0.584 & 0.702 & 0.064\n",
      "0.438 & 0.578 & 0.508 & 0.533 & 0.628 & 0.015\n",
      "0.333 & 0.618 & 0.475 & 0.527 & 0.64 & -0.047\n",
      "0.393 & 0.753 & 0.573 & 0.606 & 0.693 & 0.152\n",
      "0.843 & 0.784 & 0.813 & 0.818 & 0.784 & 0.627\n"
     ]
    }
   ],
   "source": [
    "# non-overlapping students\n",
    "metrics(0,56,0,81)\n",
    "metrics(9,47,8,73)\n",
    "metrics(19,37,20,61)\n",
    "metrics(21,27,50,52)\n",
    "metrics(13,43,14,67)\n",
    "metrics(21,27,43,59)\n",
    "metrics(16,32,39,63)\n",
    "metrics(22,34,20,61)"
   ]
  },
  {
   "cell_type": "markdown",
   "metadata": {},
   "source": [
    "#### Decision Tree Visulization"
   ]
  },
  {
   "cell_type": "code",
   "execution_count": 56,
   "metadata": {},
   "outputs": [],
   "source": [
    "from sklearn.externals.six import StringIO  \n",
    "from IPython.display import Image  \n",
    "from sklearn.tree import export_graphviz\n",
    "import pydotplus"
   ]
  },
  {
   "cell_type": "code",
   "execution_count": 45,
   "metadata": {},
   "outputs": [
    {
     "data": {
      "text/plain": [
       "{6: {1: {'confusion_matrix': array([[10, 17],\n",
       "          [18, 23]], dtype=int64),\n",
       "   'importance_feature': array(['std_f_loc_std_len_stay_at_clusters_in_minutes_morning_wkend',\n",
       "          'mean_f_steps_num_sedentary_bout_morning_wkdy',\n",
       "          'std_f_loc_time_at_cluster_2_in_group_afternoon_wkdy',\n",
       "          'std_f_loc_radius_of_gyration_night_wkend',\n",
       "          'std_f_locMap_minutes_at_place_003_morning_wkdy'], dtype='<U71'),\n",
       "   'test_acc': 0.4852941176470588,\n",
       "   'test_acc_bal': 0.465672990063234,\n",
       "   'train_acc': 0.9672958735733099},\n",
       "  2: {'confusion_matrix': array([[16, 11],\n",
       "          [ 9, 32]], dtype=int64), 'confusion_matrix_phaseII': array([[ 8, 16],\n",
       "          [15, 29]], dtype=int64), 'test_acc': 0.7058823529411765, 'test_acc_bal': 0.6865401987353207, 'test_acc_bal_phaseII': 0.4962121212121212, 'test_acc_phaseII': 0.5441176470588235, 'train_acc': 0.927129060579456}}}"
      ]
     },
     "execution_count": 45,
     "metadata": {},
     "output_type": "execute_result"
    }
   ],
   "source": [
    "training_unimoal_full_results_leaf[5]"
   ]
  },
  {
   "cell_type": "code",
   "execution_count": 166,
   "metadata": {},
   "outputs": [],
   "source": [
    "clf = get_clf(\"adaboost\", n_estimators=10, max_depth=6)\n",
    "a = clf.fit(X_phaseII_unimodal.fillna(NAFILL), Y_phaseII)\n",
    "importance = a.feature_importances_\n",
    "importance_index_new = np.array([idx for idx, x in enumerate(importance) if x > 0])\n",
    "features = X_phaseII_unimodal.columns[importance_index_new].tolist()"
   ]
  },
  {
   "cell_type": "code",
   "execution_count": 46,
   "metadata": {},
   "outputs": [],
   "source": [
    "# I2II\n",
    "features = ['std_f_loc_std_len_stay_at_clusters_in_minutes_morning_wkdy',\n",
    "           'std_f_locMap_num_bouts_30min_or_more_at_place_outside_afternoon_wkdy',\n",
    "           'std_f_screen_unlocks_per_minute_afternoon_wkdy',\n",
    "           'std_f_blue_std_num_scans_of_all_devices_of_self_evening_wkdy',\n",
    "           'mean_f_steps_num_active_bout_evening_wkdy',\n",
    "           'mean_f_locMap_num_bouts_30min_or_more_at_place_008_morning_wkend',\n",
    "           'mean_f_loc_number_of_clusters_local_night_wkend']\n",
    "# I2II\n",
    "features = ['std_f_loc_time_at_cluster_1_in_group_evening_wkdy',\n",
    " 'mean_f_locMap_min_bout_at_place_007_evening_wkdy',\n",
    " 'mean_f_loc_moving_time_percent_local_evening_wkdy',\n",
    " 'mean_f_screen_unlocks_per_minute_night_wkdy',\n",
    " 'std_f_steps_num_active_bout_afternoon_wkend',\n",
    " 'std_f_locMap_num_bouts_20min_or_more_at_place_008_afternoon_wkend',\n",
    " 'std_f_steps_max_length_sedentary_bout_minutes_evening_wkend']"
   ]
  },
  {
   "cell_type": "code",
   "execution_count": 47,
   "metadata": {},
   "outputs": [],
   "source": [
    "clf = get_clf(\"adaboost\", n_estimators=5, max_leaf_nodes=6)\n",
    "a = clf.fit(X_phaseII_unimodal[features].fillna(NAFILL), Y_phaseII)"
   ]
  },
  {
   "cell_type": "code",
   "execution_count": 48,
   "metadata": {},
   "outputs": [
    {
     "data": {
      "text/plain": [
       "0.9337121212121212"
      ]
     },
     "execution_count": 48,
     "metadata": {},
     "output_type": "execute_result"
    }
   ],
   "source": [
    "balanced_accuracy_score(a.predict(X_phaseII_unimodal[features].fillna(NAFILL)), Y_phaseII)"
   ]
  },
  {
   "cell_type": "code",
   "execution_count": 141,
   "metadata": {},
   "outputs": [],
   "source": []
  },
  {
   "cell_type": "code",
   "execution_count": 187,
   "metadata": {},
   "outputs": [],
   "source": [
    "clf = get_clf(\"dt\", max_depth= 3)\n",
    "dt = clf.fit(X_phaseII_unimodal.fillna(NAFILL), Y_phaseII)\n",
    "importance = dt.feature_importances_\n",
    "importance_index_new = np.array([idx for idx, x in enumerate(importance) if x > 0])\n",
    "featuress = X_phaseII_unimodal.columns[importance_index_new].tolist()"
   ]
  },
  {
   "cell_type": "code",
   "execution_count": 191,
   "metadata": {},
   "outputs": [
    {
     "data": {
      "text/plain": [
       "'std_f_loc_std_len_stay_at_clusters_in_minutes_morning_wkend'"
      ]
     },
     "execution_count": 191,
     "metadata": {},
     "output_type": "execute_result"
    }
   ],
   "source": [
    " X_phaseII_unimodal.columns[96]"
   ]
  },
  {
   "cell_type": "code",
   "execution_count": 188,
   "metadata": {},
   "outputs": [
    {
     "data": {
      "text/plain": [
       "['std_f_locMap_minutes_at_place_003_morning_wkdy',\n",
       " 'std_f_loc_std_len_stay_at_clusters_in_minutes_morning_wkend',\n",
       " 'std_f_loc_radius_of_gyration_night_wkend']"
      ]
     },
     "execution_count": 188,
     "metadata": {},
     "output_type": "execute_result"
    }
   ],
   "source": [
    "featuress"
   ]
  },
  {
   "cell_type": "code",
   "execution_count": 154,
   "metadata": {},
   "outputs": [
    {
     "data": {
      "text/plain": [
       "['mean_f_steps_num_sedentary_bout_morning_wkdy',\n",
       " 'mean_f_locMap_study_duration_minutes_morning_wkdy',\n",
       " 'std_f_locMap_minutes_at_place_003_morning_wkdy',\n",
       " 'mean_f_slp_min_length_bout_restless_afternoon_wkdy',\n",
       " 'std_f_loc_time_at_cluster_2_in_group_afternoon_wkdy',\n",
       " 'mean_f_loc_speed_var_meters_per_sec_evening_wkdy',\n",
       " 'std_f_loc_std_len_stay_at_clusters_in_minutes_morning_wkend',\n",
       " 'std_f_loc_radius_of_gyration_night_wkend']"
      ]
     },
     "execution_count": 154,
     "metadata": {},
     "output_type": "execute_result"
    }
   ],
   "source": [
    "features"
   ]
  },
  {
   "cell_type": "code",
   "execution_count": 189,
   "metadata": {},
   "outputs": [
    {
     "data": {
      "image/png": "[encoded data removed]",
      "text/plain": [
       "<IPython.core.display.Image object>"
      ]
     },
     "execution_count": 189,
     "metadata": {},
     "output_type": "execute_result"
    }
   ],
   "source": [
    "dot_data = StringIO()\n",
    "export_graphviz(dt, out_file=dot_data,  \n",
    "                filled=True, rounded=True,\n",
    "                special_characters=True,)\n",
    "graph = pydotplus.graph_from_dot_data(dot_data.getvalue())  \n",
    "Image(graph.create_png())"
   ]
  },
  {
   "cell_type": "code",
   "execution_count": 137,
   "metadata": {},
   "outputs": [],
   "source": [
    "X = X_phaseI_unimodal[features].fillna(NAFILL)\n",
    "Y = Y_phaseI"
   ]
  },
  {
   "cell_type": "code",
   "execution_count": 278,
   "metadata": {},
   "outputs": [],
   "source": [
    "classification_results = []\n",
    "label = 0\n",
    "test = -1\n",
    "leafNo = -1\n",
    "for (idx_row, row), test in zip(X.iterrows(), Y):\n",
    "    if row.iloc[2] <= -0.138:\n",
    "        if (row.iloc[4] <= 1.258):\n",
    "            if (row.iloc[3] <= 0.605):\n",
    "                label = 1\n",
    "                leafNo = 1\n",
    "            else:\n",
    "                label = -1\n",
    "                leafNo = 2\n",
    "\n",
    "        else:\n",
    "            label = -1\n",
    "            leafNo = 3\n",
    "    else:\n",
    "        if (row.iloc[5] <= -0.175):\n",
    "            label = -1\n",
    "            leafNo = 4\n",
    "        else:\n",
    "            if (row.iloc[6] <= 0.212):\n",
    "                label = 1\n",
    "                leafNo = 5\n",
    "            else:\n",
    "                label = -1\n",
    "                leafNo = 6\n",
    "    classification_results.append([label, leafNo, test])"
   ]
  },
  {
   "cell_type": "code",
   "execution_count": 279,
   "metadata": {},
   "outputs": [
    {
     "data": {
      "text/plain": [
       "[]"
      ]
     },
     "execution_count": 279,
     "metadata": {},
     "output_type": "execute_result"
    }
   ],
   "source": [
    "[]"
   ]
  },
  {
   "cell_type": "code",
   "execution_count": 280,
   "metadata": {},
   "outputs": [
    {
     "data": {
      "text/plain": [
       "1  0   2    \n",
       "1   1  False     1\n",
       "       True     36\n",
       "2  -1  False     3\n",
       "3  -1  False     5\n",
       "       True      1\n",
       "4  -1  False    13\n",
       "       True      1\n",
       "5   1  True      6\n",
       "6  -1  False     2\n",
       "dtype: int64"
      ]
     },
     "execution_count": 280,
     "metadata": {},
     "output_type": "execute_result"
    }
   ],
   "source": [
    "pd.pivot_table(pd.DataFrame(classification_results), index = [1,0,2], aggfunc = lambda x : len(x))"
   ]
  },
  {
   "cell_type": "markdown",
   "metadata": {},
   "source": [
    "### Tricks from the beginning - Out of curiosity"
   ]
  },
  {
   "cell_type": "code",
   "execution_count": 155,
   "metadata": {},
   "outputs": [],
   "source": [
    "cols_full = [x for x in df_phaseI_select.columns.tolist()[5:] if (\"_allday\" not in x and \"_dis_\" not in x)]\n",
    "df_unimodal_full = df_phaseI_select[[\"PID\"] + cols_full]\n",
    "df_unimodal_full_mean = df_unimodal_full.groupby(\"PID\").mean()\n",
    "df_unimodal_full_mean.columns = [\"mean_\" + y for y in cols_full]\n",
    "df_unimodal_full_std = df_unimodal_full.groupby(\"PID\").std()\n",
    "df_unimodal_full_std.columns = [\"std_\" + y for y in cols_full]\n",
    "df_unimodal_full_mean_std = df_unimodal_full_mean.merge(df_unimodal_full_std, how = \"outer\", left_index=True, right_index=True)\n",
    "df_unimodal_full_mean_std = (df_unimodal_full_mean_std-df_unimodal_full_mean_std.mean())/df_unimodal_full_mean_std.std()\n",
    "X_phaseI_unimodal_full = deepcopy(df_unimodal_full_mean_std)\n",
    "X_phaseI_unimodal_full = X_phaseI_unimodal_full.loc[df_label.index]\n",
    "Y_phaseI = df_label[\"label_I\"]\n",
    "\n",
    "cols_full = [x for x in df_phaseII_select.columns.tolist()[5:] if (\"_allday\" not in x and \"_dis_\" not in x)]\n",
    "df_unimodal_full = df_phaseII_select[[\"PID\"] + cols_full]\n",
    "df_unimodal_full_mean = df_unimodal_full.groupby(\"PID\").mean()\n",
    "df_unimodal_full_mean.columns = [\"mean_\" + y for y in cols_full]\n",
    "df_unimodal_full_std = df_unimodal_full.groupby(\"PID\").std()\n",
    "df_unimodal_full_std.columns = [\"std_\" + y for y in cols_full]\n",
    "df_unimodal_full_mean_std = df_unimodal_full_mean.merge(df_unimodal_full_std, how = \"outer\", left_index=True, right_index=True)\n",
    "df_unimodal_full_mean_std = (df_unimodal_full_mean_std-df_unimodal_full_mean_std.mean())/df_unimodal_full_mean_std.std()\n",
    "X_phaseII_unimodal_full = deepcopy(df_unimodal_full_mean_std)\n",
    "X_phaseII_unimodal_full = X_phaseII_unimodal_full.loc[df_label.index]\n",
    "Y_phaseII = df_label[\"label_II\"]\n"
   ]
  },
  {
   "cell_type": "code",
   "execution_count": 157,
   "metadata": {},
   "outputs": [
    {
     "name": "stdout",
     "output_type": "stream",
     "text": [
      "depth\n",
      "5 2\n",
      "(68, 1688)\n",
      "[ 435  736  855 1279]\n",
      "train acc  0.8878402107111499  test acc  0.7205882352941176\n",
      "(68, 4)\n",
      "train acc phase1:  0.8825724319578576 test acc phase1:  0.8382352941176471 phase2:  0.6029411764705882\n",
      "5 3\n",
      "(68, 1688)\n",
      "[ 125  212  435  504  640  736  839  855  879  890  926  965 1119 1279\n",
      " 1677 1684]\n",
      "train acc  0.9855136084284458  test acc  0.5882352941176471\n",
      "(68, 16)\n",
      "[ 1  2  3  5  6  7  8  9 10 12 13 14 15]\n",
      "train acc  0.9822212467076381  test acc  0.8235294117647058\n",
      "(68, 13)\n",
      "[ 0  1  2  3  5  6  7  8  9 10 12]\n",
      "train acc  0.9822212467076381  test acc  0.8088235294117647\n",
      "(68, 11)\n",
      "train acc phase1:  0.9822212467076381 test acc phase1:  0.8088235294117647 phase2:  0.4852941176470588\n",
      "5 4\n",
      "(68, 1688)\n",
      "[  17  284  736  855 1279 1398 1684]\n",
      "train acc  1.0  test acc  0.6176470588235294\n",
      "(68, 7)\n",
      "train acc phase1:  1.0 test acc phase1:  0.8235294117647058 phase2:  0.5441176470588235\n",
      "leaf\n",
      "5 3\n",
      "(68, 1688)\n",
      "[ 435  736 1279]\n",
      "train acc  0.8573309920983317  test acc  0.75\n",
      "(68, 3)\n",
      "train acc phase1:  0.8529411764705881 test acc phase1:  0.8382352941176471 phase2:  0.6176470588235294\n",
      "5 4\n",
      "(68, 1688)\n",
      "[ 435  736  879 1279 1684]\n",
      "train acc  0.9242756804214225  test acc  0.5735294117647058\n",
      "(68, 5)\n",
      "train acc phase1:  0.9233977172958737 test acc phase1:  0.8382352941176471 phase2:  0.4852941176470588\n",
      "5 5\n",
      "(68, 1688)\n",
      "[ 435  736  855  879 1279 1684]\n",
      "train acc  0.9556628621597895  test acc  0.5735294117647058\n",
      "(68, 6)\n",
      "train acc phase1:  0.9530289727831432 test acc phase1:  0.8382352941176471 phase2:  0.47058823529411764\n",
      "5 6\n",
      "(68, 1688)\n",
      "[  43  287  435  554  736  855 1279 1398 1684]\n",
      "train acc  0.9741000877963129  test acc  0.5882352941176471\n",
      "(68, 9)\n",
      "[1 3 4 5 6 7 8]\n",
      "train acc  0.9712467076382796  test acc  0.8529411764705882\n",
      "(68, 7)\n",
      "train acc phase1:  0.9712467076382796 test acc phase1:  0.8382352941176471 phase2:  0.5294117647058824\n",
      "5 7\n",
      "(68, 1688)\n",
      "[ 212  248  287  435  514  554  736  855 1092 1131 1279 1398 1649 1684]\n",
      "train acc  0.9879280070237046  test acc  0.6176470588235294\n",
      "(68, 14)\n",
      "[ 0  2  3  5  6  7  8  9 10 13]\n",
      "train acc  0.9852941176470587  test acc  0.8088235294117647\n",
      "(68, 10)\n",
      "train acc phase1:  0.9852941176470587 test acc phase1:  0.8382352941176471 phase2:  0.5\n",
      "5 8\n",
      "(68, 1688)\n",
      "[ 435  504  554  736  855 1534 1684]\n",
      "train acc  1.0  test acc  0.6470588235294118\n",
      "(68, 7)\n",
      "[0 1 2 3 4 6]\n",
      "train acc  1.0  test acc  0.8382352941176471\n",
      "(68, 6)\n",
      "train acc phase1:  1.0 test acc phase1:  0.8235294117647058 phase2:  0.5147058823529411\n"
     ]
    }
   ],
   "source": [
    "training_unimoal_full_results_depth = {}\n",
    "training_unimoal_full_results_leaf = {}\n",
    "for n_estimators in [5]:\n",
    "    training_unimoal_full_results_depth[n_estimators] = {}\n",
    "    training_unimoal_full_results_leaf[n_estimators] = {}\n",
    "    print(\"depth\")\n",
    "    for max_depth in [2,3,4]:\n",
    "        print(n_estimators,max_depth)\n",
    "        r = adaboost(X_phaseI_unimodal_full.fillna(NAFILL),X_phaseII_unimodal_full.fillna(NAFILL),Y_phaseI,Y_phaseII,n_estimators,max_depth=max_depth)\n",
    "        training_unimoal_full_results_depth[n_estimators][max_depth] = deepcopy(r)\n",
    "    print(\"leaf\")\n",
    "    for max_leaf in [3,4,5,6,7,8]:\n",
    "        print(n_estimators,max_leaf)\n",
    "        r = adaboost(X_phaseI_unimodal_full.fillna(NAFILL),X_phaseII_unimodal_full.fillna(NAFILL),Y_phaseI,Y_phaseII,n_estimators,max_leaf_nodes=max_leaf)\n",
    "        training_unimoal_full_results_leaf[n_estimators][max_leaf] = deepcopy(r)\n",
    "with open(focus_path + \"unimodal_full_train_result.pkl\", \"wb\") as f:\n",
    "    pickle.dump({\"depth\":training_unimoal_full_results_depth,\"leaf\":training_unimoal_full_results_leaf},f)"
   ]
  },
  {
   "cell_type": "code",
   "execution_count": null,
   "metadata": {},
   "outputs": [],
   "source": []
  },
  {
   "cell_type": "markdown",
   "metadata": {},
   "source": [
    "## Contextually Filtered"
   ]
  },
  {
   "cell_type": "code",
   "execution_count": 44,
   "metadata": {},
   "outputs": [],
   "source": [
    "X_phaseI_contextual = pd.read_csv(focus_path + \"X_contextual_phaseI.csv\")\n",
    "X_phaseI_contextual = X_phaseI_contextual.set_index(\"PID\")\n",
    "Y_phaseI = df_phaseI_label[~df_phaseI_label[\"BDI\"].isna()][\"label\"]\n",
    "X_phaseII_contextual = pd.read_csv(focus_path + \"X_contextual_phaseII.csv\")\n",
    "X_phaseII_contextual = X_phaseII_contextual.set_index(\"PID\")\n",
    "Y_phaseII = df_phaseII_label[~df_phaseII_label[\"BDI\"].isna()][\"label\"]"
   ]
  },
  {
   "cell_type": "code",
   "execution_count": 45,
   "metadata": {},
   "outputs": [
    {
     "data": {
      "text/plain": [
       "(68, 324)"
      ]
     },
     "execution_count": 45,
     "metadata": {},
     "output_type": "execute_result"
    }
   ],
   "source": [
    "X_phaseI_contextual.shape"
   ]
  },
  {
   "cell_type": "code",
   "execution_count": 46,
   "metadata": {},
   "outputs": [
    {
     "name": "stdout",
     "output_type": "stream",
     "text": [
      "depth\n",
      "5 2\n",
      "(68, 324)\n",
      "9, 11, 13, 15, 16, 17, 18, 18, 20, 20, 21\n",
      "[321 261 262 264 271 147  83  87 158  31 222 228 231  41 174 240 241 243\n",
      " 179 312 316]\n",
      "train acc  0.8360403863037752  test acc  0.5  test acc bal  0.4242424242424242\n",
      "(68, 21)\n",
      "7\n",
      "[ 1  5  8 13 14 16 17]\n",
      "train acc  0.8312115891132572  test acc  0.6911764705882353  test acc bal  0.6477272727272727\n",
      "(68, 7)\n",
      "7\n",
      "train acc phase1:  0.8303336259877084 test acc phase1:  0.6617647058823529   0.6060606060606061 phase2:  0.6029411764705882   0.556910569105691\n",
      "5 3\n",
      "(68, 324)\n",
      "21, 28, 34, 39, 43, 45, 48, 49, 51, 54, 55\n",
      "[256 258   3 260 261   7   9  11 139 268 270 271 269 147 275 276 151  25\n",
      "  27 158  31 288 163 292  38 294  41  45 174 302 179 308  53 182  52 312\n",
      " 315 317 321  72  82  87  96  97 228 230 231 233 237 240 241 243 250 123\n",
      " 255]\n",
      "train acc  0.9571992976294995  test acc  0.3235294117647059  test acc bal  0.3162878787878788\n",
      "(68, 55)\n",
      "21\n",
      "[ 1  2  7  9 13 15 16 17 19 20 21 23 26 28 29 31 36 50 51 52 54]\n",
      "train acc  0.9521510096575945  test acc  0.6470588235294118  test acc bal  0.6041666666666666\n",
      "(68, 21)\n",
      "18\n",
      "[ 0  1  2  3  4  5  6  7  8 10 12 13 14 15 17 18 19 20]\n",
      "train acc  0.9523705004389815  test acc  0.6764705882352942  test acc bal  0.6458333333333333\n",
      "(68, 18)\n",
      "18\n",
      "train acc phase1:  0.951492537313433 test acc phase1:  0.6764705882352942   0.6458333333333333 phase2:  0.5441176470588235   0.501806684733514\n",
      "5 4\n",
      "(68, 324)\n",
      "27, 43, 52, 60, 68, 73, 80, 90, 92, 98, 103\n",
      "[258   3   4 259 260   7 261 262 266  11  12 267 269 271 272  18 275 277\n",
      " 278  23  24 280  27  29  31 288 289 290  36  41 298  43  45 302  51 308\n",
      "  53 312  58 315  60 316  62 317  65 321  66  73  77  85  87  98  99 102\n",
      " 107 108 110 114 116 131 142 145 147 151 152 154 155 156 159 160 161 162\n",
      " 171 174 176 182 185 191 192 193 199 201 202 205 207 211 222 225 227 228\n",
      " 230 231 232 233 235 238 240 241 243 250 251 254 255]\n",
      "train acc  0.9938542581211588  test acc  0.38235294117647056  test acc bal  0.3522727272727273\n",
      "(68, 103)\n",
      "27\n",
      "[  0   5   9  23  24  25  29  35  36  39  44  46  50  56  62  66  73  75\n",
      "  78  80  82  89  95  97  98  99 101]\n",
      "train acc  0.9925373134328358  test acc  0.5  test acc bal  0.4337121212121212\n",
      "(68, 27)\n",
      "21\n",
      "[ 0  1  2  3  4  5  6  7  8  9 10 14 15 16 18 21 22 23 24 25 26]\n",
      "train acc  0.9846356453028972  test acc  0.5588235294117647  test acc bal  0.5075757575757576\n",
      "(68, 21)\n",
      "19\n",
      "[ 0  1  2  3  4  5  6  7  8  9 11 12 13 14 16 17 18 19 20]\n",
      "train acc  0.9881474978050919  test acc  0.6176470588235294  test acc bal  0.5814393939393939\n",
      "(68, 19)\n",
      "18\n",
      "[ 0  1  2  3  4  5  6  7  8  9 10 11 12 14 15 16 17 18]\n",
      "train acc  0.9888059701492534  test acc  0.6617647058823529  test acc bal  0.634469696969697\n",
      "(68, 18)\n",
      "18\n",
      "train acc phase1:  0.9890254609306406 test acc phase1:  0.6911764705882353   0.6571969696969697 phase2:  0.5588235294117647   0.5203252032520325\n",
      "leaf\n",
      "5 3\n",
      "(68, 324)\n",
      "3, 3, 3, 3, 3, 3, 3, 3, 3, 3, 3\n",
      "[243  41  31]\n",
      "train acc  0.8072870939420544  test acc  0.47058823529411764  test acc bal  0.38257575757575757\n",
      "(68, 3)\n",
      "3\n",
      "train acc phase1:  0.8088235294117647 test acc phase1:  0.7794117647058824   0.7159090909090908 phase2:  0.5294117647058824   0.4643179765130985\n",
      "5 4\n",
      "(68, 324)\n",
      "7, 7, 7, 7, 8, 8, 8, 8, 8, 8, 8\n",
      "[288   3   7  41  11 147 243  31]\n",
      "train acc  0.864793678665496  test acc  0.3088235294117647  test acc bal  0.2670454545454546\n",
      "(68, 8)\n",
      "6\n",
      "[0 2 3 4 6 7]\n",
      "train acc  0.8496488147497805  test acc  0.7058823529411765  test acc bal  0.668560606060606\n",
      "(68, 6)\n",
      "6\n",
      "train acc phase1:  0.849209833187006 test acc phase1:  0.7352941176470589   0.6912878787878788 phase2:  0.5588235294117647   0.5013550135501355\n",
      "5 5\n",
      "(68, 324)\n",
      "11, 12, 12, 12, 12, 12, 12, 12, 12, 12, 12\n",
      "[  3   7  11 268 147 276  31 288  41 302 243 255]\n",
      "train acc  0.9190079016681301  test acc  0.3235294117647059  test acc bal  0.27840909090909094\n",
      "(68, 12)\n",
      "10\n",
      "[ 0  2  3  5  6  7  8  9 10 11]\n",
      "train acc  0.912862159789289  test acc  0.7205882352941176  test acc bal  0.6893939393939394\n",
      "(68, 10)\n",
      "10\n",
      "train acc phase1:  0.912862159789289 test acc phase1:  0.7205882352941176   0.6893939393939394 phase2:  0.5588235294117647   0.5392953929539295\n",
      "5 6\n",
      "(68, 324)\n",
      "11, 11, 11, 11, 11, 11, 11, 11, 11, 11, 11\n",
      "[  3   7  11 267 147  31 288  41 238 243 254]\n",
      "train acc  0.949297629499561  test acc  0.3088235294117647  test acc bal  0.2670454545454546\n",
      "(68, 11)\n",
      "9\n",
      "[ 1  2  3  4  5  6  7  9 10]\n",
      "train acc  0.9249341527655841  test acc  0.7794117647058824  test acc bal  0.7632575757575758\n",
      "(68, 9)\n",
      "9\n",
      "train acc phase1:  0.9253731343283584 test acc phase1:  0.7941176470588235   0.7746212121212122 phase2:  0.5588235294117647   0.5013550135501355\n",
      "5 7\n",
      "(68, 324)\n",
      "14, 17, 19, 25, 28, 28, 30, 31, 32, 32, 33\n",
      "[  3   7  11 267 147 156 158  31 288 161 165 168  41 171 175  50 179 182\n",
      "  59 188  62  64  65 204  82 212 221 105 238 243 245 253 254]\n",
      "train acc  0.9688323090430202  test acc  0.3088235294117647  test acc bal  0.2670454545454546\n",
      "(68, 33)\n",
      "14\n",
      "[ 0  2  3  4  5  7  8 12 14 17 25 27 29 32]\n",
      "train acc  0.9532484635645304  test acc  0.75  test acc bal  0.731060606060606\n",
      "(68, 14)\n",
      "11\n",
      "[ 1  2  3  4  5  6  7  8 10 12 13]\n",
      "train acc  0.949297629499561  test acc  0.7941176470588235  test acc bal  0.7840909090909092\n",
      "(68, 11)\n",
      "9\n",
      "[ 0  1  2  4  5  6  7  9 10]\n",
      "train acc  0.9418349429323968  test acc  0.7941176470588235  test acc bal  0.7840909090909092\n",
      "(68, 9)\n",
      "9\n",
      "train acc phase1:  0.9418349429323968 test acc phase1:  0.8235294117647058   0.8162878787878788 phase2:  0.5441176470588235   0.501806684733514\n",
      "5 8\n",
      "(68, 324)\n",
      "18, 24, 30, 34, 36, 38, 41, 42, 45, 46, 46\n",
      "[  3   4 131   7 266  11 267 270 147  26 156  29 158  31 288 161  36 165\n",
      " 168  41 171  44 174 175  48 179 182  59 188  62  65  68  73 204 221 102\n",
      " 105 238 240 243 245 126 123 253 254 255]\n",
      "train acc  0.9837576821773486  test acc  0.35294117647058826  test acc bal  0.32007575757575757\n",
      "(68, 46)\n",
      "19\n",
      "[ 0  1  4  5  6  8 13 14 17 19 25 33 35 37 38 39 42 43 44]\n",
      "train acc  0.9732221246707641  test acc  0.7205882352941176  test acc bal  0.6988636363636364\n",
      "(68, 19)\n",
      "16\n",
      "[ 0  1  3  4  5  6  7  8  9 11 12 13 14 15 16 18]\n",
      "train acc  0.9723441615452153  test acc  0.7647058823529411  test acc bal  0.7613636363636364\n",
      "(68, 16)\n",
      "15\n",
      "[ 0  1  2  3  4  5  6  8  9 10 11 12 13 14 15]\n",
      "train acc  0.9721246707638284  test acc  0.75  test acc bal  0.740530303030303\n",
      "(68, 15)\n",
      "14\n",
      "[ 0  2  3  4  5  6  7  8  9 10 11 12 13 14]\n",
      "train acc  0.9714661984196666  test acc  0.7647058823529411  test acc bal  0.7708333333333333\n",
      "(68, 14)\n",
      "14\n",
      "train acc phase1:  0.9714661984196669 test acc phase1:  0.75   0.75 phase2:  0.5441176470588235   0.489159891598916\n"
     ]
    }
   ],
   "source": [
    "training_contextual_results_depth = {}\n",
    "training_contextual_results_leaf = {}\n",
    "for n_estimators in [5]:\n",
    "    training_contextual_results_depth[n_estimators] = {}\n",
    "    training_contextual_results_leaf[n_estimators] = {}\n",
    "    print(\"depth\")\n",
    "    for max_depth in [2,3,4]:\n",
    "        print(n_estimators,max_depth)\n",
    "        r = train_test(\"adaboost\",\n",
    "            X_phaseI_contextual.fillna(NAFILL),\n",
    "            X_phaseII_contextual.fillna(NAFILL),\n",
    "            Y_phaseI,\n",
    "            Y_phaseII,\n",
    "            n_estimators,\n",
    "            max_depth=max_depth)\n",
    "        training_contextual_results_depth[n_estimators][max_depth] = deepcopy(r)\n",
    "    print(\"leaf\")\n",
    "    for max_leaf in [3,4,5,6,7,8]:\n",
    "        print(n_estimators,max_leaf)\n",
    "        r = train_test(\"adaboost\",\n",
    "            X_phaseI_contextual.fillna(NAFILL),\n",
    "            X_phaseII_contextual.fillna(NAFILL),\n",
    "            Y_phaseI,\n",
    "            Y_phaseII,\n",
    "            n_estimators,\n",
    "            max_leaf_nodes=max_leaf)\n",
    "        training_contextual_results_leaf[n_estimators][max_leaf] = deepcopy(r)\n",
    "# with open(focus_path + \"contextual_train_result.pkl\", \"wb\") as f:\n",
    "#     pickle.dump({\"depth\":training_contextual_results_depth,\"leaf\":training_contextual_results_leaf},f)"
   ]
  },
  {
   "cell_type": "markdown",
   "metadata": {},
   "source": [
    "## Hybrid Features"
   ]
  },
  {
   "cell_type": "code",
   "execution_count": 49,
   "metadata": {},
   "outputs": [],
   "source": [
    "X_phaseI_hybrid = X_phaseI_unimodal.merge(X_phaseI_contextual, left_index=True, right_index=True)\n",
    "Y_phaseI = df_phaseI_label[~df_phaseI_label[\"BDI\"].isna()][\"label\"]\n",
    "X_phaseII_hybrid = X_phaseII_unimodal.merge(X_phaseII_contextual, left_index=True, right_index=True)\n",
    "Y_phaseII = df_phaseII_label[~df_phaseII_label[\"BDI\"].isna()][\"label\"]"
   ]
  },
  {
   "cell_type": "code",
   "execution_count": 50,
   "metadata": {},
   "outputs": [
    {
     "data": {
      "text/plain": [
       "(68, 481)"
      ]
     },
     "execution_count": 50,
     "metadata": {},
     "output_type": "execute_result"
    }
   ],
   "source": [
    "X_phaseI_hybrid.shape"
   ]
  },
  {
   "cell_type": "code",
   "execution_count": 51,
   "metadata": {},
   "outputs": [
    {
     "name": "stdout",
     "output_type": "stream",
     "text": [
      "depth\n",
      "5 2\n",
      "(68, 481)\n",
      "4, 4, 4, 4, 4, 4, 4, 4, 4, 4, 4\n",
      "[ 97 115  52  31]\n",
      "train acc  0.8988147497805093  test acc  0.4852941176470588  test acc bal  0.42234848484848486\n",
      "(68, 4)\n",
      "4\n",
      "train acc phase1:  0.8955223880597015 test acc phase1:  0.75   0.7026515151515151 phase2:  0.5882352941176471   0.5826558265582655\n",
      "5 3\n",
      "(68, 481)\n",
      "19, 30, 40, 48, 55, 63, 69, 74, 83, 90, 97\n",
      "[257   2 259   4   5 262   1 264 265  10  11  14  16  17 275 279  24  25\n",
      " 282 285  31  34 292  37  44  45  46  47 306  52  53 309  56  58  59  62\n",
      "  68 327  76  80  84 346  91  97 107 364 367 115 373 122 378 381 126 128\n",
      " 131 387 133 135 397 142 399 401 403 406 151 409 412 421 422 171 427 431\n",
      " 176 433 181 183 185 190 191 447 198 455 456 201 458 463 212 472 476 224\n",
      " 229 231 233 236 237 243 248]\n",
      "train acc  0.9835381913959613  test acc  0.5441176470588235  test acc bal  0.5056818181818181\n",
      "(68, 97)\n",
      "16\n",
      "[10 20 23 26 29 35 36 43 46 51 64 68 69 70 73 90]\n",
      "train acc  0.9850746268656714  test acc  0.75  test acc bal  0.731060606060606\n",
      "(68, 16)\n",
      "13\n",
      "[ 0  1  2  3  4  5  6  7 10 11 12 13 14]\n",
      "train acc  0.9850746268656714  test acc  0.8235294117647058  test acc bal  0.7973484848484849\n",
      "(68, 13)\n",
      "12\n",
      "[ 0  1  2  3  4  5  6  7  8 10 11 12]\n",
      "train acc  0.9848551360842841  test acc  0.8088235294117647  test acc bal  0.7859848484848485\n",
      "(68, 12)\n",
      "12\n",
      "train acc phase1:  0.9848551360842841 test acc phase1:  0.8529411764705882   0.8390151515151515 phase2:  0.6029411764705882   0.6011743450767841\n",
      "5 4\n",
      "(68, 481)\n",
      "8, 11, 16, 18, 21, 24, 26, 28, 29, 31, 32\n",
      "[129 257   4 262 207 210 211 148 406  25  91 156  94  31  97  34  35 293\n",
      " 422  37 298 107  46 304 305 241 115  52 181 442 445  62]\n",
      "train acc  0.9995610184372256  test acc  0.5147058823529411  test acc bal  0.4734848484848485\n",
      "(68, 32)\n",
      "8\n",
      "[ 6 10 13 21 22 26 27 30]\n",
      "train acc  0.9997805092186127  test acc  0.8088235294117647  test acc bal  0.7954545454545454\n",
      "(68, 8)\n",
      "8\n",
      "train acc phase1:  0.9995610184372256 test acc phase1:  0.7941176470588235   0.7840909090909092 phase2:  0.5294117647058824   0.4832881662149955\n",
      "leaf\n",
      "5 3\n",
      "(68, 481)\n",
      "2, 2, 2, 2, 2, 2, 2, 2, 2, 2, 2\n",
      "[52 31]\n",
      "train acc  0.8298946444249342  test acc  0.47058823529411764  test acc bal  0.4109848484848485\n",
      "(68, 2)\n",
      "2\n",
      "train acc phase1:  0.823748902546093 test acc phase1:  0.75   0.75 phase2:  0.5882352941176471   0.5889792231255646\n",
      "5 4\n",
      "(68, 481)\n",
      "3, 3, 3, 3, 3, 3, 3, 3, 3, 3, 3\n",
      "[52 46 31]\n",
      "train acc  0.8832309043020193  test acc  0.47058823529411764  test acc bal  0.4109848484848485\n",
      "(68, 3)\n",
      "3\n",
      "train acc phase1:  0.8678665496049166 test acc phase1:  0.7941176470588235   0.8125 phase2:  0.5735294117647058   0.5831074977416442\n",
      "5 5\n",
      "(68, 481)\n",
      "5, 5, 5, 5, 5, 5, 5, 5, 5, 5, 5\n",
      "[ 97  46 115  52  31]\n",
      "train acc  0.9411764705882352  test acc  0.5441176470588235  test acc bal  0.5056818181818181\n",
      "(68, 5)\n",
      "5\n",
      "train acc phase1:  0.9396400351185249 test acc phase1:  0.7941176470588235   0.7651515151515151 phase2:  0.5735294117647058   0.5767841011743451\n",
      "5 6\n",
      "(68, 481)\n",
      "9, 15, 20, 25, 28, 29, 31, 35, 35, 37, 40\n",
      "[257 131 136 394  11  14  15  18 275 403 405 406 279 409  25 285  31 422\n",
      " 171  46 176 305  52 183 185  58 186  62 191 192 193 194  80 346  96  97\n",
      " 237 241 115 127]\n",
      "train acc  0.959833187006146  test acc  0.5294117647058824  test acc bal  0.48484848484848486\n",
      "(68, 40)\n",
      "9\n",
      "[10 16 19 22 24 25 26 30 38]\n",
      "train acc  0.9582967515364357  test acc  0.7647058823529411  test acc bal  0.7424242424242424\n",
      "(68, 9)\n",
      "6\n",
      "[0 1 2 3 6 8]\n",
      "train acc  0.9558823529411766  test acc  0.8382352941176471  test acc bal  0.8276515151515151\n",
      "(68, 6)\n",
      "6\n",
      "train acc phase1:  0.9563213345039512 test acc phase1:  0.8382352941176471   0.8276515151515151 phase2:  0.5588235294117647   0.5456187895212286\n",
      "5 7\n",
      "(68, 481)\n",
      "12, 20, 26, 32, 36, 41, 43, 46, 51, 55, 58\n",
      "[128 129 130 387 131 133 394  11 401  18 275 148 403 406 151 279 409 405\n",
      " 156 285 412  31  34  36  37 421 171 301  46 305  52 438 183 185 442  58\n",
      " 186 445 191 193 194 327 331 462 215 472 346  92 478  97 103 231 107 108\n",
      " 241 115 126 127]\n",
      "train acc  0.9861720807726073  test acc  0.5588235294117647  test acc bal  0.5170454545454546\n",
      "(68, 58)\n",
      "14\n",
      "[11 16 21 22 27 28 30 33 35 36 37 42 47 55]\n",
      "train acc  0.9852941176470587  test acc  0.75  test acc bal  0.7215909090909092\n",
      "(68, 14)\n",
      "11\n",
      "[ 0  1  2  4  5  6  7  8  9 11 13]\n",
      "train acc  0.9844161545215099  test acc  0.8235294117647058  test acc bal  0.8162878787878788\n",
      "(68, 11)\n",
      "10\n",
      "[ 0  1  2  3  4  5  6  7  8 10]\n",
      "train acc  0.9844161545215099  test acc  0.8382352941176471  test acc bal  0.8371212121212122\n",
      "(68, 10)\n",
      "10\n",
      "train acc phase1:  0.9848551360842841 test acc phase1:  0.8382352941176471   0.8371212121212122 phase2:  0.5441176470588235   0.5460704607046071\n",
      "5 8\n",
      "(68, 481)\n",
      "19, 26, 36, 43, 49, 54, 58, 60, 64, 67, 72\n",
      "[  1 257   4 262  11 271  15  18 279  27  31  36  37  43  45  46 305  52\n",
      " 309  58  62  64  66  71 331 337  81 346  91  92  96  97 360 108 366 114\n",
      " 115 123 127 128 384 387 131 133 136 142 144 148 405 151 408 156 159 427\n",
      " 181 438 183 442 186 445 189 192 193 194 453 454 462 472 476 237 241 246]\n",
      "train acc  0.9969271290605793  test acc  0.5588235294117647  test acc bal  0.5075757575757576\n",
      "(68, 72)\n",
      "20\n",
      "[ 0 10 15 17 18 19 22 23 28 29 31 35 36 41 46 51 53 54 56 59]\n",
      "train acc  0.9960491659350308  test acc  0.6764705882352942  test acc bal  0.6363636363636364\n",
      "(68, 20)\n",
      "16\n",
      "[ 0  1  2  3  5  6  7  8 10 11 12 13 14 16 18 19]\n",
      "train acc  0.9956101843722562  test acc  0.7794117647058824  test acc bal  0.7443181818181819\n",
      "(68, 16)\n",
      "16\n",
      "train acc phase1:  0.9958296751536435 test acc phase1:  0.7794117647058824   0.7537878787878788 phase2:  0.5588235294117647   0.5519421860885275\n"
     ]
    }
   ],
   "source": [
    "training_hybrid_results_depth = {}\n",
    "training_hybrid_results_leaf = {}\n",
    "for n_estimators in [5]:\n",
    "    training_hybrid_results_depth[n_estimators] = {}\n",
    "    training_hybrid_results_leaf[n_estimators] = {}\n",
    "    print(\"depth\")\n",
    "    for max_depth in [2,3,4]:\n",
    "        print(n_estimators,max_depth)\n",
    "        r = train_test(\"adaboost\",\n",
    "            X_phaseI_hybrid.fillna(NAFILL),\n",
    "            X_phaseII_hybrid.fillna(NAFILL),\n",
    "            Y_phaseI,\n",
    "            Y_phaseII,\n",
    "            n_estimators,\n",
    "            max_depth=max_depth)\n",
    "        training_hybrid_results_depth[n_estimators][max_depth] = deepcopy(r)\n",
    "    print(\"leaf\")\n",
    "    for max_leaf in [3,4,5,6,7,8]:\n",
    "        print(n_estimators,max_leaf)\n",
    "        r = train_test(\"adaboost\",\n",
    "            X_phaseI_hybrid.fillna(NAFILL),\n",
    "            X_phaseII_hybrid.fillna(NAFILL),\n",
    "            Y_phaseI,\n",
    "            Y_phaseII,\n",
    "            n_estimators,\n",
    "            max_leaf_nodes=max_leaf)\n",
    "        training_hybrid_results_leaf[n_estimators][max_leaf] = deepcopy(r)\n",
    "with open(focus_path + \"hybrid_train_result.pkl\", \"wb\") as f:\n",
    "    pickle.dump({\"depth\":training_hybrid_results_depth,\"leaf\":training_hybrid_results_leaf},f)"
   ]
  },
  {
   "cell_type": "code",
   "execution_count": null,
   "metadata": {},
   "outputs": [],
   "source": []
  }
 ],
 "metadata": {
  "kernelspec": {
   "display_name": "Python 3",
   "language": "python",
   "name": "python3"
  },
  "language_info": {
   "codemirror_mode": {
    "name": "ipython",
    "version": 3
   },
   "file_extension": ".py",
   "mimetype": "text/x-python",
   "name": "python",
   "nbconvert_exporter": "python",
   "pygments_lexer": "ipython3",
   "version": "3.6.4"
  }
 },
 "nbformat": 4,
 "nbformat_minor": 2
}

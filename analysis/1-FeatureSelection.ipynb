{
 "cells": [
  {
   "cell_type": "code",
   "execution_count": 1,
   "metadata": {},
   "outputs": [],
   "source": [
    "%matplotlib inline\n",
    "import pandas as pd\n",
    "import numpy as np\n",
    "from copy import deepcopy\n",
    "from matplotlib import pyplot as plt\n",
    "\n",
    "import os\n",
    "import datetime\n",
    "import time\n",
    "import json\n",
    "import pickle\n",
    "import os\n",
    "\n",
    "NAFILL = -999"
   ]
  },
  {
   "cell_type": "code",
   "execution_count": 2,
   "metadata": {},
   "outputs": [],
   "source": [
    "with open(\"config.json\", \"r\") as f:\n",
    "    config = json.load(f)\n",
    "folder_path = config[\"data_root_path\"]\n",
    "focus_path = folder_path + \"Selection_Group/\" + config[\"label_focus\"] + \"/\"\n",
    "epis = config[\"epis\"]\n",
    "wks = config[\"wks\"]"
   ]
  },
  {
   "cell_type": "code",
   "execution_count": 3,
   "metadata": {},
   "outputs": [],
   "source": [
    "with open(focus_path + \"raw_data_pool.pkl\", \"rb\") as f:\n",
    "    raw_data_pool = pickle.load(f)\n",
    "df_phaseI_select = raw_data_pool[\"data_phaseI\"]\n",
    "df_phaseII_select = raw_data_pool[\"data_phaseII\"]\n",
    "df_label = raw_data_pool[\"labels\"]"
   ]
  },
  {
   "cell_type": "code",
   "execution_count": 4,
   "metadata": {},
   "outputs": [
    {
     "data": {
      "text/plain": [
       "(7950, 2115)"
      ]
     },
     "execution_count": 4,
     "metadata": {},
     "output_type": "execute_result"
    }
   ],
   "source": [
    "df_phaseI_select.shape"
   ]
  },
  {
   "cell_type": "code",
   "execution_count": 13,
   "metadata": {},
   "outputs": [],
   "source": [
    "with open(folder_path + \"feature_col_epis.json\",\"r\") as f:\n",
    "    feature_col_epis = json.load(f)"
   ]
  },
  {
   "cell_type": "code",
   "execution_count": 16,
   "metadata": {},
   "outputs": [
    {
     "name": "stdout",
     "output_type": "stream",
     "text": [
      "wkdy mo\n",
      "wkdy af\n",
      "wkdy ev\n",
      "wkdy ni\n",
      "wkend mo\n",
      "wkend af\n",
      "wkend ev\n",
      "wkend ni\n"
     ]
    }
   ],
   "source": [
    "df_wks_epis = {}\n",
    "for wk in wks:\n",
    "    if wk not in df_wks_epis:\n",
    "        df_wks_epis[wk] = {}\n",
    "    for epi in epis:\n",
    "        print(wk,epi)\n",
    "        df_buf = df_phaseI_select[df_phaseI_select[\"wk\"] == wk][[\"PID\"] + feature_col_epis[epi]]\n",
    "        if(df_buf.shape[1] == 1): continue\n",
    "        df_buf_mean = df_buf.groupby(\"PID\").mean()\n",
    "        df_buf_mean.columns = [\"mean_\" + x for x in df_buf_mean.columns]\n",
    "        df_buf_std = df_buf.groupby(\"PID\").std()\n",
    "        df_buf_std.columns = [\"std_\" + x for x in df_buf_std.columns]\n",
    "        df_buf_mean_std = df_buf_mean.merge(df_buf_std, how = \"outer\", left_index = True, right_index = True)\n",
    "#         df_buf_mean_std = (df_buf_mean_std-df_buf_mean_std.mean())/df_buf_mean_std.std()\n",
    "        df_wks_epis[wk][epi] = deepcopy(df_buf_mean_std)"
   ]
  },
  {
   "cell_type": "code",
   "execution_count": 90,
   "metadata": {},
   "outputs": [],
   "source": [
    "from sklearn.feature_selection import mutual_info_classif"
   ]
  },
  {
   "cell_type": "code",
   "execution_count": 227,
   "metadata": {},
   "outputs": [
    {
     "name": "stdout",
     "output_type": "stream",
     "text": [
      "67 65 76 70 62 66 69 65 \n",
      "58 53 69 59 50 55 58 55 \n",
      "54 45 65 51 48 49 56 49 \n",
      "53 44 63 47 47 47 55 48 \n",
      "53 43 60 45 46 42 54 45 \n",
      "52 41 60 45 44 41 53 44 \n",
      "52 41 59 43 43 40 50 44 \n",
      "52 41 59 42 43 40 50 44 \n",
      "52 41 59 41 43 40 50 43 \n",
      "51 41 58 41 43 40 49 43 \n",
      "51 41 57 41 43 39 49 43 \n",
      "51 41 56 41 42 39 49 43 \n",
      "50 41 56 41 42 39 49 43 \n",
      "50 40 54 41 41 37 48 42 \n",
      "50 40 54 41 41 37 48 41 \n",
      "50 40 54 41 41 37 48 41 \n",
      "50 40 54 41 41 36 48 41 \n",
      "50 40 54 41 40 35 48 41 \n",
      "50 40 53 41 40 35 48 41 \n",
      "49 40 53 40 40 34 48 41 \n",
      "49 40 53 39 38 34 48 41 \n",
      "49 39 52 39 38 34 48 41 \n",
      "49 39 52 39 38 34 48 41 \n",
      "49 39 52 39 38 34 48 41 \n",
      "49 39 52 39 38 34 48 41 \n",
      "48 39 52 39 38 34 48 41 \n",
      "48 39 52 39 38 34 48 41 \n",
      "48 39 52 38 38 33 48 41 \n",
      "48 39 52 38 38 32 48 41 \n",
      "48 39 52 38 38 32 47 41 \n"
     ]
    }
   ],
   "source": [
    "top_features_ig = {}\n",
    "for wk in wks:\n",
    "    top_features_ig[wk] = {}\n",
    "    for epi in epis:\n",
    "        Y = df_label.set_index(\"PID\")[\"label_I\"]\n",
    "        X = df_wks_eps[wk][epi].loc[Y.index]\n",
    "        ig = dict(zip(X.columns, mutual_info_classif(X.fillna(NAFILL), Y, discrete_features = False)))\n",
    "        ig = [(k, ig[k]) for k in sorted(ig, key=ig.get, reverse = True)]\n",
    "        top_info_gain = [x[0] for x in ig[:100]]\n",
    "        top_features_ig[wk][epi] = top_info_gain\n",
    "overlap_features = top_features_ig\n",
    "overlap_features_remain_ = deepcopy(overlap_features)\n",
    "for i in range(30):\n",
    "    features_ig = {}\n",
    "    for wk in wks:\n",
    "        features_ig[wk] = {}\n",
    "        for epi in epis:\n",
    "            Y = df_label.set_index(\"PID\")[\"label_I\"]\n",
    "            X = df_wks_eps[wk][epi].loc[Y.index]\n",
    "            ig = dict(zip(X.columns, mutual_info_classif(X.fillna(NAFILL), Y, discrete_features = False)))\n",
    "            ig = [(k, ig[k]) for k in sorted(ig, key=ig.get, reverse = True)]\n",
    "            top_features_ig = [x[0] for x in ig[:100]]\n",
    "            overlap_features_remain_[wk][epi] = list(set(overlap_features_remain_[wk][epi]).intersection(set(top_features_ig)))\n",
    "\n",
    "    for wk in wks:\n",
    "        for epi in epis:\n",
    "            print(len(overlap_features_remain_[wk][epi]),end = \" \")\n",
    "    print()\n"
   ]
  },
  {
   "cell_type": "code",
   "execution_count": 5,
   "metadata": {},
   "outputs": [],
   "source": [
    "a = [19,20,19,16,20,15,21,18]"
   ]
  },
  {
   "cell_type": "code",
   "execution_count": 6,
   "metadata": {},
   "outputs": [
    {
     "name": "stdout",
     "output_type": "stream",
     "text": [
      "18.5 148 15 21\n"
     ]
    }
   ],
   "source": [
    "print(np.mean(a), np.sum(a), np.min(a), np.max(a))"
   ]
  },
  {
   "cell_type": "code",
   "execution_count": null,
   "metadata": {},
   "outputs": [],
   "source": [
    "with open(focus_path + \"top_features_raw.json\", \"w\") as f:\n",
    "    json.dump(overlap_features_remain_,f)"
   ]
  },
  {
   "cell_type": "code",
   "execution_count": 9,
   "metadata": {},
   "outputs": [],
   "source": [
    "with open(focus_path + \"top_features_raw.json\", \"r\") as f:\n",
    "    overlap_features_remain_ = json.load(f)"
   ]
  },
  {
   "cell_type": "code",
   "execution_count": 10,
   "metadata": {},
   "outputs": [],
   "source": [
    "from collections import Counter"
   ]
  },
  {
   "cell_type": "code",
   "execution_count": 18,
   "metadata": {},
   "outputs": [
    {
     "name": "stdout",
     "output_type": "stream",
     "text": [
      "wkdy mo\n",
      "remove  mean_f_locMap_num_bouts_at_place_006_morning\n",
      "remove  std_f_locMap_min_bout_at_place_007_morning\n",
      "remove  std_f_blue_avg_num_scans_of_all_devices_of_self_morning\n",
      "remove  std_f_locMap_mean_bout_at_place_007_morning\n",
      "remove  std_f_locMap_min_bout_at_place_outside_morning\n",
      "remove  std_f_blue_number_samples_bluetooth_morning\n",
      "remove  std_f_locMap_mean_bout_at_place_outside_morning\n",
      "remove  mean_f_blue_sum_num_scans_of_all_devices_of_others_morning\n",
      "remove  mean_f_locMap_mean_bout_at_place_outside_morning\n",
      "remove  mean_f_locMap_max_bout_at_place_outside_morning\n",
      "remove  mean_f_screen_max_len_minute_interaction_bout_morning\n",
      "remove  mean_f_screen_std_len_minute_interaction_bout_morning\n",
      "remove  std_f_screen_max_len_minute_interaction_bout_morning\n",
      "remove  mean_f_locMap_num_bouts_20min_or_more_at_place_outside_morning\n",
      "remove  std_f_locMap_max_bout_at_place_007_morning\n",
      "remove  mean_f_locMap_min_bout_at_place_outside_morning\n",
      "remove  mean_f_loc_moving_time_percent_local_morning\n",
      "remove  mean_f_loc_number_location_transitions_local_morning\n",
      "remove  std_f_locMap_number_place_transitions_morning\n",
      "remove  std_f_locMap_minutes_at_place_006_morning\n",
      "remove  mean_f_screen_std_len_minute_unlock_bout_morning\n",
      "remove  mean_f_steps_avg_step_active_bout_morning\n",
      "remove  std_f_locMap_minutes_at_place_007_morning\n",
      "remove  mean_f_call_number_outgoing_calls_morning\n",
      "remove  std_f_loc_outliers_time_percent_local_morning\n",
      "remove  std_f_blue_number_unique_devices_morning\n",
      "remove  std_f_loc_number_location_transitions_local_morning\n",
      "remove  std_f_loc_location_entropy_morning\n",
      "remove  std_f_loc_location_entropy_normalized_local_morning\n",
      "Counter({'locMap': 8, 'loc': 3, 'blue': 2, 'slp': 2, 'screen': 2, 'steps': 1, 'call': 1})\n",
      "wkdy af\n",
      "remove  mean_f_screen_mean_len_minute_interaction_bout_afternoon\n",
      "remove  std_f_locMap_num_bouts_20min_or_more_at_place_006_afternoon\n",
      "remove  mean_f_screen_min_len_minute_interaction_bout_afternoon\n",
      "remove  mean_f_loc_time_at_cluster_1_in_group_afternoon\n",
      "remove  std_f_call_number_rows_calls_afternoon\n",
      "remove  std_f_screen_mean_len_minute_interaction_bout_afternoon\n",
      "remove  std_f_locMap_num_bouts_20min_or_more_at_place_outside_afternoon\n",
      "remove  std_f_loc_mean_len_stay_at_clusters_in_minutes_afternoon\n",
      "remove  std_f_loc_location_variance_log_afternoon\n",
      "remove  std_f_locMap_num_bouts_30min_or_more_at_place_006_afternoon\n",
      "remove  mean_f_locMap_num_bouts_20min_or_more_at_place_007_afternoon\n",
      "remove  mean_f_loc_max_len_stay_at_clusters_in_minutes_afternoon\n",
      "remove  mean_f_locMap_percent_time_at_place_007_afternoon\n",
      "remove  std_f_call_number_incoming_calls_afternoon\n",
      "remove  mean_f_blue_number_unique_devices_of_others_afternoon\n",
      "remove  std_f_screen_min_len_minute_interaction_bout_afternoon\n",
      "remove  mean_f_locMap_num_bouts_20min_or_more_at_place_005_afternoon\n",
      "remove  mean_f_call_number_missed_calls_afternoon\n",
      "remove  std_f_loc_location_entropy_normalized_local_afternoon\n",
      "Counter({'locMap': 7, 'loc': 6, 'screen': 3, 'blue': 2, 'call': 1, 'steps': 1})\n",
      "wkdy ev\n",
      "remove  std_f_locMap_num_bouts_10min_or_more_at_place_006_evening\n",
      "remove  std_f_locMap_num_bouts_at_place_outside_evening\n",
      "remove  std_f_slp_sum_length_bout_restless_evening\n",
      "remove  mean_f_locMap_num_bouts_10min_or_more_at_place_006_evening\n",
      "remove  std_f_locMap_min_bout_at_place_007_evening\n",
      "remove  std_f_locMap_mean_bout_at_place_007_evening\n",
      "remove  std_f_steps_avg_length_sedentary_bout_minutes_evening\n",
      "remove  mean_f_locMap_minutes_at_place_outside_evening\n",
      "remove  std_f_locMap_num_bouts_at_place_006_evening\n",
      "remove  std_f_locMap_min_bout_at_place_005_evening\n",
      "remove  std_f_blue_avg_num_scans_of_all_devices_of_self_evening\n",
      "remove  mean_f_screen_mean_len_minute_interaction_bout_evening\n",
      "remove  std_f_screen_mean_len_minute_interaction_bout_evening\n",
      "remove  std_f_call_number_rows_calls_evening\n",
      "remove  std_f_locMap_max_bout_at_place_outside_evening\n",
      "remove  std_f_screen_number_of_minutes_interaction_evening\n",
      "remove  mean_f_locMap_mean_bout_at_place_008_evening\n",
      "remove  std_f_loc_max_len_stay_at_clusters_in_minutes_local_evening\n",
      "remove  mean_f_locMap_percent_time_at_place_outside_evening\n",
      "remove  std_f_blue_number_unique_devices_evening\n",
      "remove  std_f_locMap_max_bout_at_place_007_evening\n",
      "remove  std_f_call_number_missed_calls_evening\n",
      "remove  std_f_screen_std_len_minute_unlock_bout_evening\n",
      "remove  mean_f_locMap_num_bouts_at_place_006_evening\n",
      "remove  std_f_steps_min_length_sedentary_bout_minutes_evening\n",
      "remove  std_f_screen_unlocks_per_minute_evening\n",
      "remove  std_f_slp_num_awake_bouts_evening\n",
      "remove  mean_f_blue_num_scans_of_least_frequent_device_evening\n",
      "remove  mean_f_loc_number_of_clusters_local_evening\n",
      "remove  std_f_locMap_num_bouts_10min_or_more_at_place_outside_evening\n",
      "remove  std_f_locMap_num_bouts_30min_or_more_at_place_outside_evening\n",
      "remove  mean_f_loc_number_location_transitions_evening\n",
      "Counter({'locMap': 5, 'blue': 4, 'loc': 3, 'steps': 3, 'slp': 2, 'screen': 2, 'call': 1})\n",
      "wkdy ni\n",
      "remove  std_f_slp_num_restless_night\n",
      "remove  mean_f_blue_num_scans_of_most_frequent_device_of_others_night\n",
      "remove  std_f_locMap_mean_bout_at_place_outside_night\n",
      "remove  std_f_blue_sum_num_scans_of_all_devices_of_others_night\n",
      "remove  mean_f_locMap_mean_bout_at_place_outside_night\n",
      "remove  mean_f_blue_num_scans_of_least_frequent_device_of_self_night\n",
      "remove  std_f_blue_avg_num_scans_of_all_devices_of_others_night\n",
      "remove  std_f_locMap_max_bout_at_place_outside_night\n",
      "remove  mean_f_locMap_max_bout_at_place_outside_night\n",
      "remove  mean_f_locMap_minutes_at_place_outside_night\n",
      "remove  mean_f_screen_max_len_minute_interaction_bout_night\n",
      "remove  std_f_locMap_num_bouts_20min_or_more_at_place_outside_night\n",
      "remove  std_f_locMap_num_bouts_30min_or_more_at_place_outside_night\n",
      "remove  std_f_loc_location_variance_log_night\n",
      "remove  mean_f_locMap_min_bout_at_place_outside_night\n",
      "remove  mean_f_locMap_num_bouts_20min_or_more_at_place_outside_night\n",
      "remove  mean_f_screen_number_samples_screen_night\n",
      "remove  mean_f_locMap_num_bouts_30min_or_more_at_place_008_night\n",
      "remove  std_f_screen_number_of_minutes_interaction_night\n",
      "remove  mean_f_screen_number_of_minutes_unlock_night\n",
      "remove  mean_f_loc_location_entropy_normalized_local_night\n",
      "remove  mean_f_loc_location_variance_log_night\n",
      "Counter({'locMap': 5, 'loc': 3, 'screen': 3, 'slp': 2, 'steps': 2, 'blue': 1})\n",
      "wkend mo\n",
      "remove  mean_f_slp_sum_length_bout_restless_morning\n",
      "remove  mean_f_screen_min_len_minute_unlock_bout_morning\n",
      "remove  std_f_blue_avg_num_scans_of_all_devices_of_others_morning\n",
      "remove  std_f_screen_unlocks_per_minute_morning\n",
      "remove  mean_f_locMap_max_bout_at_place_008_morning\n",
      "remove  mean_f_blue_avg_num_scans_of_all_devices_of_others_morning\n",
      "remove  std_f_blue_num_scans_of_least_frequent_device_morning\n",
      "remove  mean_f_steps_max_length_active_bout_minutes_morning\n",
      "remove  mean_f_locMap_num_bouts_30min_or_more_at_place_008_morning\n",
      "remove  mean_f_slp_num_restless_morning\n",
      "remove  std_f_loc_min_len_stay_at_clusters_in_minutes_morning\n",
      "remove  mean_f_blue_sum_num_scans_of_all_devices_of_self_morning\n",
      "remove  std_f_screen_max_len_minute_interaction_bout_morning\n",
      "remove  mean_f_steps_avg_length_active_bout_minutes_morning\n",
      "remove  mean_f_locMap_mean_bout_at_place_008_morning\n",
      "remove  std_f_steps_max_step_active_bout_morning\n",
      "remove  std_f_locMap_minutes_at_place_008_morning\n",
      "remove  mean_f_loc_circadian_movement_morning\n",
      "Counter({'locMap': 5, 'loc': 4, 'screen': 4, 'slp': 3, 'blue': 2, 'steps': 2})\n",
      "wkend af\n",
      "remove  mean_f_slp_sum_length_bout_restless_afternoon\n",
      "remove  mean_f_blue_number_samples_bluetooth_afternoon\n",
      "remove  mean_f_blue_num_scans_of_most_frequent_device_of_others_afternoon\n",
      "remove  std_f_blue_num_scans_of_most_frequent_device_of_others_afternoon\n",
      "remove  mean_f_blue_sum_num_scans_of_all_devices_of_others_afternoon\n",
      "remove  mean_f_steps_min_length_sedentary_bout_minutes_afternoon\n",
      "remove  std_f_steps_max_length_sedentary_bout_minutes_afternoon\n",
      "remove  mean_f_locMap_num_bouts_30min_or_more_at_place_008_afternoon\n",
      "remove  mean_f_screen_number_of_minutes_unlock_afternoon\n",
      "remove  std_f_screen_max_len_minute_unlock_bout_afternoon\n",
      "remove  std_f_locMap_num_bouts_20min_or_more_at_place_008_afternoon\n",
      "remove  std_f_call_number_of_correspondents_phone_afternoon\n",
      "remove  std_f_loc_circadian_movement_afternoon\n",
      "remove  mean_f_locMap_num_bouts_10min_or_more_at_place_006_afternoon\n",
      "remove  std_f_screen_max_len_minute_interaction_bout_afternoon\n",
      "remove  mean_f_locMap_std_bout_at_place_outside_afternoon\n",
      "remove  mean_f_slp_min_length_bout_totalsleep_afternoon\n",
      "Counter({'locMap': 5, 'blue': 3, 'loc': 2, 'screen': 2, 'slp': 1, 'call': 1, 'steps': 1})\n",
      "wkend ev\n",
      "remove  std_f_slp_num_asleep_evening\n",
      "remove  std_f_slp_num_awake_evening\n",
      "remove  mean_f_blue_number_unique_devices_evening\n",
      "remove  std_f_locMap_min_bout_at_place_006_evening\n",
      "remove  std_f_locMap_mean_bout_at_place_006_evening\n",
      "remove  mean_f_screen_min_len_minute_unlock_bout_evening\n",
      "remove  mean_f_locMap_max_bout_at_place_006_evening\n",
      "remove  mean_f_blue_sum_num_scans_of_all_devices_of_others_evening\n",
      "remove  std_f_blue_num_scans_of_least_frequent_device_evening\n",
      "remove  std_f_loc_moving_time_percent_local_evening\n",
      "remove  std_f_locMap_num_bouts_30min_or_more_at_place_008_evening\n",
      "remove  std_f_steps_min_length_sedentary_bout_minutes_evening\n",
      "remove  std_f_locMap_max_bout_at_place_006_evening\n",
      "remove  mean_f_locMap_num_bouts_30min_or_more_at_place_outside_evening\n",
      "remove  mean_f_loc_number_location_transitions_evening\n",
      "remove  std_f_screen_mean_len_minute_unlock_bout_evening\n",
      "remove  std_f_locMap_num_bouts_20min_or_more_at_place_008_evening\n",
      "remove  std_f_loc_number_location_transitions_evening\n",
      "remove  std_f_slp_sum_length_bout_awake_evening\n",
      "remove  mean_f_steps_max_length_active_bout_minutes_evening\n",
      "remove  std_f_locMap_number_samples_location_map_evening\n",
      "remove  mean_f_blue_number_unique_devices_of_others_evening\n",
      "remove  mean_f_loc_circadian_movement_evening\n",
      "remove  mean_f_loc_min_len_stay_at_clusters_in_minutes_local_evening\n",
      "remove  mean_f_locMap_minutes_at_place_007_evening\n",
      "remove  std_f_loc_moving_time_percent_evening\n",
      "Counter({'loc': 5, 'locMap': 5, 'slp': 3, 'screen': 3, 'steps': 2, 'blue': 2, 'call': 1})\n",
      "wkend ni\n",
      "remove  mean_f_slp_num_asleep_night\n",
      "remove  std_f_locMap_number_samples_location_map_night\n",
      "remove  std_f_locMap_num_bouts_at_place_outside_night\n",
      "remove  std_f_locMap_num_bouts_20min_or_more_at_place_008_night\n",
      "remove  std_f_blue_num_scans_of_most_frequent_device_of_others_night\n",
      "remove  mean_f_screen_mean_len_minute_interaction_bout_night\n",
      "remove  mean_f_locMap_num_bouts_30min_or_more_at_place_008_night\n",
      "remove  std_f_screen_std_len_minute_interaction_bout_night\n",
      "remove  mean_f_locMap_min_bout_at_place_008_night\n",
      "remove  mean_f_locMap_num_bouts_20min_or_more_at_place_008_night\n",
      "remove  mean_f_screen_mean_len_minute_unlock_bout_night\n",
      "remove  std_f_locMap_num_bouts_30min_or_more_at_place_008_night\n",
      "remove  std_f_screen_mean_len_minute_interaction_bout_night\n",
      "remove  mean_f_slp_sum_length_bout_asleep_night\n",
      "remove  std_f_loc_mean_len_stay_at_clusters_in_minutes_local_night\n",
      "remove  mean_f_loc_number_location_transitions_local_night\n",
      "remove  mean_f_steps_max_length_sedentary_bout_minutes_night\n",
      "remove  mean_f_screen_max_len_minute_interaction_bout_night\n",
      "remove  mean_f_locMap_max_bout_at_place_008_night\n",
      "remove  mean_f_loc_min_len_stay_at_clusters_in_minutes_night\n",
      "remove  mean_f_loc_min_len_stay_at_clusters_in_minutes_local_night\n",
      "remove  std_f_loc_time_at_cluster_1_night\n",
      "remove  std_f_locMap_num_bouts_10min_or_more_at_place_outside_night\n",
      "Counter({'loc': 4, 'slp': 3, 'screen': 3, 'locMap': 3, 'blue': 3, 'steps': 2})\n"
     ]
    }
   ],
   "source": [
    "overlap_features_remain_filtered = deepcopy(overlap_features_remain_)\n",
    "for wk in wks:\n",
    "    for epi in epis:\n",
    "        print(wk,epi)\n",
    "        df_buf = df_wks_epis[wk][epi][overlap_features_remain_filtered[wk][epi]]\n",
    "        df_buf_corr = df_buf.corr()\n",
    "        upper = df_buf_corr.where(np.triu(np.ones(df_buf_corr.shape), k=1).astype(np.bool)).abs()\n",
    "        max_corr = upper.max().max()\n",
    "        while (max_corr > 0.5):\n",
    "            row_idxmax = upper.max(axis = 1).idxmax()\n",
    "            col_idxmax = upper.max(axis = 0).idxmax()\n",
    "            row_cor_sum = df_buf_corr.abs()[row_idxmax].sum()\n",
    "            col_cor_sum = df_buf_corr.abs()[col_idxmax].sum()\n",
    "            if(row_cor_sum > col_cor_sum):\n",
    "                overlap_features_remain_filtered[wk][epi].remove(row_idxmax)\n",
    "                print(\"remove \", row_idxmax)\n",
    "            else:\n",
    "                overlap_features_remain_filtered[wk][epi].remove(col_idxmax)\n",
    "                print(\"remove \", col_idxmax)\n",
    "            df_buf = df_wks_epis[wk][epi][overlap_features_remain_filtered[wk][epi]]\n",
    "            df_buf_corr = df_buf.corr()\n",
    "            upper = df_buf_corr.where(np.triu(np.ones(df_buf_corr.shape), k=1).astype(np.bool)).abs()\n",
    "            max_corr = upper.max().max()\n",
    "#         plt.matshow(df_buf_corr)\n",
    "#         plt.show()\n",
    "        print(Counter([x.split(\"_\")[2] for x in overlap_features_remain_filtered[wk][epi]]))\n"
   ]
  },
  {
   "cell_type": "code",
   "execution_count": 20,
   "metadata": {},
   "outputs": [
    {
     "name": "stdout",
     "output_type": "stream",
     "text": [
      "19,19\n",
      "20,20\n",
      "20,19\n",
      "16,16\n",
      "20,20\n",
      "15,15\n",
      "21,21\n",
      "18,18\n"
     ]
    }
   ],
   "source": [
    "overlap_features_remain = {}\n",
    "for wk in wks:\n",
    "    overlap_features_remain[wk] = {}\n",
    "    for epi in epis:\n",
    "        print(len(overlap_features_remain_filtered[wk][epi]), end = \",\")\n",
    "        overlap_features_remain[wk][epi] = deepcopy(list(set([\"_\".join(x.split(\"_\")[1:]) for x in overlap_features_remain_filtered[wk][epi]])))\n",
    "        print(len(overlap_features_remain[wk][epi]))"
   ]
  },
  {
   "cell_type": "code",
   "execution_count": 263,
   "metadata": {},
   "outputs": [],
   "source": [
    "with open(focus_path + \"top_features.json\", \"w\") as f:\n",
    "    json.dump(overlap_features_remain,f)"
   ]
  },
  {
   "cell_type": "code",
   "execution_count": 264,
   "metadata": {},
   "outputs": [],
   "source": [
    "top_features_dis = {}\n",
    "for wk in wks:\n",
    "    top_features_dis[wk] = {}\n",
    "    for ep in epis:\n",
    "        for f in overlap_features_remain[wk][ep]:\n",
    "            split_f = f.split(\"_\")\n",
    "            f_dis = \"_\".join(split_f[:-1] + [\"dis\"] + split_f[-1:])\n",
    "            if (ep not in top_features_dis[wk]):\n",
    "                top_features_dis[wk][ep] = [f_dis]\n",
    "            else:\n",
    "                top_features_dis[wk][ep].append(f_dis)"
   ]
  },
  {
   "cell_type": "code",
   "execution_count": 265,
   "metadata": {},
   "outputs": [],
   "source": [
    "with open(focus_path + \"top_features_dis.json\", \"w\") as f:\n",
    "    json.dump(top_features_dis,f)"
   ]
  },
  {
   "cell_type": "code",
   "execution_count": null,
   "metadata": {},
   "outputs": [],
   "source": []
  }
 ],
 "metadata": {
  "kernelspec": {
   "display_name": "Python 3",
   "language": "python",
   "name": "python3"
  },
  "language_info": {
   "codemirror_mode": {
    "name": "ipython",
    "version": 3
   },
   "file_extension": ".py",
   "mimetype": "text/x-python",
   "name": "python",
   "nbconvert_exporter": "python",
   "pygments_lexer": "ipython3",
   "version": "3.6.4"
  }
 },
 "nbformat": 4,
 "nbformat_minor": 2
}

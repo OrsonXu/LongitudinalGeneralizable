{
 "cells": [
  {
   "cell_type": "code",
   "execution_count": 1,
   "metadata": {},
   "outputs": [],
   "source": [
    "import numpy as np\n",
    "import pandas as pd\n",
    "from copy import deepcopy\n",
    "import os\n",
    "import json"
   ]
  },
  {
   "cell_type": "code",
   "execution_count": 2,
   "metadata": {},
   "outputs": [],
   "source": [
    "folder_path = \"../../LongitudinalDataSetBackUp/\""
   ]
  },
  {
   "cell_type": "markdown",
   "metadata": {},
   "source": [
    "# Get new Phase II"
   ]
  },
  {
   "cell_type": "markdown",
   "metadata": {},
   "source": [
    "## Select Pre&Post from old table"
   ]
  },
  {
   "cell_type": "code",
   "execution_count": 37,
   "metadata": {},
   "outputs": [
    {
     "name": "stderr",
     "output_type": "stream",
     "text": [
      "C:\\ProgramPool\\Anaconda\\lib\\site-packages\\IPython\\core\\interactiveshell.py:2728: DtypeWarning: Columns (382,395,399,412,416,429,433,446,450,463,466,467,468,471,472,475,476,477,479,484,491,499,502,506,508,509,510,511,512,515,516,519,520,521,523,528,535,543,546,550,552,553,554,555,556,559,560,563,564,565,567,572,579,587,590,594,596,597,598,599,600,603,604,607,608,609,611,616,623,631,634,638,640,641,642,643,644,647,648,651,652,653,655,660,667,675,678,682,684,685) have mixed types. Specify dtype option on import or set low_memory=False.\n",
      "  interactivity=interactivity, compiler=compiler, result=result)\n"
     ]
    }
   ],
   "source": [
    "df_aggregated_phaseII_old = pd.read_csv(folder_path + \"aggregated_phaseII.csv\")"
   ]
  },
  {
   "cell_type": "code",
   "execution_count": 38,
   "metadata": {},
   "outputs": [],
   "source": [
    "cols_from_old = df_aggregated_phaseII_old.columns.tolist()[0:1] + df_aggregated_phaseII_old.columns.tolist()[2:3] + df_aggregated_phaseII_old.columns.tolist()[-36:]"
   ]
  },
  {
   "cell_type": "code",
   "execution_count": 39,
   "metadata": {},
   "outputs": [],
   "source": [
    "pre_post = df_aggregated_phaseII_old[cols_from_old]"
   ]
  },
  {
   "cell_type": "code",
   "execution_count": 6,
   "metadata": {},
   "outputs": [],
   "source": [
    "pre_post = pd.read_csv(folder_path + \"survey_prepost_phaseI.csv\")"
   ]
  },
  {
   "cell_type": "markdown",
   "metadata": {},
   "source": [
    "## Select EMA as the base"
   ]
  },
  {
   "cell_type": "code",
   "execution_count": 40,
   "metadata": {},
   "outputs": [
    {
     "name": "stderr",
     "output_type": "stream",
     "text": [
      "C:\\ProgramPool\\Anaconda\\lib\\site-packages\\IPython\\core\\interactiveshell.py:2728: DtypeWarning: Columns (112) have mixed types. Specify dtype option on import or set low_memory=False.\n",
      "  interactivity=interactivity, compiler=compiler, result=result)\n"
     ]
    }
   ],
   "source": [
    "ema = pd.read_csv(folder_path + \"aggregated_ema_phaseII.csv\")"
   ]
  },
  {
   "cell_type": "code",
   "execution_count": 41,
   "metadata": {},
   "outputs": [
    {
     "data": {
      "text/plain": [
       "(28836, 121)"
      ]
     },
     "execution_count": 41,
     "metadata": {},
     "output_type": "execute_result"
    }
   ],
   "source": [
    "ema.shape"
   ]
  },
  {
   "cell_type": "code",
   "execution_count": 44,
   "metadata": {},
   "outputs": [
    {
     "data": {
      "text/plain": [
       "(30171, 38)"
      ]
     },
     "execution_count": 44,
     "metadata": {},
     "output_type": "execute_result"
    }
   ],
   "source": [
    "pre_post.shape"
   ]
  },
  {
   "cell_type": "code",
   "execution_count": 47,
   "metadata": {},
   "outputs": [],
   "source": [
    "ema_baseline = ema.merge(pre_post, on = [\"PID\", \"date\"], how = \"left\")"
   ]
  },
  {
   "cell_type": "code",
   "execution_count": 49,
   "metadata": {},
   "outputs": [
    {
     "data": {
      "text/plain": [
       "(28836, 157)"
      ]
     },
     "execution_count": 49,
     "metadata": {},
     "output_type": "execute_result"
    }
   ],
   "source": [
    "ema_baseline.shape"
   ]
  },
  {
   "cell_type": "code",
   "execution_count": 33,
   "metadata": {},
   "outputs": [],
   "source": [
    "ema_baseline = ema.set_index(\"PID\").merge(pre_post.set_index(\"PID\"), left_index=True,right_index=True)"
   ]
  },
  {
   "cell_type": "markdown",
   "metadata": {},
   "source": [
    "# Select sensor"
   ]
  },
  {
   "cell_type": "code",
   "execution_count": 50,
   "metadata": {},
   "outputs": [],
   "source": [
    "wks = [\"wkdy\", \"wkend\"]\n",
    "eps = [\"mo\",\"af\",\"ev\",\"ni\",\"\"]"
   ]
  },
  {
   "cell_type": "code",
   "execution_count": 51,
   "metadata": {},
   "outputs": [
    {
     "name": "stdout",
     "output_type": "stream",
     "text": [
      "dis_merge,_mo,_wkdy,_day.csv\n"
     ]
    },
    {
     "name": "stderr",
     "output_type": "stream",
     "text": [
      "C:\\ProgramPool\\Anaconda\\lib\\site-packages\\IPython\\core\\interactiveshell.py:2728: DtypeWarning: Columns (9,10,11,12,13,14,15,55,56,57,58,59,60,61,62,63,64,65,66,67,68,69,70,71,72,73,74,75,76,77,78,79,80,81,82,83,84,85,86,87,88,89,90,91,92,93,189,190,191,192,193,194,195,196,197,198,199,200,201,202,203,204,205,206,207,208,209,210,211,212,213,214,215,216,217,218,219,220,221,222,223,224,225,226,227,228,229,230,231,232,233,234,235,236,237,238,239,240,241,242,243,244,245,246,247,248,249,250,251,252,253,254,255,256,257,258,259,260,261,262,263,264,265,266,267,268,269,270,271,272,273,274,275,276,277,278,279,280,281,282,283,300,301,302,303,304,305,306,307,308,309,310,311,312,313,314,315,412,413,414,415,416,417,421,422) have mixed types. Specify dtype option on import or set low_memory=False.\n",
      "  interactivity=interactivity, compiler=compiler, result=result)\n"
     ]
    },
    {
     "name": "stdout",
     "output_type": "stream",
     "text": [
      "dis_merge,_mo,_wkend,_day.csv\n"
     ]
    },
    {
     "name": "stderr",
     "output_type": "stream",
     "text": [
      "C:\\ProgramPool\\Anaconda\\lib\\site-packages\\IPython\\core\\interactiveshell.py:2728: DtypeWarning: Columns (9,10,11,12,13,14,15) have mixed types. Specify dtype option on import or set low_memory=False.\n",
      "  interactivity=interactivity, compiler=compiler, result=result)\n"
     ]
    },
    {
     "name": "stdout",
     "output_type": "stream",
     "text": [
      "dis_merge,_af,_wkdy,_day.csv\n"
     ]
    },
    {
     "name": "stderr",
     "output_type": "stream",
     "text": [
      "C:\\ProgramPool\\Anaconda\\lib\\site-packages\\IPython\\core\\interactiveshell.py:2728: DtypeWarning: Columns (9,10,11,12,13,14,15,55,56,57,58,59,60,61,62,63,64,65,66,67,68,69,70,71,72,73,74,75,76,77,78,79,80,81,82,83,84,85,86,87,88,89,90,91,92,93,283) have mixed types. Specify dtype option on import or set low_memory=False.\n",
      "  interactivity=interactivity, compiler=compiler, result=result)\n"
     ]
    },
    {
     "name": "stdout",
     "output_type": "stream",
     "text": [
      "dis_merge,_af,_wkend,_day.csv\n",
      "dis_merge,_ev,_wkdy,_day.csv\n",
      "dis_merge,_ev,_wkend,_day.csv\n",
      "dis_merge,_ni,_wkdy,_day.csv\n"
     ]
    },
    {
     "name": "stderr",
     "output_type": "stream",
     "text": [
      "C:\\ProgramPool\\Anaconda\\lib\\site-packages\\IPython\\core\\interactiveshell.py:2728: DtypeWarning: Columns (9,10,11,12,13,14,15,55,56,57,58,59,60,61,62,63,64,65,66,67,68,69,70,71,72,73,74,75,76,77,78,79,80,81,82,83,84,85,86,87,88,89,90,91,92,93,189,190,191,192,193,194,195,196,197,198,199,200,201,202,203,204,205,206,207,208,209,210,211,212,213,214,215,216,217,218,219,220,221,222,223,224,225,226,227,228,229,230,231,232,233,234,235,236,237,238,239,240,241,242,243,244,245,246,247,248,249,250,251,252,253,254,255,256,257,258,259,260,261,262,263,264,265,266,267,268,269,270,271,272,273,274,275,276,277,278,279,280,281,282,283,300,301,302,303,304,305,306,307,308,309,310,311,312,313,314,315,412,413,414,415,416,417,418,419,420,421,422,423) have mixed types. Specify dtype option on import or set low_memory=False.\n",
      "  interactivity=interactivity, compiler=compiler, result=result)\n"
     ]
    },
    {
     "name": "stdout",
     "output_type": "stream",
     "text": [
      "dis_merge,_ni,_wkend,_day.csv\n"
     ]
    },
    {
     "name": "stderr",
     "output_type": "stream",
     "text": [
      "C:\\ProgramPool\\Anaconda\\lib\\site-packages\\IPython\\core\\interactiveshell.py:2728: DtypeWarning: Columns (9,10,11,12,13,14,15,89) have mixed types. Specify dtype option on import or set low_memory=False.\n",
      "  interactivity=interactivity, compiler=compiler, result=result)\n"
     ]
    },
    {
     "name": "stdout",
     "output_type": "stream",
     "text": [
      "dis_merge,_,_wkdy,_day.csv\n",
      "dis_merge,_,_wkend,_day.csv\n"
     ]
    }
   ],
   "source": [
    "dfdict_ep_wk_phaseII = {}\n",
    "for ep in eps:\n",
    "    dfdict_ep_wk_phaseII[ep] = {}\n",
    "    for wk in wks:\n",
    "        dfdict_ep_wk_phaseII[ep][wk] = {}\n",
    "        name = \",_\".join([\"dis_merge\", ep, wk, \"day\"]) + \".csv\"\n",
    "        print(name)\n",
    "        dfdict_ep_wk_phaseII[ep][wk] = pd.read_csv(folder_path + \"BehaviorFeatures_merge_day_PhaseII/\" + name)"
   ]
  },
  {
   "cell_type": "code",
   "execution_count": 12,
   "metadata": {},
   "outputs": [
    {
     "name": "stdout",
     "output_type": "stream",
     "text": [
      "0.6442912592328267\n",
      "0.687679813997056\n",
      "0.6491554169454918\n",
      "0.6564362242328611\n",
      "0.6640605769246655\n",
      "0.6695033482142857\n",
      "0.7150879980900796\n",
      "0.6905563152348454\n",
      "0.5388384054618885\n",
      "0.54172782433427\n"
     ]
    }
   ],
   "source": [
    "for ep in eps:\n",
    "    for wk in wks:\n",
    "        print(dfdict_ep_wk_phaseII[ep][wk].isna().sum().sum()/ float(dfdict_ep_wk_phaseII[ep][wk].shape[0] * dfdict_ep_wk_phaseII[ep][wk].shape[1]))"
   ]
  },
  {
   "cell_type": "code",
   "execution_count": 52,
   "metadata": {},
   "outputs": [],
   "source": [
    "for ep in eps:\n",
    "    dfdict_ep_wk_phaseII[ep][\"wk\"] = pd.concat([dfdict_ep_wk_phaseII[ep][\"wkdy\"], dfdict_ep_wk_phaseII[ep][\"wkend\"]], axis = 0)"
   ]
  },
  {
   "cell_type": "code",
   "execution_count": 22,
   "metadata": {},
   "outputs": [],
   "source": [
    "device_pid_mapping = pd.read_csv(folder_path + \"PID-device_PhaseI.csv\", dtype=str)\n",
    "dict_device_pid = {}\n",
    "for i, row in device_pid_mapping.iterrows():\n",
    "    for x in list(row[device_pid_mapping.columns[1:]]):\n",
    "        if (type(x) is str):\n",
    "            dict_device_pid[x.split(\"-\")[-1]] = row[\"PID\"]"
   ]
  },
  {
   "cell_type": "code",
   "execution_count": 53,
   "metadata": {},
   "outputs": [],
   "source": [
    "device_pid_mapping = pd.read_csv(folder_path + \"PID-device_PhaseII.csv\", dtype=str)\n",
    "dict_device_pid = {}\n",
    "for i, row in device_pid_mapping.iterrows():\n",
    "    for x in list(row[device_pid_mapping.columns[2:6]]):\n",
    "        if (type(x) is str):\n",
    "            dict_device_pid[x] = row[\"PID\"]"
   ]
  },
  {
   "cell_type": "code",
   "execution_count": 55,
   "metadata": {},
   "outputs": [],
   "source": [
    "def device_to_pid(device_id):\n",
    "    if (\"-\" in device_id):\n",
    "        x = device_id.split(\"-\")[-1]\n",
    "    if (len(x) == 12):\n",
    "        if (x in dict_device_pid):\n",
    "            return dict_device_pid[x]\n",
    "        else:\n",
    "            return \"NOMATCH\"\n",
    "    else:\n",
    "        return \"IDWRONG\""
   ]
  },
  {
   "cell_type": "code",
   "execution_count": 56,
   "metadata": {},
   "outputs": [],
   "source": [
    "dict_epoch = {\n",
    "    \"\":\"allday\",\n",
    "    \"mo\":\"morning\",\n",
    "    \"af\":\"afternoon\",\n",
    "    \"ev\":\"evening\",\n",
    "    \"ni\":\"night\"\n",
    "}"
   ]
  },
  {
   "cell_type": "code",
   "execution_count": 57,
   "metadata": {},
   "outputs": [
    {
     "name": "stdout",
     "output_type": "stream",
     "text": [
      "remove unique id:  32\n",
      "remove unique id:  32\n",
      "remove unique id:  31\n",
      "remove unique id:  31\n",
      "remove unique id:  33\n"
     ]
    }
   ],
   "source": [
    "for ep in eps:\n",
    "    cols = dfdict_ep_wk_phaseII[ep][\"wk\"].columns[2:]\n",
    "    rename_cols = {col : col + \"_\" + dict_epoch[ep] for col in cols}\n",
    "    dfdict_ep_wk_phaseII[ep][\"wk\"].rename(rename_cols, axis = 1,inplace = True)\n",
    "    dfdict_ep_wk_phaseII[ep][\"wk\"][\"PID\"] = dfdict_ep_wk_phaseII[ep][\"wk\"][\"device_id\"].apply(lambda x : device_to_pid(x))\n",
    "    print(\"remove unique id: \", len(set(list(dfdict_ep_wk_phaseII[ep][\"wk\"][\"device_id\"][dfdict_ep_wk_phaseII[ep][\"wk\"][\"PID\"] == \"NOMATCH\"]))))\n",
    "    dfdict_ep_wk_phaseII[ep][\"wk\"].drop(\"device_id\", axis = 1, inplace = True)\n",
    "    dfdict_ep_wk_phaseII[ep][\"wk\"] = dfdict_ep_wk_phaseII[ep][\"wk\"][dfdict_ep_wk_phaseII[ep][\"wk\"][\"PID\"] != \"NOMATCH\"]\n",
    "    cols = list(dfdict_ep_wk_phaseII[ep][\"wk\"].columns)\n",
    "    dfdict_ep_wk_phaseII[ep][\"wk\"] = dfdict_ep_wk_phaseII[ep][\"wk\"][[cols[0],cols[-1]] + cols[1:-1]]"
   ]
  },
  {
   "cell_type": "code",
   "execution_count": 58,
   "metadata": {},
   "outputs": [],
   "source": [
    "# In EMA and baseline, Remove PID without any sensor data \n",
    "pid_with_sensor = []\n",
    "for ep in eps:\n",
    "    pid_with_sensor += dfdict_ep_wk_phaseII[ep][\"wk\"][\"PID\"].tolist()\n",
    "pid_with_sensor = list(set(pid_with_sensor))\n",
    "ema_baseline[\"PID\"] = ema_baseline[\"PID\"].astype(str)\n",
    "ema_baseline = ema_baseline[ema_baseline[\"PID\"].apply(lambda x : str(x) in pid_with_sensor)]"
   ]
  },
  {
   "cell_type": "code",
   "execution_count": 59,
   "metadata": {},
   "outputs": [],
   "source": [
    "df_sensor = deepcopy(dfdict_ep_wk_phaseII[eps[0]][\"wk\"])\n",
    "for ep in eps[1:]:\n",
    "    df_sensor = df_sensor.merge(dfdict_ep_wk_phaseII[ep][\"wk\"], on = [\"PID\",\"date\"], how=\"left\")\n",
    "cols = list(df_sensor.columns[2:])\n",
    "len_feature = len(cols)\n",
    "new_idx = []\n",
    "for i in range(int(len_feature / 5)):\n",
    "    new_idx += list(np.array(range(5))*int(len_feature/5) + i)\n",
    "cols_new = list(df_sensor.columns[:2]) + list(np.array(cols)[new_idx])\n",
    "df_sensor = df_sensor[cols_new]"
   ]
  },
  {
   "cell_type": "code",
   "execution_count": 60,
   "metadata": {},
   "outputs": [
    {
     "data": {
      "text/plain": [
       "(28589, 2112)"
      ]
     },
     "execution_count": 60,
     "metadata": {},
     "output_type": "execute_result"
    }
   ],
   "source": [
    "df_sensor.shape"
   ]
  },
  {
   "cell_type": "code",
   "execution_count": 31,
   "metadata": {},
   "outputs": [
    {
     "data": {
      "text/plain": [
       "(15264, 2332)"
      ]
     },
     "execution_count": 31,
     "metadata": {},
     "output_type": "execute_result"
    }
   ],
   "source": [
    "df_sensor.shape"
   ]
  },
  {
   "cell_type": "code",
   "execution_count": 32,
   "metadata": {},
   "outputs": [
    {
     "data": {
      "text/plain": [
       "(15264, 2455)"
      ]
     },
     "execution_count": 32,
     "metadata": {},
     "output_type": "execute_result"
    }
   ],
   "source": [
    "df_aggregated.shape"
   ]
  },
  {
   "cell_type": "code",
   "execution_count": 41,
   "metadata": {},
   "outputs": [
    {
     "data": {
      "text/plain": [
       "Timedelta('105 days 00:00:00')"
      ]
     },
     "execution_count": 41,
     "metadata": {},
     "output_type": "execute_result"
    }
   ],
   "source": [
    "pd.to_datetime(\"2017-05-03\") - pd.to_datetime(\"2017-01-18\")"
   ]
  },
  {
   "cell_type": "code",
   "execution_count": null,
   "metadata": {},
   "outputs": [],
   "source": [
    "ema_baseline"
   ]
  },
  {
   "cell_type": "code",
   "execution_count": 55,
   "metadata": {},
   "outputs": [
    {
     "data": {
      "text/plain": [
       "(27324, 153)"
      ]
     },
     "execution_count": 55,
     "metadata": {},
     "output_type": "execute_result"
    }
   ],
   "source": [
    "ema_baseline.shape"
   ]
  },
  {
   "cell_type": "code",
   "execution_count": 61,
   "metadata": {},
   "outputs": [],
   "source": [
    "df_aggregated = pd.merge(ema_baseline, df_sensor, on = [\"PID\",\"date\"], how=\"left\")"
   ]
  },
  {
   "cell_type": "code",
   "execution_count": 62,
   "metadata": {},
   "outputs": [
    {
     "data": {
      "text/plain": [
       "(27324, 2267)"
      ]
     },
     "execution_count": 62,
     "metadata": {},
     "output_type": "execute_result"
    }
   ],
   "source": [
    "df_aggregated.shape"
   ]
  },
  {
   "cell_type": "code",
   "execution_count": 63,
   "metadata": {},
   "outputs": [],
   "source": [
    "df_aggregated.to_csv(folder_path + \"aggregated_all_phaseII.csv\", index = False)"
   ]
  },
  {
   "cell_type": "code",
   "execution_count": null,
   "metadata": {},
   "outputs": [],
   "source": []
  }
 ],
 "metadata": {
  "kernelspec": {
   "display_name": "Python 3",
   "language": "python",
   "name": "python3"
  },
  "language_info": {
   "codemirror_mode": {
    "name": "ipython",
    "version": 3
   },
   "file_extension": ".py",
   "mimetype": "text/x-python",
   "name": "python",
   "nbconvert_exporter": "python",
   "pygments_lexer": "ipython3",
   "version": "3.6.4"
  }
 },
 "nbformat": 4,
 "nbformat_minor": 2
}

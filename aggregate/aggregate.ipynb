{
 "cells": [
  {
   "cell_type": "code",
   "execution_count": 1,
   "metadata": {},
   "outputs": [],
   "source": [
    "import numpy as np\n",
    "import pandas as pd\n",
    "from copy import deepcopy\n",
    "import os\n",
    "import json"
   ]
  },
  {
   "cell_type": "code",
   "execution_count": 2,
   "metadata": {},
   "outputs": [],
   "source": [
    "folder_path = \"../../LongitudinalDataSet/\""
   ]
  },
  {
   "cell_type": "markdown",
   "metadata": {},
   "source": [
    "# Get new Phase II"
   ]
  },
  {
   "cell_type": "markdown",
   "metadata": {},
   "source": [
    "## Select Pre&Post from old table"
   ]
  },
  {
   "cell_type": "code",
   "execution_count": 3,
   "metadata": {},
   "outputs": [
    {
     "name": "stderr",
     "output_type": "stream",
     "text": [
      "C:\\ProgramPool\\Anaconda\\lib\\site-packages\\IPython\\core\\interactiveshell.py:2728: DtypeWarning: Columns (382,395,399,412,416,429,433,446,450,463,466,467,468,471,472,475,476,477,479,484,491,499,502,506,508,509,510,511,512,515,516,519,520,521,523,528,535,543,546,550,552,553,554,555,556,559,560,563,564,565,567,572,579,587,590,594,596,597,598,599,600,603,604,607,608,609,611,616,623,631,634,638,640,641,642,643,644,647,648,651,652,653,655,660,667,675,678,682,684,685) have mixed types. Specify dtype option on import or set low_memory=False.\n",
      "  interactivity=interactivity, compiler=compiler, result=result)\n"
     ]
    }
   ],
   "source": [
    "df_aggregated_phaseII_old = pd.read_csv(folder_path + \"aggregated_phaseII.csv\")"
   ]
  },
  {
   "cell_type": "code",
   "execution_count": 4,
   "metadata": {},
   "outputs": [],
   "source": [
    "cols_from_old = df_aggregated_phaseII_old.columns.tolist()[0:1] + df_aggregated_phaseII_old.columns.tolist()[2:3] + df_aggregated_phaseII_old.columns.tolist()[-36:]"
   ]
  },
  {
   "cell_type": "code",
   "execution_count": 5,
   "metadata": {},
   "outputs": [],
   "source": [
    "pre_post = df_aggregated_phaseII_old[cols_from_old]"
   ]
  },
  {
   "cell_type": "code",
   "execution_count": 7,
   "metadata": {},
   "outputs": [],
   "source": [
    "pre_post = pd.read_csv(folder_path + \"survey_prepost_phaseI.csv\")"
   ]
  },
  {
   "cell_type": "markdown",
   "metadata": {},
   "source": [
    "## Select EMA as the base"
   ]
  },
  {
   "cell_type": "code",
   "execution_count": 34,
   "metadata": {},
   "outputs": [
    {
     "name": "stderr",
     "output_type": "stream",
     "text": [
      "C:\\ProgramPool\\Anaconda\\lib\\site-packages\\IPython\\core\\interactiveshell.py:2728: DtypeWarning: Columns (61,82,83) have mixed types. Specify dtype option on import or set low_memory=False.\n",
      "  interactivity=interactivity, compiler=compiler, result=result)\n"
     ]
    }
   ],
   "source": [
    "ema = pd.read_csv(folder_path + \"aggregated_ema_phaseI.csv\")"
   ]
  },
  {
   "cell_type": "code",
   "execution_count": 35,
   "metadata": {},
   "outputs": [
    {
     "data": {
      "text/plain": [
       "(18232, 93)"
      ]
     },
     "execution_count": 35,
     "metadata": {},
     "output_type": "execute_result"
    }
   ],
   "source": [
    "ema.shape"
   ]
  },
  {
   "cell_type": "code",
   "execution_count": 36,
   "metadata": {},
   "outputs": [],
   "source": [
    "ema_baseline = ema.merge(pre_post, on=[\"PID\"],how=\"left\")"
   ]
  },
  {
   "cell_type": "markdown",
   "metadata": {},
   "source": [
    "# Select sensor"
   ]
  },
  {
   "cell_type": "code",
   "execution_count": 16,
   "metadata": {},
   "outputs": [],
   "source": [
    "wks = [\"wkdy\", \"wkend\"]\n",
    "eps = [\"mo\",\"af\",\"ev\",\"ni\",\"\"]"
   ]
  },
  {
   "cell_type": "code",
   "execution_count": 17,
   "metadata": {},
   "outputs": [
    {
     "name": "stdout",
     "output_type": "stream",
     "text": [
      "dis_merge,_mo,_wkdy,_day.csv\n",
      "dis_merge,_mo,_wkend,_day.csv\n"
     ]
    },
    {
     "name": "stderr",
     "output_type": "stream",
     "text": [
      "C:\\ProgramPool\\Anaconda\\lib\\site-packages\\IPython\\core\\interactiveshell.py:2728: DtypeWarning: Columns (3) have mixed types. Specify dtype option on import or set low_memory=False.\n",
      "  interactivity=interactivity, compiler=compiler, result=result)\n"
     ]
    },
    {
     "name": "stdout",
     "output_type": "stream",
     "text": [
      "dis_merge,_af,_wkdy,_day.csv\n",
      "dis_merge,_af,_wkend,_day.csv\n",
      "dis_merge,_ev,_wkdy,_day.csv\n",
      "dis_merge,_ev,_wkend,_day.csv\n",
      "dis_merge,_ni,_wkdy,_day.csv\n",
      "dis_merge,_ni,_wkend,_day.csv\n",
      "dis_merge,_,_wkdy,_day.csv\n",
      "dis_merge,_,_wkend,_day.csv\n"
     ]
    }
   ],
   "source": [
    "dfdict_ep_wk_phaseII = {}\n",
    "for ep in eps:\n",
    "    dfdict_ep_wk_phaseII[ep] = {}\n",
    "    for wk in wks:\n",
    "        dfdict_ep_wk_phaseII[ep][wk] = {}\n",
    "        name = \",_\".join([\"dis_merge\", ep, wk, \"day\"]) + \".csv\"\n",
    "        print(name)\n",
    "        dfdict_ep_wk_phaseII[ep][wk] = pd.read_csv(folder_path + \"BehaviorFeatures_merge_day_PhaseI/\" + name)"
   ]
  },
  {
   "cell_type": "code",
   "execution_count": 18,
   "metadata": {},
   "outputs": [
    {
     "name": "stdout",
     "output_type": "stream",
     "text": [
      "0.31480075723496775\n",
      "0.4013582225387781\n",
      "0.3443454947018543\n",
      "0.3718571937321937\n",
      "0.33557161243564754\n",
      "0.3552132795188351\n",
      "0.4183711482231219\n",
      "0.39120469294080407\n",
      "0.20910923364322487\n",
      "0.22540459797404241\n"
     ]
    }
   ],
   "source": [
    "for ep in eps:\n",
    "    for wk in wks:\n",
    "        print(dfdict_ep_wk_phaseII[ep][wk].isna().sum().sum()/ float(dfdict_ep_wk_phaseII[ep][wk].shape[0] * dfdict_ep_wk_phaseII[ep][wk].shape[1]))"
   ]
  },
  {
   "cell_type": "code",
   "execution_count": 19,
   "metadata": {},
   "outputs": [],
   "source": [
    "for ep in eps:\n",
    "    dfdict_ep_wk_phaseII[ep][\"wk\"] = pd.concat([dfdict_ep_wk_phaseII[ep][\"wkdy\"], dfdict_ep_wk_phaseII[ep][\"wkend\"]], axis = 0)"
   ]
  },
  {
   "cell_type": "code",
   "execution_count": 22,
   "metadata": {},
   "outputs": [],
   "source": [
    "device_pid_mapping = pd.read_csv(folder_path + \"PID-device_PhaseI.csv\", dtype=str)\n",
    "dict_device_pid = {}\n",
    "for i, row in device_pid_mapping.iterrows():\n",
    "    for x in list(row[device_pid_mapping.columns[1:]]):\n",
    "        if (type(x) is str):\n",
    "            dict_device_pid[x.split(\"-\")[-1]] = row[\"PID\"]"
   ]
  },
  {
   "cell_type": "code",
   "execution_count": 11,
   "metadata": {},
   "outputs": [],
   "source": [
    "device_pid_mapping = pd.read_csv(folder_path + \"PID-device_PhaseII.csv\", dtype=str)\n",
    "dict_device_pid = {}\n",
    "for i, row in device_pid_mapping.iterrows():\n",
    "    for x in list(row[device_pid_mapping.columns[2:6]]):\n",
    "        if (type(x) is str):\n",
    "            dict_device_pid[x] = row[\"PID\"]"
   ]
  },
  {
   "cell_type": "code",
   "execution_count": 24,
   "metadata": {},
   "outputs": [],
   "source": [
    "def device_to_pid(device_id):\n",
    "    if (\"-\" in device_id):\n",
    "        x = device_id.split(\"-\")[-1]\n",
    "    if (len(x) == 12):\n",
    "        if (x in dict_device_pid):\n",
    "            return dict_device_pid[x]\n",
    "        else:\n",
    "            return \"NOMATCH\"\n",
    "    else:\n",
    "        return \"IDWRONG\""
   ]
  },
  {
   "cell_type": "code",
   "execution_count": 25,
   "metadata": {},
   "outputs": [],
   "source": [
    "dict_epoch = {\n",
    "    \"\":\"allday\",\n",
    "    \"mo\":\"morning\",\n",
    "    \"af\":\"afternoon\",\n",
    "    \"ev\":\"evening\",\n",
    "    \"ni\":\"night\"\n",
    "}"
   ]
  },
  {
   "cell_type": "code",
   "execution_count": 26,
   "metadata": {},
   "outputs": [
    {
     "name": "stdout",
     "output_type": "stream",
     "text": [
      "remove unique id:  0\n",
      "remove unique id:  0\n",
      "remove unique id:  0\n",
      "remove unique id:  0\n",
      "remove unique id:  0\n"
     ]
    }
   ],
   "source": [
    "for ep in eps:\n",
    "    cols = dfdict_ep_wk_phaseII[ep][\"wk\"].columns[2:]\n",
    "    rename_cols = {col : col + \"_\" + dict_epoch[ep] for col in cols}\n",
    "    dfdict_ep_wk_phaseII[ep][\"wk\"].rename(rename_cols, axis = 1,inplace = True)\n",
    "    dfdict_ep_wk_phaseII[ep][\"wk\"][\"PID\"] = dfdict_ep_wk_phaseII[ep][\"wk\"][\"device_id\"].apply(lambda x : device_to_pid(x))\n",
    "    print(\"remove unique id: \", len(set(list(dfdict_ep_wk_phaseII[ep][\"wk\"][\"device_id\"][dfdict_ep_wk_phaseII[ep][\"wk\"][\"PID\"] == \"NOMATCH\"]))))\n",
    "    dfdict_ep_wk_phaseII[ep][\"wk\"].drop(\"device_id\", axis = 1, inplace = True)\n",
    "    dfdict_ep_wk_phaseII[ep][\"wk\"] = dfdict_ep_wk_phaseII[ep][\"wk\"][dfdict_ep_wk_phaseII[ep][\"wk\"][\"PID\"] != \"NOMATCH\"]\n",
    "    cols = list(dfdict_ep_wk_phaseII[ep][\"wk\"].columns)\n",
    "    dfdict_ep_wk_phaseII[ep][\"wk\"] = dfdict_ep_wk_phaseII[ep][\"wk\"][[cols[0],cols[-1]] + cols[1:-1]]"
   ]
  },
  {
   "cell_type": "code",
   "execution_count": 27,
   "metadata": {},
   "outputs": [],
   "source": [
    "# In EMA and baseline, Remove PID without any sensor data \n",
    "pid_with_sensor = []\n",
    "for ep in eps:\n",
    "    pid_with_sensor += dfdict_ep_wk_phaseII[ep][\"wk\"][\"PID\"].tolist()\n",
    "pid_with_sensor = list(set(pid_with_sensor))\n",
    "ema_baseline[\"PID\"] = ema_baseline[\"PID\"].astype(str)\n",
    "ema_baseline = ema_baseline[ema_baseline[\"PID\"].apply(lambda x : str(x) in pid_with_sensor)]"
   ]
  },
  {
   "cell_type": "code",
   "execution_count": 28,
   "metadata": {},
   "outputs": [],
   "source": [
    "df_sensor = deepcopy(dfdict_ep_wk_phaseII[eps[0]][\"wk\"])\n",
    "for ep in eps[1:]:\n",
    "    df_sensor = df_sensor.merge(dfdict_ep_wk_phaseII[ep][\"wk\"], on = [\"PID\",\"date\"], how=\"left\")\n",
    "cols = list(df_sensor.columns[2:])\n",
    "len_feature = len(cols)\n",
    "new_idx = []\n",
    "for i in range(int(len_feature / 5)):\n",
    "    new_idx += list(np.array(range(5))*int(len_feature/5) + i)\n",
    "cols_new = list(df_sensor.columns[:2]) + list(np.array(cols)[new_idx])\n",
    "df_sensor = df_sensor[cols_new]"
   ]
  },
  {
   "cell_type": "code",
   "execution_count": 31,
   "metadata": {},
   "outputs": [
    {
     "data": {
      "text/plain": [
       "(15264, 2332)"
      ]
     },
     "execution_count": 31,
     "metadata": {},
     "output_type": "execute_result"
    }
   ],
   "source": [
    "df_sensor.shape"
   ]
  },
  {
   "cell_type": "code",
   "execution_count": 32,
   "metadata": {},
   "outputs": [
    {
     "data": {
      "text/plain": [
       "(15264, 2455)"
      ]
     },
     "execution_count": 32,
     "metadata": {},
     "output_type": "execute_result"
    }
   ],
   "source": [
    "df_aggregated.shape"
   ]
  },
  {
   "cell_type": "code",
   "execution_count": 41,
   "metadata": {},
   "outputs": [
    {
     "data": {
      "text/plain": [
       "Timedelta('105 days 00:00:00')"
      ]
     },
     "execution_count": 41,
     "metadata": {},
     "output_type": "execute_result"
    }
   ],
   "source": [
    "pd.to_datetime(\"2017-05-03\") - pd.to_datetime(\"2017-01-18\")"
   ]
  },
  {
   "cell_type": "code",
   "execution_count": null,
   "metadata": {},
   "outputs": [],
   "source": [
    "ema_baseline"
   ]
  },
  {
   "cell_type": "code",
   "execution_count": 33,
   "metadata": {},
   "outputs": [
    {
     "data": {
      "text/plain": [
       "(15264, 125)"
      ]
     },
     "execution_count": 33,
     "metadata": {},
     "output_type": "execute_result"
    }
   ],
   "source": [
    "ema_baseline.shape"
   ]
  },
  {
   "cell_type": "code",
   "execution_count": 29,
   "metadata": {},
   "outputs": [],
   "source": [
    "df_aggregated = pd.merge(ema_baseline, df_sensor, on = [\"PID\",\"date\"], how=\"left\")"
   ]
  },
  {
   "cell_type": "code",
   "execution_count": 30,
   "metadata": {},
   "outputs": [],
   "source": [
    "df_aggregated.to_csv(folder_path + \"aggregated_all_phaseI.csv\", index = False)"
   ]
  },
  {
   "cell_type": "code",
   "execution_count": null,
   "metadata": {},
   "outputs": [],
   "source": []
  }
 ],
 "metadata": {
  "kernelspec": {
   "display_name": "Python 3",
   "language": "python",
   "name": "python3"
  },
  "language_info": {
   "codemirror_mode": {
    "name": "ipython",
    "version": 3
   },
   "file_extension": ".py",
   "mimetype": "text/x-python",
   "name": "python",
   "nbconvert_exporter": "python",
   "pygments_lexer": "ipython3",
   "version": "3.6.4"
  }
 },
 "nbformat": 4,
 "nbformat_minor": 2
}

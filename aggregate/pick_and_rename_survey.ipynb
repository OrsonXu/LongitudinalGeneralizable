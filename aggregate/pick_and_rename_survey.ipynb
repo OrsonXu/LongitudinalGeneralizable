{
 "cells": [
  {
   "cell_type": "code",
   "execution_count": 14,
   "metadata": {},
   "outputs": [],
   "source": [
    "import numpy as np\n",
    "import pandas as pd\n",
    "from copy import deepcopy\n",
    "import os\n",
    "import json"
   ]
  },
  {
   "cell_type": "code",
   "execution_count": 8,
   "metadata": {},
   "outputs": [],
   "source": [
    "folder_path = \"../../LongitudinalDataSet/\""
   ]
  },
  {
   "cell_type": "markdown",
   "metadata": {},
   "source": [
    "# Select Phase I prepost survey"
   ]
  },
  {
   "cell_type": "code",
   "execution_count": 4,
   "metadata": {},
   "outputs": [],
   "source": [
    "df_survey_phaseI = pd.read_csv(folder_path + \"survey_pre_post_phaseI.csv\")"
   ]
  },
  {
   "cell_type": "code",
   "execution_count": 5,
   "metadata": {},
   "outputs": [],
   "source": [
    "mapping_survey = pd.read_csv(folder_path + \"survey-mapping.csv\")"
   ]
  },
  {
   "cell_type": "code",
   "execution_count": 6,
   "metadata": {},
   "outputs": [],
   "source": [
    "dict_mapping_survey = {}\n",
    "for i, row in mapping_survey.iterrows():\n",
    "    dict_mapping_survey[row[\"PhaseI\"]] = row[\"PhaseII\"]"
   ]
  },
  {
   "cell_type": "code",
   "execution_count": 7,
   "metadata": {},
   "outputs": [
    {
     "data": {
      "text/plain": [
       "True"
      ]
     },
     "execution_count": 7,
     "metadata": {},
     "output_type": "execute_result"
    }
   ],
   "source": [
    "type(list(dict_mapping_survey.keys())[7]) is float"
   ]
  },
  {
   "cell_type": "code",
   "execution_count": 8,
   "metadata": {},
   "outputs": [],
   "source": [
    "phaseI_name = [j for i in [[x + \"1\", x + \"2\"] for x in np.delete(list(dict_mapping_survey.keys()), 7)]  for j in i]"
   ]
  },
  {
   "cell_type": "code",
   "execution_count": 9,
   "metadata": {},
   "outputs": [],
   "source": [
    "rename_dict = {}\n",
    "for name in phaseI_name:\n",
    "    if (name[-1] == \"1\"):\n",
    "        rename_dict[name] = dict_mapping_survey[name[:-1]] + \"_PRE\"\n",
    "    else:\n",
    "        rename_dict[name] = dict_mapping_survey[name[:-1]] + \"_POST\"\n",
    "rename_dict[\"ID\"] = \"PID\""
   ]
  },
  {
   "cell_type": "code",
   "execution_count": 11,
   "metadata": {},
   "outputs": [],
   "source": [
    "df_survey_phaseI_selected = deepcopy(df_survey_phaseI[[\"ID\"] + phaseI_name])"
   ]
  },
  {
   "cell_type": "code",
   "execution_count": 14,
   "metadata": {},
   "outputs": [],
   "source": [
    "df_survey_phaseI_selected.rename(rename_dict, axis = 1,inplace=True)"
   ]
  },
  {
   "cell_type": "code",
   "execution_count": 16,
   "metadata": {},
   "outputs": [],
   "source": [
    "df_survey_phaseI_selected.to_csv(folder_path + \"survey_prepost_phaseI.csv\", index = False)"
   ]
  },
  {
   "cell_type": "markdown",
   "metadata": {},
   "source": [
    "# Rename Phase II survey"
   ]
  },
  {
   "cell_type": "code",
   "execution_count": 18,
   "metadata": {},
   "outputs": [
    {
     "name": "stderr",
     "output_type": "stream",
     "text": [
      "C:\\ProgramPool\\Anaconda\\lib\\site-packages\\IPython\\core\\interactiveshell.py:2728: DtypeWarning: Columns (382,395,399,412,416,429,433,446,450,463,466,467,468,471,472,475,476,477,479,484,491,499,502,506,508,509,510,511,512,515,516,519,520,521,523,528,535,543,546,550,552,553,554,555,556,559,560,563,564,565,567,572,579,587,590,594,596,597,598,599,600,603,604,607,608,609,611,616,623,631,634,638,640,641,642,643,644,647,648,651,652,653,655,660,667,675,678,682,684,685) have mixed types. Specify dtype option on import or set low_memory=False.\n",
      "  interactivity=interactivity, compiler=compiler, result=result)\n"
     ]
    }
   ],
   "source": [
    "df_aggregated_phaseII = pd.read_csv(folder_path + \"aggregated-phaseII.csv\")"
   ]
  },
  {
   "cell_type": "code",
   "execution_count": 25,
   "metadata": {},
   "outputs": [],
   "source": [
    "names = [x for x in df_aggregated_phaseII.columns.tolist() if (\"_B1\" == x[-3:] or \"_B2\" == x[-3:])]"
   ]
  },
  {
   "cell_type": "code",
   "execution_count": 27,
   "metadata": {},
   "outputs": [],
   "source": [
    "rename_dict = {}\n",
    "for name in names:\n",
    "    rename_dict[name] = name[:-3] + \"_PRE\""
   ]
  },
  {
   "cell_type": "code",
   "execution_count": 29,
   "metadata": {},
   "outputs": [],
   "source": [
    "df_aggregated_phaseII.rename(rename_dict, axis = 1, inplace=True)"
   ]
  },
  {
   "cell_type": "code",
   "execution_count": 30,
   "metadata": {},
   "outputs": [],
   "source": [
    "df_aggregated_phaseII.to_csv(folder_path + \"aggregated_phaseII.csv\", index = False)"
   ]
  },
  {
   "cell_type": "markdown",
   "metadata": {},
   "source": [
    "# Get new Phase II"
   ]
  },
  {
   "cell_type": "markdown",
   "metadata": {},
   "source": [
    "## Select from old table"
   ]
  },
  {
   "cell_type": "code",
   "execution_count": 3,
   "metadata": {},
   "outputs": [
    {
     "name": "stderr",
     "output_type": "stream",
     "text": [
      "C:\\ProgramPool\\Anaconda\\lib\\site-packages\\IPython\\core\\interactiveshell.py:2728: DtypeWarning: Columns (382,395,399,412,416,429,433,446,450,463,466,467,468,471,472,475,476,477,479,484,491,499,502,506,508,509,510,511,512,515,516,519,520,521,523,528,535,543,546,550,552,553,554,555,556,559,560,563,564,565,567,572,579,587,590,594,596,597,598,599,600,603,604,607,608,609,611,616,623,631,634,638,640,641,642,643,644,647,648,651,652,653,655,660,667,675,678,682,684,685) have mixed types. Specify dtype option on import or set low_memory=False.\n",
      "  interactivity=interactivity, compiler=compiler, result=result)\n"
     ]
    }
   ],
   "source": [
    "df_aggregated_phaseII = pd.read_csv(folder_path + \"aggregated_phaseII.csv\")"
   ]
  },
  {
   "cell_type": "code",
   "execution_count": 48,
   "metadata": {},
   "outputs": [
    {
     "data": {
      "text/plain": [
       "'2018-01-18'"
      ]
     },
     "execution_count": 48,
     "metadata": {},
     "output_type": "execute_result"
    }
   ],
   "source": [
    "min(df_aggregated_phaseII[\"date\"])"
   ]
  },
  {
   "cell_type": "code",
   "execution_count": 49,
   "metadata": {},
   "outputs": [
    {
     "data": {
      "text/plain": [
       "'2018-05-10'"
      ]
     },
     "execution_count": 49,
     "metadata": {},
     "output_type": "execute_result"
    }
   ],
   "source": [
    "max(df_aggregated_phaseII[\"date\"])"
   ]
  },
  {
   "cell_type": "code",
   "execution_count": 4,
   "metadata": {},
   "outputs": [],
   "source": [
    "cols_from_old = df_aggregated_phaseII.columns.tolist()[:25] + df_aggregated_phaseII.columns.tolist()[-36:]"
   ]
  },
  {
   "cell_type": "code",
   "execution_count": 52,
   "metadata": {},
   "outputs": [],
   "source": [
    "df_aggregated_phaseII_old_selected = deepcopy(df_aggregated_phaseII[cols_from_old])"
   ]
  },
  {
   "cell_type": "markdown",
   "metadata": {},
   "source": [
    "## Process raw table"
   ]
  },
  {
   "cell_type": "code",
   "execution_count": 59,
   "metadata": {},
   "outputs": [],
   "source": [
    "wks = [\"_wkdy\", \"_wkend\"]\n",
    "eps = [\"_mo\",\"_af\",\"_ev\",\"_ni\"]"
   ]
  },
  {
   "cell_type": "code",
   "execution_count": 64,
   "metadata": {},
   "outputs": [
    {
     "name": "stdout",
     "output_type": "stream",
     "text": [
      "dis_merge,_mo,_wkdy,_day.csv\n"
     ]
    },
    {
     "name": "stderr",
     "output_type": "stream",
     "text": [
      "C:\\ProgramPool\\Anaconda\\lib\\site-packages\\IPython\\core\\interactiveshell.py:2728: DtypeWarning: Columns (9,10,11,12,13,14,15,55,56,57,58,59,60,61,62,63,64,65,66,67,68,69,70,71,72,73,74,75,76,77,78,79,80,81,82,83,84,85,86,87,88,89,90,91,92,93,189,190,191,192,193,194,195,196,197,198,199,200,201,202,203,204,205,206,207,208,209,210,211,212,213,214,215,216,217,218,219,220,221,222,223,224,225,226,227,228,229,230,231,232,233,234,235,236,237,238,239,240,241,242,243,244,245,246,247,248,249,250,251,252,253,254,255,256,257,258,259,260,261,262,263,264,265,266,267,268,269,270,271,272,273,274,275,276,277,278,279,280,281,282,283,300,301,302,303,304,305,306,307,308,309,310,311,312,313,314,315,372,373,374,375,376,377,378,379,380,381,382,383,384,385,386,387,388,389,390,391,392,393,394,395,396,397,398,399,412,413,414,415,416,417,421,422) have mixed types. Specify dtype option on import or set low_memory=False.\n",
      "  interactivity=interactivity, compiler=compiler, result=result)\n"
     ]
    },
    {
     "name": "stdout",
     "output_type": "stream",
     "text": [
      "dis_merge,_mo,_wkend,_day.csv\n"
     ]
    },
    {
     "name": "stderr",
     "output_type": "stream",
     "text": [
      "C:\\ProgramPool\\Anaconda\\lib\\site-packages\\IPython\\core\\interactiveshell.py:2728: DtypeWarning: Columns (9,10,11,12,13,14,15) have mixed types. Specify dtype option on import or set low_memory=False.\n",
      "  interactivity=interactivity, compiler=compiler, result=result)\n"
     ]
    },
    {
     "name": "stdout",
     "output_type": "stream",
     "text": [
      "dis_merge,_af,_wkdy,_day.csv\n"
     ]
    },
    {
     "name": "stderr",
     "output_type": "stream",
     "text": [
      "C:\\ProgramPool\\Anaconda\\lib\\site-packages\\IPython\\core\\interactiveshell.py:2728: DtypeWarning: Columns (9,10,11,12,13,14,15,55,56,57,58,59,60,61,62,63,64,65,66,67,68,69,70,71,72,73,74,75,76,77,78,79,80,81,82,83,84,85,86,87,88,89,90,91,92,93,283,372,373,374,375,376,377,378,379,380,381,382,383,384,385,386,387,388,389,390,391,392,393,394,395,396,397,398,399) have mixed types. Specify dtype option on import or set low_memory=False.\n",
      "  interactivity=interactivity, compiler=compiler, result=result)\n"
     ]
    },
    {
     "name": "stdout",
     "output_type": "stream",
     "text": [
      "dis_merge,_af,_wkend,_day.csv\n",
      "dis_merge,_ev,_wkdy,_day.csv\n",
      "dis_merge,_ev,_wkend,_day.csv\n",
      "dis_merge,_ni,_wkdy,_day.csv\n"
     ]
    },
    {
     "name": "stderr",
     "output_type": "stream",
     "text": [
      "C:\\ProgramPool\\Anaconda\\lib\\site-packages\\IPython\\core\\interactiveshell.py:2728: DtypeWarning: Columns (9,10,11,12,13,14,15,55,56,57,58,59,60,61,62,63,64,65,66,67,68,69,70,71,72,73,74,75,76,77,78,79,80,81,82,83,84,85,86,87,88,89,90,91,92,93,189,190,191,192,193,194,195,196,197,198,199,200,201,202,203,204,205,206,207,208,209,210,211,212,213,214,215,216,217,218,219,220,221,222,223,224,225,226,227,228,229,230,231,232,233,234,235,236,237,238,239,240,241,242,243,244,245,246,247,248,249,250,251,252,253,254,255,256,257,258,259,260,261,262,263,264,265,266,267,268,269,270,271,272,273,274,275,276,277,278,279,280,281,282,283,300,301,302,303,304,305,306,307,308,309,310,311,312,313,314,315,372,373,374,375,376,377,378,379,380,381,382,383,384,385,386,387,388,389,390,391,392,393,394,395,396,397,398,399,412,413,414,415,416,417,418,419,420,421,422,423) have mixed types. Specify dtype option on import or set low_memory=False.\n",
      "  interactivity=interactivity, compiler=compiler, result=result)\n"
     ]
    },
    {
     "name": "stdout",
     "output_type": "stream",
     "text": [
      "dis_merge,_ni,_wkend,_day.csv\n"
     ]
    },
    {
     "name": "stderr",
     "output_type": "stream",
     "text": [
      "C:\\ProgramPool\\Anaconda\\lib\\site-packages\\IPython\\core\\interactiveshell.py:2728: DtypeWarning: Columns (9,10,11,12,13,14,15,89,372,373,374,375,376,377,378,379,380,381,382,383,384,385,386,387,388,389,390,391,392,393,394,395,396,397,398,399) have mixed types. Specify dtype option on import or set low_memory=False.\n",
      "  interactivity=interactivity, compiler=compiler, result=result)\n"
     ]
    }
   ],
   "source": [
    "dfdict_ep_wk_phaseII = {}\n",
    "for ep in eps:\n",
    "    dfdict_ep_wk_phaseII[ep] = {}\n",
    "    for wk in wks:\n",
    "        dfdict_ep_wk_phaseII[ep][wk] = {}\n",
    "        name = \",\".join([\"dis_merge\", ep, wk, \"_day\"]) + \".csv\"\n",
    "        print(name)\n",
    "        dfdict_ep_wk_phaseII[ep][wk] = pd.read_csv(folder_path + \"BehaviorFeatures_merge_day_PhaseII/\" + name)"
   ]
  },
  {
   "cell_type": "markdown",
   "metadata": {},
   "source": [
    "# Prepare CMU I rename file"
   ]
  },
  {
   "cell_type": "code",
   "execution_count": 3,
   "metadata": {},
   "outputs": [],
   "source": [
    "rename_folder_path = r\"C:\\Users\\orson\\Desktop\\Myself\\HCI\\UWiSchool\\Projects\\UWEXP\\Code\\script-input\\emas\\\\\""
   ]
  },
  {
   "cell_type": "code",
   "execution_count": 4,
   "metadata": {},
   "outputs": [],
   "source": [
    "raw_folder_path = r\"C:\\Users\\orson\\Desktop\\Myself\\HCI\\UWiSchool\\Projects\\UWEXP\\Data\\UWCMU_baseline_cleaned\\\\\""
   ]
  },
  {
   "cell_type": "code",
   "execution_count": 197,
   "metadata": {},
   "outputs": [],
   "source": [
    "d_epoch = {\n",
    "    \"morning\":\"morning\",\n",
    "    \"evening\":\"evening\",\n",
    "    \"midday1\":\"midday\",\n",
    "    \"midday2\":\"midday\"\n",
    "}"
   ]
  },
  {
   "cell_type": "code",
   "execution_count": 229,
   "metadata": {},
   "outputs": [],
   "source": [
    "epoch = \"evening\"\n",
    "raw_data_file_name  = epoch + \"-numVal-internalID-cmuI.csv\"\n",
    "raw_phaseII_data_file_name  = epoch + \"-numVal-internalID-cmuII.csv\"\n",
    "\n",
    "phaseII_data_file_name = \"CMU-phaseII\\columnRenaming-\" + d_epoch[epoch] + \"EMA-cmu.json\"\n",
    "phaseI_data_file_name = \"UW-phaseI\\columnRenaming-\" + d_epoch[epoch] + \"EMA.json\"\n",
    "\n",
    "output_data_file_name = \"CMU-phaseI\\columnRenaming-\" + d_epoch[epoch] + \"EMA-cmu.json\"\n",
    "output_data_file_name2 = \"CMU-phaseI\\columnNames-\" + d_epoch[epoch] + \"EMA-cmu.txt\""
   ]
  },
  {
   "cell_type": "code",
   "execution_count": 230,
   "metadata": {},
   "outputs": [],
   "source": [
    "df_raw_data = pd.read_csv(raw_folder_path + raw_data_file_name)"
   ]
  },
  {
   "cell_type": "code",
   "execution_count": 231,
   "metadata": {},
   "outputs": [],
   "source": [
    "df_raw_phaseII_data = pd.read_csv(raw_folder_path + raw_phaseII_data_file_name)"
   ]
  },
  {
   "cell_type": "code",
   "execution_count": 232,
   "metadata": {},
   "outputs": [],
   "source": [
    "raw_colnames = df_raw_data.iloc[0,:].to_dict()\n",
    "raw_colnames_phaseII = df_raw_phaseII_data.iloc[0,:].to_dict()"
   ]
  },
  {
   "cell_type": "code",
   "execution_count": 233,
   "metadata": {},
   "outputs": [],
   "source": [
    "# to have a column new name txt file\n",
    "with open(rename_folder_path + output_data_file_name, \"r\") as f:\n",
    "    rename_raw_colnames = json.load(f)\n",
    "row_cols = df_raw_data.columns.tolist()\n",
    "rename_cols = [rename_raw_colnames[c] for c in row_cols]\n",
    "with open(rename_folder_path + output_data_file_name2, \"w\") as f:\n",
    "    f.write(\"\\n\".join(rename_cols))"
   ]
  },
  {
   "cell_type": "code",
   "execution_count": 203,
   "metadata": {},
   "outputs": [],
   "source": [
    "with open(rename_folder_path + phaseII_data_file_name, \"r\") as f:\n",
    "    rename_colnames1 = json.load(f)\n",
    "with open(rename_folder_path + phaseI_data_file_name, \"r\") as f:\n",
    "    rename_colnames2 = json.load(f)"
   ]
  },
  {
   "cell_type": "code",
   "execution_count": 204,
   "metadata": {},
   "outputs": [
    {
     "name": "stdout",
     "output_type": "stream",
     "text": [
      "---------check for 2-----------\n",
      "ip_address\n",
      "---vs---\n",
      "IP Address\n",
      "---------check for 2-----------\n",
      "location_latitude\n",
      "---vs---\n",
      "LocationLatitude - Location Latitude\n",
      "---------check for 2-----------\n",
      "location_longitude\n",
      "---vs---\n",
      "LocationLongitude - Location Longitude\n",
      "---------check for 1-----------\n",
      "activity\n",
      "---vs---\n",
      "Activity - Activity - Selected Choice\n",
      "---------check for 2-----------\n",
      "sleep_time_bed\n",
      "---vs---\n",
      "Sleep_1t - Sleep-Last night, I went to bed at: (Example: 10:15pm)\n",
      "---------check for 2-----------\n",
      "sleep_time_sleep\n",
      "---vs---\n",
      "Sleep_2t - SleepI actually fell asleep at:\n",
      "---------check for 2-----------\n",
      "sleep_time_wakeup\n",
      "---vs---\n",
      "Sleep_4t - Sleep-This morning, I finally woke up at: (Example: 9:45am)\n",
      "---------check for 2-----------\n",
      "sleep_wakeup_min\n",
      "---vs---\n",
      "Sleep_6t - Sleep-Altogether, these awakenings lasted a total of _____ minutes.\n",
      "---------check for 2-----------\n",
      "feel_frustrated\n",
      "---vs---\n",
      "affect_3 - affect Frustrated\n",
      "?????????????????????????\n",
      "QID75\n",
      "Social_1 - social-number of social interactions\n",
      "????\n",
      "social_interactions_connected\n",
      "social_interactions_num\n",
      "?????????????????????????\n",
      "?????????????????????????\n",
      "QID76\n",
      "Social_2 - social-number of face-to-face interactions\n",
      "????\n",
      "social_interactions_feelings\n",
      "social_interactions_face2face\n",
      "?????????????????????????\n",
      "---------check for 1-----------\n",
      "demand\n",
      "---vs---\n",
      "Stress_2 - stress-Which of the following describes the kinds of demands you are currently experiencing? - Selected Choice\n",
      "---------check for 2-----------\n",
      "demand_other_text\n",
      "---vs---\n",
      "Stress_2_11_TEXT - stress-Which of the following describes the kinds of demands you are currently experiencing? - Other (enter in space provided) - Text\n",
      "---------check for 2-----------\n",
      "strategy_primary_other_text\n",
      "---vs---\n",
      "Stress_3_14_TEXT - stress-What was your primary strategy for managing the stress just described? - used another strategy (enter in space provided) - Text\n",
      "---------check for 2-----------\n",
      "strategy_success\n",
      "---vs---\n",
      "Stress_4 - stress-How successful were you at coping with stress?\n",
      "---------check for 2-----------\n",
      "not_in_control\n",
      "---vs---\n",
      "Stress_5 - stress-to what extent do you feel like you are unable to control the important things in your life?\n",
      "---------check for 2-----------\n",
      "stimulant_yesno\n",
      "---vs---\n",
      "SubstanceUse_1 - substance use-Did you use caffeine, energy drinks, or stimulants\n",
      "---------check for 2-----------\n",
      "alcohol_yesno\n",
      "---vs---\n",
      "SubstanceUse_2 - substance use-Did you drink alcohol?\n",
      "---------check for 2-----------\n",
      "drug_yesno\n",
      "---vs---\n",
      "SubstanceUse_5 - substance use-illegal drugs\n",
      "---------check for 1-----------\n",
      "drug\n",
      "---vs---\n",
      "SubstanceUse_6 - substance use-what drug did you use? - Selected Choice\n"
     ]
    }
   ],
   "source": [
    "rename_raw_colnames = {}\n",
    "for col in raw_colnames:\n",
    "    flag1 = col in rename_colnames1\n",
    "    flag2 = col in rename_colnames2\n",
    "    if (flag1 and flag2):\n",
    "        if(rename_colnames1[col] == rename_colnames2[col]):\n",
    "            rename_raw_colnames[col] = rename_colnames1[col]\n",
    "        else:\n",
    "            print(\"?????????????????????????\")\n",
    "            print(col)\n",
    "            print(raw_colnames[col])\n",
    "            print(\"????\")\n",
    "            print(rename_colnames1[col])\n",
    "            print(rename_colnames2[col])\n",
    "            print(\"?????????????????????????\")\n",
    "    elif (not flag1 and flag2):\n",
    "        rename_raw_colnames[col] = rename_colnames2[col]\n",
    "        print(\"---------check for 2-----------\")\n",
    "        print(rename_colnames2[col])\n",
    "        print(\"---vs---\")\n",
    "        print(raw_colnames[col])\n",
    "    elif (flag1 and not flag2):\n",
    "        rename_raw_colnames[col] = rename_colnames1[col]\n",
    "        print(\"---------check for 1-----------\")\n",
    "        print(rename_colnames1[col])\n",
    "        print(\"---vs---\")\n",
    "        print(raw_colnames[col])\n",
    "    else:\n",
    "        print(\"-----------------------------not----------------------------------\")\n",
    "        print(col)\n",
    "        print(raw_colnames[col])\n",
    "        print(\"-----------------------------not----------------------------------\")\n"
   ]
  },
  {
   "cell_type": "code",
   "execution_count": 205,
   "metadata": {},
   "outputs": [
    {
     "data": {
      "text/plain": [
       "2"
      ]
     },
     "execution_count": 205,
     "metadata": {},
     "output_type": "execute_result"
    }
   ],
   "source": [
    "len(raw_colnames) - len(rename_raw_colnames)"
   ]
  },
  {
   "cell_type": "code",
   "execution_count": 207,
   "metadata": {},
   "outputs": [],
   "source": [
    "if (d_epoch[epoch] == \"morning\"):\n",
    "    # morning\n",
    "    rename_raw_colnames[\"QID75\"] = \"social_interactions_num\"\n",
    "    rename_raw_colnames[\"QID76\"] = \"social_interactions_face2face\"\n",
    "elif (d_epoch[epoch] == \"midday\"):\n",
    "    # midday\n",
    "    rename_raw_colnames[\"QID72\"] = \"social_interactions_num\"\n",
    "    rename_raw_colnames[\"QID71\"] = \"social_interactions_face2face\"\n",
    "elif (d_epoch[epoch] == \"evening\"):\n",
    "    # evening\n",
    "    rename_raw_colnames[\"QID10\"] = \"social_interactions_num\"\n",
    "    rename_raw_colnames[\"QID11\"] = \"social_interactions_face2face\"\n",
    "    rename_raw_colnames[\"QID23\"] = \"not_in_control\"\n",
    "    rename_raw_colnames[\"QID26\"] = \"cmu_belongingness\"\n",
    "    rename_raw_colnames[\"QID27\"] = \"unfair_yesno\"\n",
    "    rename_raw_colnames[\"QID32\"] = \"workload_excessive\"\n",
    "    rename_raw_colnames[\"QID33\"] = \"workload_drained\"\n",
    "    rename_raw_colnames[\"QID35\"] = \"workload_noselfcare\"\n",
    "    rename_raw_colnames[\"QID36\"] = \"prof_cares\"\n",
    "    rename_raw_colnames[\"QID37\"] = \"students_stressed\"\n",
    "    rename_raw_colnames[\"QID38\"] = \"stduents_sleep\"\n",
    "    rename_raw_colnames[\"QID40_1\"] = \"fatigue_concentration\"\n",
    "    rename_raw_colnames[\"QID45\"] = \"skipped_class_yesno\"\n",
    "    rename_raw_colnames[\"QID46_5_TEXT\"] = \"skipped_class_reason_other\"\n",
    "    rename_raw_colnames[\"QID50\"] = \"day_best_level\""
   ]
  },
  {
   "cell_type": "code",
   "execution_count": 208,
   "metadata": {},
   "outputs": [],
   "source": [
    "with open(rename_folder_path + output_data_file_name, \"w\") as f:\n",
    "    json.dump(rename_raw_colnames, f)"
   ]
  },
  {
   "cell_type": "code",
   "execution_count": 277,
   "metadata": {},
   "outputs": [],
   "source": [
    "epoch = \"morning\"\n",
    "\n",
    "scale_grouping_file_cmu = \"CMU-phaseII\\scale_grouping-columns-\" + epoch + \"EMA-cmu.json\"\n",
    "scale_grouping_file_uw = \"UW-phaseI\\scale_grouping-columns-\" + epoch + \"EMA.json\"\n",
    "col_name_file = \"CMU-phaseI\\columnNames-\" + epoch + \"EMA-cmu.txt\"\n",
    "scale_grouping_file_new = \"CMU-phaseI\\scale_grouping-columns-\" + epoch + \"EMA-cmu.json\""
   ]
  },
  {
   "cell_type": "code",
   "execution_count": 278,
   "metadata": {},
   "outputs": [],
   "source": [
    "with open(rename_folder_path + scale_grouping_file_cmu, \"r\") as f:\n",
    "    scale_grouping_cmu = json.load(f)\n",
    "with open(rename_folder_path + scale_grouping_file_uw, \"r\") as f:\n",
    "    scale_grouping_uw = json.load(f)"
   ]
  },
  {
   "cell_type": "code",
   "execution_count": 279,
   "metadata": {},
   "outputs": [],
   "source": [
    "with open(rename_folder_path + col_name_file, \"r\") as f:\n",
    "    col_names = f.readlines()\n",
    "col_names = [x.strip() for x in col_names]"
   ]
  },
  {
   "cell_type": "code",
   "execution_count": 280,
   "metadata": {},
   "outputs": [
    {
     "data": {
      "text/plain": [
       "dict_keys(['time', 'default', 'identifier', 'activity', 'sleep', 'affect', 'minfulness', 'social', 'stress', 'coping', 'stress_forecast', 'substance'])"
      ]
     },
     "execution_count": 280,
     "metadata": {},
     "output_type": "execute_result"
    }
   ],
   "source": [
    "scale_grouping_cmu.keys()"
   ]
  },
  {
   "cell_type": "code",
   "execution_count": 281,
   "metadata": {},
   "outputs": [],
   "source": [
    "name_to_group_cmu = {}\n",
    "for k, l in scale_grouping_cmu.items():\n",
    "    for i in l:\n",
    "        name_to_group_cmu[i] = k\n",
    "name_to_group_uw = {}\n",
    "for k, l in scale_grouping_uw.items():\n",
    "    for i in l:\n",
    "        name_to_group_uw[i] = k"
   ]
  },
  {
   "cell_type": "code",
   "execution_count": 282,
   "metadata": {},
   "outputs": [],
   "source": [
    "new_name_to_group = {}\n",
    "for i in col_names:\n",
    "    flag1 = i in name_to_group_cmu\n",
    "    flag2 = i in name_to_group_uw\n",
    "    if (flag1 and flag2):\n",
    "        group1 = name_to_group_cmu[i]\n",
    "        group2 = name_to_group_uw[i]\n",
    "        if (group1 != group2):\n",
    "            print(\"?????????????\")\n",
    "            print(i)\n",
    "            print(group1)\n",
    "            print(group2)\n",
    "            print(\"?????????????\")\n",
    "        else:\n",
    "            new_name_to_group[i] = group1\n",
    "    elif (flag1 and not flag2):\n",
    "        group1 = name_to_group_cmu[i]\n",
    "        new_name_to_group[i] = group1\n",
    "    elif (not flag1 and flag2):\n",
    "        group2 = name_to_group_uw[i]\n",
    "        new_name_to_group[i] = group2\n",
    "    else:\n",
    "        print(\"-----------------\")\n",
    "        print(i)\n",
    "        print(\"-----------------\")"
   ]
  },
  {
   "cell_type": "code",
   "execution_count": 283,
   "metadata": {},
   "outputs": [],
   "source": [
    "if (epoch == \"evening\"):\n",
    "    new_name_to_group[\"unfair_yesno\"] = \"discrimination\"\n",
    "    new_name_to_group[\"emotion_support\"] = \"resources\"\n",
    "    new_name_to_group[\"skipped_class_reason_other\"] = \"fatigue\""
   ]
  },
  {
   "cell_type": "code",
   "execution_count": 284,
   "metadata": {},
   "outputs": [],
   "source": [
    "scale_grouping_new = {}\n",
    "for k, v in new_name_to_group.items():\n",
    "    if (v not in scale_grouping_new):\n",
    "        scale_grouping_new[v] = [k]\n",
    "    else:\n",
    "        scale_grouping_new[v].append(k)"
   ]
  },
  {
   "cell_type": "code",
   "execution_count": 285,
   "metadata": {},
   "outputs": [],
   "source": [
    "with open(rename_folder_path + scale_grouping_file_new, \"w\") as f:\n",
    "    json.dump(scale_grouping_new, f)"
   ]
  },
  {
   "cell_type": "code",
   "execution_count": null,
   "metadata": {},
   "outputs": [],
   "source": []
  }
 ],
 "metadata": {
  "kernelspec": {
   "display_name": "Python 3",
   "language": "python",
   "name": "python3"
  },
  "language_info": {
   "codemirror_mode": {
    "name": "ipython",
    "version": 3
   },
   "file_extension": ".py",
   "mimetype": "text/x-python",
   "name": "python",
   "nbconvert_exporter": "python",
   "pygments_lexer": "ipython3",
   "version": "3.6.4"
  }
 },
 "nbformat": 4,
 "nbformat_minor": 2
}
